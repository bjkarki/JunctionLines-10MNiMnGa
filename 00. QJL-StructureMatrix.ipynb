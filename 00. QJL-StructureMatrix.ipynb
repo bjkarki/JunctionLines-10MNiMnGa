{
 "cells": [
  {
   "cell_type": "markdown",
   "id": "10dc669a-6e52-45ba-ab3a-e7f6c2b19b9b",
   "metadata": {
    "tags": []
   },
   "source": [
    "#### Import external packages"
   ]
  },
  {
   "cell_type": "code",
   "execution_count": 1,
   "id": "b5b0f0cb-5460-48a2-b666-eb9fdd5da4c6",
   "metadata": {},
   "outputs": [],
   "source": [
    "import numpy as np\n",
    "from numpy.linalg import inv, norm\n",
    "from matplotlib import pyplot as plt\n",
    "np.set_printoptions(precision=6)\n",
    "%matplotlib inline"
   ]
  },
  {
   "cell_type": "markdown",
   "id": "a1378881-ba1f-404f-a37e-d27eb9c05ef6",
   "metadata": {
    "tags": []
   },
   "source": [
    "#### Import twin modules & NMG lattice parameters, irratinal elements"
   ]
  },
  {
   "cell_type": "code",
   "execution_count": 2,
   "id": "663ea06f-0693-4717-82f6-cfc81433c52e",
   "metadata": {},
   "outputs": [],
   "source": [
    "## twin modules\n",
    "from nmgtwinning import *\n",
    "\n",
    "## Irrational elements NC twins\n",
    "q = (2*am*bm*np.cos(gamma) - np.sqrt(am**4 + bm**4 + 2*am**2 * bm**2 * np.cos(2*gamma)))/(am**2 - bm**2)\n",
    "r = (2*am*bm*np.cos(gamma) + np.sqrt(am**4 + bm**4 + 2*am**2 * bm**2 * np.cos(2*gamma)))/(am**2 - bm**2)"
   ]
  },
  {
   "cell_type": "markdown",
   "id": "0eedab67-8c7b-410a-b2cd-178a8e07f404",
   "metadata": {
    "tags": []
   },
   "source": [
    "#### Transformation Matrix\n",
    "\n",
    "$\\mathbf{V}_1 \\leftrightarrow \\mathbf{R}$"
   ]
  },
  {
   "cell_type": "code",
   "execution_count": 3,
   "id": "c6572566-93f3-43de-a650-a22e97d71d15",
   "metadata": {},
   "outputs": [
    {
     "name": "stdout",
     "output_type": "stream",
     "text": [
      "ᵣPᵤ₁ =\n",
      "[[ 1.024005 -0.006582  0.      ]\n",
      " [ 0.        1.019183  0.      ]\n",
      " [ 0.        0.        0.957476]]\n"
     ]
    }
   ],
   "source": [
    "# U₁ lattice vectors in reference frame\n",
    "ar = [am,0,0]\n",
    "br = [bm*np.cos(gamma),bm*np.sin(gamma),0]\n",
    "cr = [0,0,cm]\n",
    "\n",
    "## ᵣPᵤ₁\n",
    "rPu1 = np.column_stack((ar,br,cr)) / ao\n",
    "del ar,br,cr\n",
    "\n",
    "print('ᵣPᵤ₁ =')\n",
    "print(rPu1)"
   ]
  },
  {
   "cell_type": "markdown",
   "id": "65ca4f51-61f6-4341-9a2f-5045ed52a91a",
   "metadata": {
    "tags": []
   },
   "source": [
    "#### Orientation Relationship"
   ]
  },
  {
   "cell_type": "markdown",
   "id": "fc8524f0-2877-42e3-9ec1-af6271a94658",
   "metadata": {
    "tags": []
   },
   "source": [
    "##### $\\mathbf{V}_1 \\to \\mathbf{V}_2$"
   ]
  },
  {
   "cell_type": "code",
   "execution_count": 4,
   "id": "3290afe0-cae5-4141-ae96-91b766d14b72",
   "metadata": {},
   "outputs": [
    {
     "name": "stdout",
     "output_type": "stream",
     "text": [
      "s₁₂ = 0.009399\n",
      "\n",
      "C₁₂ =\n",
      "[[ 0.  1.  0.]\n",
      " [ 1.  0.  0.]\n",
      " [ 0.  0. -1.]]\n",
      "\n",
      "L₁₂ =\n",
      "[[-0.011127  0.999938  0.      ]\n",
      " [ 0.999938  0.011127  0.      ]\n",
      " [ 0.        0.       -1.      ]]\n",
      "\n"
     ]
    }
   ],
   "source": [
    "## s₁₂\n",
    "twophi = angleTBpair(rPu1,[1,1,0],[-1,1,0])\n",
    "s12 = 2/np.tan(twophi) #s = 2 cot2φ\n",
    "del twophi\n",
    "print ('s₁₂ = %5.6f' % s12)\n",
    "print()\n",
    "\n",
    "## C₁₂\n",
    "C12 = rotationmatrix([1,1,0],np.pi) ## 2-fold about [1,1,0]\n",
    "print('C₁₂ =')\n",
    "print(C12)\n",
    "print()\n",
    "\n",
    "## L₁₂\n",
    "L12 = OR_RefFrame([1,1,0],[-1,1,0],s12,rPu1,C12)\n",
    "print('L₁₂ =')\n",
    "print(L12)\n",
    "print()"
   ]
  },
  {
   "cell_type": "markdown",
   "id": "6f7fdf76-f291-4551-841b-1256caffabff",
   "metadata": {
    "tags": []
   },
   "source": [
    "##### Verify OR\n",
    "\n",
    "Is it the same as 2-fold rotation about the $(110)_m$ plane normal?"
   ]
  },
  {
   "cell_type": "code",
   "execution_count": 5,
   "id": "920757ac-635d-4721-bb0b-bb4a4645b3ea",
   "metadata": {},
   "outputs": [
    {
     "name": "stdout",
     "output_type": "stream",
     "text": [
      "Verify...\n",
      "\n",
      "L =\n",
      "[[-0.011127  0.999938  0.      ]\n",
      " [ 0.999938  0.011127  0.      ]\n",
      " [ 0.        0.       -1.      ]]\n",
      "\n"
     ]
    }
   ],
   "source": [
    "print('Verify...')\n",
    "print()\n",
    "print('L =')\n",
    "print(rotationmatrix([1,1,0] @ inv(rPu1), np.pi))\n",
    "print()"
   ]
  },
  {
   "cell_type": "markdown",
   "id": "31d4e416-2913-4f81-9795-df2241a21ee9",
   "metadata": {
    "tags": []
   },
   "source": [
    "##### $\\mathbf{V}_2 \\to \\mathbf{V}_3$"
   ]
  },
  {
   "cell_type": "code",
   "execution_count": 6,
   "id": "651673ac-a004-4696-b348-77cb20aee154",
   "metadata": {},
   "outputs": [
    {
     "name": "stdout",
     "output_type": "stream",
     "text": [
      "s₂₃ = 0.015974\n",
      "\n",
      "C₂₃ =\n",
      "[[ 0.  1.  0.]\n",
      " [-1.  0.  0.]\n",
      " [ 0.  0.  1.]]\n",
      "\n",
      "L₂₃ =\n",
      "[[-0.007987  0.999968  0.      ]\n",
      " [-0.999968 -0.007987  0.      ]\n",
      " [ 0.        0.        1.      ]]\n",
      "\n",
      "θ = cos⁻¹(-0.0080) = 90.46°\n",
      "θ = sin⁻¹(-1.0000) = -89.54°\n",
      "\n",
      "Verify rotation matrix...\n",
      "[[-0.007987  0.999968  0.      ]\n",
      " [-0.999968 -0.007987  0.      ]\n",
      " [ 0.        0.        1.      ]]\n",
      "90.46° clockwise rotation\n"
     ]
    }
   ],
   "source": [
    "## s₂₃\n",
    "twophi = angleTBpair(rPu1,[1,q,0],[-1,-r,0])\n",
    "s23 = 2/np.tan(twophi) #s = 2 cot2φ\n",
    "print('s₂₃ = %5.6f' % s23)\n",
    "print()\n",
    "del twophi\n",
    "\n",
    "## C₂₃\n",
    "C23 = rotationmatrix([0,0,1],-np.pi/2) ## 4⁻-fold about [0,0,1]\n",
    "print('C₂₃ =')\n",
    "print(C23)\n",
    "print()\n",
    "\n",
    "\n",
    "## L₂₃\n",
    "L23 = OR_RefFrame([1,r,0],[-r,1,0],s23,rPu1,C23)\n",
    "print('L₂₃ =')\n",
    "print(L23)\n",
    "print()\n",
    "\n",
    "print('θ = cos⁻¹(%4.4f) = %4.2f°' % (L23[0,0],np.degrees(np.arccos(L23[0,0]))))\n",
    "print('θ = sin⁻¹(%4.4f) = %4.2f°' % (L23[1,0],np.degrees(np.arcsin(L23[1,0]))))\n",
    "print()\n",
    "print('Verify rotation matrix...')\n",
    "print(rotationmatrix([0,0,-1],np.arccos(L23[0,0])))\n",
    "print('90.46° clockwise rotation')"
   ]
  },
  {
   "cell_type": "markdown",
   "id": "9e4fc263-5f3f-4e59-8545-cdf7d2e997aa",
   "metadata": {
    "tags": []
   },
   "source": [
    "##### $\\mathbf{V}_3 \\to \\mathbf{V}_4$"
   ]
  },
  {
   "cell_type": "code",
   "execution_count": 7,
   "id": "a9c8f54b-daed-4eaf-ab5b-ed2e32186c74",
   "metadata": {},
   "outputs": [
    {
     "name": "stdout",
     "output_type": "stream",
     "text": [
      "s₃₄ = 0.009399\n",
      "\n",
      "C₃₄ =\n",
      "[[ 0. -1.  0.]\n",
      " [-1.  0.  0.]\n",
      " [ 0.  0. -1.]]\n",
      "\n",
      "L₃₄ =\n",
      "[[ 0.011127 -0.999938  0.      ]\n",
      " [-0.999938 -0.011127  0.      ]\n",
      " [ 0.        0.       -1.      ]]\n",
      "\n"
     ]
    }
   ],
   "source": [
    "## s₃₄\n",
    "twophi = angleTBpair(rPu1,[1,1,0],[-1,1,0])\n",
    "s34 = 2/np.tan(twophi) # s = 2 cot2φ\n",
    "print('s₃₄ = %5.6f' % s34)\n",
    "print()\n",
    "del twophi\n",
    "\n",
    "## C₃₄\n",
    "C34 = rotationmatrix([-1,1,0],np.pi) ## 2-fold about [-1,1,0]\n",
    "print('C₃₄ =')\n",
    "print(C34)\n",
    "print()\n",
    "\n",
    "\n",
    "## L₃₄\n",
    "L34 = OR_RefFrame([-1,-1,0],[1,-1,0],s34,rPu1,C34)\n",
    "print('L₃₄ =')\n",
    "print(L34)\n",
    "print()"
   ]
  },
  {
   "cell_type": "markdown",
   "id": "acc9e0d5-0693-40ae-802a-c3a6cc198425",
   "metadata": {},
   "source": [
    "##### Verify OR\n",
    "\n",
    "Is it the same as 2-fold rotation about the $(110)_m$ plane normal?"
   ]
  },
  {
   "cell_type": "code",
   "execution_count": 8,
   "id": "67d097de-1ec0-4584-a159-4e8a38a8b554",
   "metadata": {},
   "outputs": [
    {
     "name": "stdout",
     "output_type": "stream",
     "text": [
      "Verify...\n",
      "\n",
      "L =\n",
      "[[ 0.011127 -0.999938  0.      ]\n",
      " [-0.999938 -0.011127  0.      ]\n",
      " [ 0.        0.       -1.      ]]\n",
      "\n"
     ]
    }
   ],
   "source": [
    "print('Verify...')\n",
    "print()\n",
    "print('L =')\n",
    "print([[-1,0,0],[0,-1,0],[0,0,1]] @ rotationmatrix([1,1,0] @ inv(rPu1), np.pi))\n",
    "print()"
   ]
  },
  {
   "cell_type": "markdown",
   "id": "42faad27-58ee-4975-a863-e6bb84f0441a",
   "metadata": {
    "tags": []
   },
   "source": [
    "##### $\\mathbf{V}_4 \\to \\mathbf{V}_1$"
   ]
  },
  {
   "cell_type": "code",
   "execution_count": 9,
   "id": "818bed73-d1ba-4fde-9f31-5f43af9e933c",
   "metadata": {},
   "outputs": [
    {
     "name": "stdout",
     "output_type": "stream",
     "text": [
      "s₄₁ = 0.015974\n",
      "\n",
      "C₄₁ =\n",
      "[[ 0. -1.  0.]\n",
      " [ 1.  0.  0.]\n",
      " [ 0.  0.  1.]]\n",
      "\n",
      "L₄₁ =\n",
      "[[ 0.007987 -0.999968  0.      ]\n",
      " [ 0.999968  0.007987  0.      ]\n",
      " [ 0.        0.        1.      ]]\n",
      "\n",
      "θ = cos⁻¹(0.0080) = 89.54°\n",
      "θ = sin⁻¹(1.0000) = 89.54°\n",
      "\n",
      "Verify rotation matrix...\n",
      "[[ 0.007987 -0.999968  0.      ]\n",
      " [ 0.999968  0.007987  0.      ]\n",
      " [ 0.        0.        1.      ]]\n",
      "89.54° counterclockwise rotation\n"
     ]
    }
   ],
   "source": [
    "## s₄₁\n",
    "twophi = angleTBpair(rPu1,[1,q,0],[-1,-r,0])\n",
    "s41 = 2/np.tan(twophi) # s = 2 cot2φ\n",
    "print('s₄₁ = %5.6f' % s41)\n",
    "print()\n",
    "del twophi\n",
    "\n",
    "## C₄₁\n",
    "C41 = rotationmatrix([0,0,1],np.pi/2) ## 4⁺-fold about [0,0,1]\n",
    "print('C₄₁ =')\n",
    "print(C41)\n",
    "print()\n",
    "\n",
    "\n",
    "## L₄₁\n",
    "L41 = OR_RefFrame([-1,-r,0],[r,-1,0],s41,rPu1,C41)\n",
    "print('L₄₁ =')\n",
    "print(L41)\n",
    "print()\n",
    "\n",
    "print('θ = cos⁻¹(%4.4f) = %4.2f°' % (L41[0,0],np.degrees(np.arccos(L41[0,0]))))\n",
    "print('θ = sin⁻¹(%4.4f) = %4.2f°' % (L41[1,0],np.degrees(np.arcsin(L41[1,0]))))\n",
    "print()\n",
    "print('Verify rotation matrix...')\n",
    "print(rotationmatrix([0,0,1],np.arccos(L41[0,0])))\n",
    "print('89.54° counterclockwise rotation')"
   ]
  },
  {
   "cell_type": "markdown",
   "id": "25be0a4b-c494-46b8-a19a-8a353f47b203",
   "metadata": {
    "tags": []
   },
   "source": [
    "#### Product of Misorientation\n",
    "\n",
    "$\\mathbf{M}_{QJL} = \\mathbf{L}_{41}\\ \\ \\mathbf{L}_{24}\\ \\ \\mathbf{L}_{32}\\ \\ \\mathbf{L}_{13}$"
   ]
  },
  {
   "cell_type": "code",
   "execution_count": 10,
   "id": "f2139693-e3d0-45a8-99a7-3c5ad54adc3b",
   "metadata": {},
   "outputs": [
    {
     "name": "stdout",
     "output_type": "stream",
     "text": [
      "M_QJL =\n",
      "[[1.00000e+00 4.54671e-15 0.00000e+00]\n",
      " [4.54671e-15 1.00000e+00 0.00000e+00]\n",
      " [0.00000e+00 0.00000e+00 1.00000e+00]]\n",
      "\n",
      "θ = sin⁻¹(0.000000) = 0.000000°\n",
      "θ = cos⁻¹(1.000000) = 0.000097°\n"
     ]
    }
   ],
   "source": [
    "MQJL = L41 @ L34 @ L23 @ L12\n",
    "print('M_QJL =')\n",
    "print(MQJL)\n",
    "print()\n",
    "print('θ = sin⁻¹(%5.6f) = %5.6f°' % (MQJL[1,0],np.degrees(np.arcsin(MQJL[1,0]))))\n",
    "print('θ = cos⁻¹(%5.6f) = %5.6f°' % (MQJL[1,1],np.degrees(np.arccos(MQJL[1,1]))))"
   ]
  },
  {
   "cell_type": "markdown",
   "id": "9e62f534-bbdb-4829-ab9f-353aaff9bc48",
   "metadata": {
    "tags": []
   },
   "source": [
    "#### Disposition of Variants"
   ]
  },
  {
   "cell_type": "markdown",
   "id": "e7355b14-9e61-43b9-8fd6-dd62aec1b085",
   "metadata": {
    "tags": []
   },
   "source": [
    "##### $\\mathbf{V}_1$"
   ]
  },
  {
   "cell_type": "code",
   "execution_count": 11,
   "id": "92e7dfc7-6519-4e5f-b83a-422c886ffd56",
   "metadata": {},
   "outputs": [
    {
     "data": {
      "image/png": "[encoded data removed]",
      "text/plain": [
       "<Figure size 640x480 with 1 Axes>"
      ]
     },
     "metadata": {},
     "output_type": "display_data"
    }
   ],
   "source": [
    "## create lattice points range\n",
    "x = np.arange(-5,2)\n",
    "y = np.arange(-5,2)\n",
    "rm = latticepoints(x,y)\n",
    "del x,y\n",
    "\n",
    "## lattice vectors of variant V1 in 3-space\n",
    "r1 = rPu1 @ rm\n",
    "del rm\n",
    "\n",
    "## plot variant V1\n",
    "fig, ax = plt.subplots() #define figure and axes\n",
    "plotlattice(r1,ax,lat_col[0])\n",
    "plt.show()"
   ]
  },
  {
   "cell_type": "markdown",
   "id": "458568e7-6a7d-44e5-b60e-d5d2912c40b1",
   "metadata": {
    "tags": []
   },
   "source": [
    "##### $\\mathbf{V}_2$"
   ]
  },
  {
   "cell_type": "code",
   "execution_count": 12,
   "id": "85e40d28-ee0f-440d-a85d-d631427ee792",
   "metadata": {},
   "outputs": [
    {
     "data": {
      "image/png": "[encoded data removed]",
      "text/plain": [
       "<Figure size 640x480 with 1 Axes>"
      ]
     },
     "metadata": {},
     "output_type": "display_data"
    }
   ],
   "source": [
    "## create lattice points range\n",
    "x = np.arange(-5,2)\n",
    "y = np.arange(-1,6)\n",
    "rm = latticepoints(x,y)\n",
    "del x,y\n",
    "\n",
    "## lattice vectors of variant V1 in 3-space\n",
    "vector = rPu1 @ rm\n",
    "del rm\n",
    "\n",
    "\n",
    "r2 = L12 @ vector\n",
    "del vector\n",
    "\n",
    "## plot variant V3\n",
    "fig, ax = plt.subplots() #define figure and axes\n",
    "plotlattice(r2,ax,lat_col[1])\n",
    "plt.show()"
   ]
  },
  {
   "cell_type": "markdown",
   "id": "ffe80f37-bf15-4320-990f-c66bf1db2dfa",
   "metadata": {
    "tags": []
   },
   "source": [
    "##### $\\mathbf{V}_3$"
   ]
  },
  {
   "cell_type": "code",
   "execution_count": 13,
   "id": "15668488-c6cf-404d-a7d4-3aeee4421d4d",
   "metadata": {},
   "outputs": [
    {
     "data": {
      "image/png": "[encoded data removed]",
      "text/plain": [
       "<Figure size 640x480 with 1 Axes>"
      ]
     },
     "metadata": {},
     "output_type": "display_data"
    }
   ],
   "source": [
    "## create lattice points range\n",
    "x = np.arange(-1,6)\n",
    "y = np.arange(-5,2)\n",
    "rm = latticepoints(x,y)\n",
    "del x,y\n",
    "\n",
    "## lattice vectors of variant V1 in 3-space\n",
    "vector = rPu1 @ rm\n",
    "del rm\n",
    "\n",
    "\n",
    "r3 = L23 @ L12 @ vector\n",
    "del vector\n",
    "\n",
    "## plot variant V3\n",
    "fig, ax = plt.subplots() #define figure and axes\n",
    "plotlattice(r3,ax,lat_col[2])\n",
    "plt.show()"
   ]
  },
  {
   "cell_type": "markdown",
   "id": "24fd91c5-d42b-4e31-80b3-86685fda6396",
   "metadata": {
    "tags": []
   },
   "source": [
    "##### $\\mathbf{V}_4$"
   ]
  },
  {
   "cell_type": "code",
   "execution_count": 14,
   "id": "eab6d6e1-61c4-400c-9baf-c1af7ec2eb3d",
   "metadata": {},
   "outputs": [
    {
     "data": {
      "image/png": "[encoded data removed]",
      "text/plain": [
       "<Figure size 640x480 with 1 Axes>"
      ]
     },
     "metadata": {},
     "output_type": "display_data"
    }
   ],
   "source": [
    "## create lattice points range\n",
    "x = np.arange(-5,2)\n",
    "y = np.arange(-5,2)\n",
    "rm = latticepoints(x,y)\n",
    "del x,y\n",
    "\n",
    "## lattice vectors of variant V1 in 3-space\n",
    "vector = rPu1 @ rm\n",
    "del rm\n",
    "\n",
    "\n",
    "r4 = L34 @ L23 @ L12 @ vector\n",
    "del vector\n",
    "\n",
    "## plot variant V3\n",
    "fig, ax = plt.subplots() #define figure and axes\n",
    "plotlattice(r4,ax,lat_col[3])\n",
    "plt.show()"
   ]
  },
  {
   "cell_type": "markdown",
   "id": "dd981bc1-ad60-49a0-902e-011a49e83fd0",
   "metadata": {
    "tags": []
   },
   "source": [
    "##### $\\mathbf{V}_1^*$"
   ]
  },
  {
   "cell_type": "code",
   "execution_count": 15,
   "id": "4665aa64-b5b5-4017-97d6-b81ab449e98b",
   "metadata": {},
   "outputs": [
    {
     "data": {
      "image/png": "[encoded data removed]",
      "text/plain": [
       "<Figure size 640x480 with 1 Axes>"
      ]
     },
     "metadata": {},
     "output_type": "display_data"
    }
   ],
   "source": [
    "## create lattice points range\n",
    "x = np.arange(-5,2)\n",
    "y = np.arange(-5,2)\n",
    "rm = latticepoints(x,y)\n",
    "del x,y\n",
    "\n",
    "## lattice vectors of variant V1 in 3-space\n",
    "vector = rPu1 @ rm\n",
    "del rm\n",
    "\n",
    "\n",
    "r1s = L41 @ L34 @ L23 @ L12 @ vector\n",
    "del vector\n",
    "\n",
    "## plot variant V1\n",
    "fig, ax = plt.subplots() #define figure and axes\n",
    "plotlattice(r1s,ax,lat_col[4])\n",
    "plt.show()"
   ]
  },
  {
   "cell_type": "markdown",
   "id": "c6e4d63a-c6bc-4bc5-b65f-bf6aa0777190",
   "metadata": {
    "tags": []
   },
   "source": [
    "##### Orientation of TB"
   ]
  },
  {
   "cell_type": "code",
   "execution_count": 16,
   "id": "00612954-dd13-4608-a15c-a5de6e02f785",
   "metadata": {},
   "outputs": [
    {
     "name": "stdout",
     "output_type": "stream",
     "text": [
      "[0.976557 0.987484 0.      ]\n",
      "[0.314654 0.980119 0.      ]\n",
      "[-0.979653  0.984413  0.      ]\n",
      "[ 0.333329 -0.973926  0.      ]\n"
     ]
    }
   ],
   "source": [
    "## xrange\n",
    "x1 = np.arange(-6,2)\n",
    "x2 = np.arange(-1,7)\n",
    "\n",
    "## 1st twin boundary (1 1 0)\n",
    "vec = np.array([1,1,0]) @ inv(rPu1) # normal to (1 1 0) plane of V1 in R-frame\n",
    "print(vec)\n",
    "m = -vec[0]/vec[1] # slope of TB in reference frame\n",
    "y12 = m*x2\n",
    "del vec,m\n",
    "\n",
    "## 2nd twin boundary (1 r 0)\n",
    "vec = np.array([1,r,0]) @ inv(L12 @ rPu1) # normal to (1 r 0) plane of V3 in R-frame\n",
    "print(vec)\n",
    "m = -vec[0]/vec[1] # slope of TB in reference frame\n",
    "y23 = m*x2\n",
    "del vec,m\n",
    "\n",
    "## 3rd twin boundary (-1 -1 0)\n",
    "vec = np.array([-1,-1,0]) @ inv(L23 @ L12 @ rPu1) # normal to (-1 -1 0) plane of V2 in R-frame\n",
    "print(vec)\n",
    "m = -vec[0]/vec[1] # slope of TB in reference frame\n",
    "y34 = m*x2\n",
    "del vec,m\n",
    "\n",
    "## 4th twin boundary (-1 -r 0)\n",
    "vec = np.array([1,r,0]) @ inv(L34 @ L23 @ L12 @ rPu1) # normal to (-1 -r 0) plane of V4 in R-frame\n",
    "print(vec)\n",
    "m = -vec[0]/vec[1] # slope of TB in reference frame\n",
    "y41 = m*x1\n",
    "del vec,m"
   ]
  },
  {
   "cell_type": "markdown",
   "id": "d4da2e49-d13a-4f8b-bcd3-170336b27107",
   "metadata": {
    "tags": []
   },
   "source": [
    "#### QJL Schematics"
   ]
  },
  {
   "cell_type": "code",
   "execution_count": 17,
   "id": "a52f6a7c-4e35-4f7b-8375-d5b832bc7ca4",
   "metadata": {},
   "outputs": [
    {
     "data": {
      "image/png": "[encoded data removed]",
      "text/plain": [
       "<Figure size 800x800 with 1 Axes>"
      ]
     },
     "metadata": {},
     "output_type": "display_data"
    }
   ],
   "source": [
    "## define figure\n",
    "fig, ax = plt.subplots() # define figure and axes\n",
    "fig.set_size_inches([8, 8])\n",
    "\n",
    "## plot lattice points\n",
    "plotlattice(r1,ax,lat_col[0]) #Variant V₁\n",
    "plotlattice(r2,ax,lat_col[1]) #Variant V₂\n",
    "plotlattice(r3,ax,lat_col[2]) #Variant V₃\n",
    "plotlattice(r4,ax,lat_col[3]) #Variant V₄\n",
    "plotlattice(r1s,ax,lat_col[4]) #Variant V₁*\n",
    "\n",
    "## plot twin boundaries\n",
    "ax.plot(x2,y12,color=lat_col[0],linewidth=2)\n",
    "ax.plot(x2,y23,color=lat_col[1],linewidth=2)\n",
    "ax.plot(x2,y34,color=lat_col[2],linewidth=2)\n",
    "ax.plot(x1,y41,color=lat_col[3],linewidth=2)\n",
    "\n",
    "## Axis options\n",
    "ax.set_aspect('equal') # aspect ratio 1:1\n",
    "\n",
    "#xlabel and ylabel\n",
    "ax.set_xlabel(r'$\\mathbf{a}_3\\ \\rightarrow$', fontsize=16),\n",
    "ax.set_ylabel(r'$\\mathbf{b}_3\\ \\rightarrow$',fontsize=16)\n",
    "\n",
    "# Eliminate spines\n",
    "ax.spines['right'].set_visible(False)\n",
    "ax.spines['top'].set_visible(False)\n",
    "ax.spines['bottom'].set_visible(False)\n",
    "ax.spines['left'].set_visible(False)\n",
    "\n",
    "# remove ticks\n",
    "ax.set_xticks([])\n",
    "ax.set_yticks([])\n",
    "\n",
    "## show plot\n",
    "plt.show()"
   ]
  },
  {
   "cell_type": "code",
   "execution_count": 18,
   "id": "8f09d759-cc79-4b85-802e-c27bbc2afc8d",
   "metadata": {},
   "outputs": [],
   "source": [
    "#fig.savefig('QJL-TBOrientation.svg')"
   ]
  },
  {
   "cell_type": "markdown",
   "id": "6dd208a0-a65b-4619-906b-c83941f882c4",
   "metadata": {},
   "source": [
    "#### Lattice Vectors"
   ]
  },
  {
   "cell_type": "markdown",
   "id": "c7d3a979-99bc-4c84-8c10-70063c3f86b6",
   "metadata": {},
   "source": [
    "$V_1$"
   ]
  },
  {
   "cell_type": "code",
   "execution_count": 19,
   "id": "7da09c7b-9b07-476e-90df-21f229851fda",
   "metadata": {},
   "outputs": [
    {
     "data": {
      "image/png": "[encoded data removed]",
      "text/plain": [
       "<Figure size 640x480 with 1 Axes>"
      ]
     },
     "metadata": {},
     "output_type": "display_data"
    }
   ],
   "source": [
    "## plot lattice vectors a and b\n",
    "fig, ax = latticevectors_ab(rPu1)\n",
    "\n",
    "ax.text(+0.015,+0.005,r'$\\mathbf{a}_{m_1}$',fontsize=16) #label vector a\n",
    "ax.text(-0.015,+0.02,r'$\\mathbf{b}_{m_1}$',fontsize=16) #label vector b\n",
    "\n",
    "ax.set_xticks([]); ax.set_yticks([]) # remove ticks\n",
    "\n",
    "plt.show() # show plot\n",
    "del fig,ax"
   ]
  },
  {
   "cell_type": "markdown",
   "id": "5575a0fb-e212-42a8-ae4d-9badb09677b3",
   "metadata": {},
   "source": [
    "$V_2$"
   ]
  },
  {
   "cell_type": "code",
   "execution_count": 20,
   "id": "150e9599-2051-45d5-9a5d-1c6cb23b094e",
   "metadata": {},
   "outputs": [
    {
     "data": {
      "image/png": "[encoded data removed]",
      "text/plain": [
       "<Figure size 640x480 with 1 Axes>"
      ]
     },
     "metadata": {},
     "output_type": "display_data"
    }
   ],
   "source": [
    "## plot lattice vectors a and b\n",
    "fig, ax = latticevectors_ab(L12 @ rPu1)\n",
    "\n",
    "ax.text(-0.015,+0.02,r'$\\mathbf{a}_{m_2}$',fontsize=16) #label vector a\n",
    "ax.text(+0.015,+0.005,r'$\\mathbf{b}_{m_2}$',fontsize=16) #label vector b\n",
    "\n",
    "ax.set_xticks([]); ax.set_yticks([]) # remove ticks\n",
    "\n",
    "plt.show() # show plot\n",
    "del fig,ax"
   ]
  },
  {
   "cell_type": "markdown",
   "id": "476de0d9-2ca7-4b2d-ad9f-4906f4c886ab",
   "metadata": {},
   "source": [
    "$V_3$"
   ]
  },
  {
   "cell_type": "code",
   "execution_count": 21,
   "id": "a7dadd1f-b094-40ed-9700-3e3d43eb151c",
   "metadata": {},
   "outputs": [
    {
     "data": {
      "image/png": "[encoded data removed]",
      "text/plain": [
       "<Figure size 640x480 with 1 Axes>"
      ]
     },
     "metadata": {},
     "output_type": "display_data"
    }
   ],
   "source": [
    "## plot lattice vectors a and b\n",
    "fig, ax = latticevectors_ab(L23 @ L12 @ rPu1)\n",
    "\n",
    "ax.text(+0.015,+0.005,r'$\\mathbf{a}_{m_3}$',fontsize=16) #label vector a\n",
    "ax.text(-0.015,-0.02,r'$\\mathbf{b}_{m_3}$',fontsize=16) #label vector b\n",
    "\n",
    "ax.set_xticks([]); ax.set_yticks([]) # remove ticks\n",
    "\n",
    "plt.show() # show plot\n",
    "del fig,ax"
   ]
  },
  {
   "cell_type": "markdown",
   "id": "6c175ad0-1442-4694-8f1c-fcc30f1f8e00",
   "metadata": {},
   "source": [
    "$V_4$"
   ]
  },
  {
   "cell_type": "code",
   "execution_count": 22,
   "id": "48bfd1d5-00cd-4d2e-ae99-18daf2d3fcf5",
   "metadata": {},
   "outputs": [
    {
     "data": {
      "image/png": "[encoded data removed]",
      "text/plain": [
       "<Figure size 640x480 with 1 Axes>"
      ]
     },
     "metadata": {},
     "output_type": "display_data"
    }
   ],
   "source": [
    "## plot lattice vectors a and b\n",
    "fig, ax = latticevectors_ab(L34 @ L23 @ L12 @ rPu1)\n",
    "\n",
    "ax.text(-0.015,-0.02,r'$\\mathbf{a}_{m_4}$',fontsize=16) #label vector a\n",
    "ax.text(+0.015,+0.005,r'$\\mathbf{b}_{m_4}$',fontsize=16) #label vector b\n",
    "\n",
    "ax.set_xticks([]); ax.set_yticks([]) # remove ticks\n",
    "\n",
    "plt.show() # show plot\n",
    "del fig,ax"
   ]
  },
  {
   "cell_type": "markdown",
   "id": "9cd1e654-cff7-4ed1-a4a5-02305a692cb3",
   "metadata": {},
   "source": [
    "$V_1^*$"
   ]
  },
  {
   "cell_type": "code",
   "execution_count": 23,
   "id": "135ece94-1f24-4c8c-92d0-40d4844a760f",
   "metadata": {},
   "outputs": [
    {
     "data": {
      "image/png": "[encoded data removed]",
      "text/plain": [
       "<Figure size 640x480 with 1 Axes>"
      ]
     },
     "metadata": {},
     "output_type": "display_data"
    }
   ],
   "source": [
    "## plot lattice vectors a and b\n",
    "fig, ax = latticevectors_ab(L41 @ L34 @ L23 @ L12 @ rPu1)\n",
    "\n",
    "ax.text(+0.015,+0.005,r'$\\mathbf{a}_{m_1}^*$',fontsize=16) #label vector a\n",
    "ax.text(-0.015,+0.02,r'$\\mathbf{b}_{m_1}^*$',fontsize=16) #label vector b\n",
    "\n",
    "ax.set_xticks([]); ax.set_yticks([]) # remove ticks\n",
    "\n",
    "plt.show() # show plot\n",
    "del fig,ax"
   ]
  }
 ],
 "metadata": {
  "kernelspec": {
   "display_name": "Python 3 (ipykernel)",
   "language": "python",
   "name": "python3"
  },
  "language_info": {
   "codemirror_mode": {
    "name": "ipython",
    "version": 3
   },
   "file_extension": ".py",
   "mimetype": "text/x-python",
   "name": "python",
   "nbconvert_exporter": "python",
   "pygments_lexer": "ipython3",
   "version": "3.9.13"
  }
 },
 "nbformat": 4,
 "nbformat_minor": 5
}
