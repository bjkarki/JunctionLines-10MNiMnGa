{
 "cells": [
  {
   "cell_type": "markdown",
   "id": "961d2967-3f05-46b9-8845-4ba29d561f9d",
   "metadata": {},
   "source": [
    "# Topological Model of TJL and NC Twins"
   ]
  },
  {
   "cell_type": "markdown",
   "id": "b89d1945-ecb2-4576-8325-0a321acd82d7",
   "metadata": {
    "tags": []
   },
   "source": [
    "### Required Packages"
   ]
  },
  {
   "cell_type": "code",
   "execution_count": 1,
   "id": "b6152981-3efe-4f36-804c-593b8dd99056",
   "metadata": {},
   "outputs": [],
   "source": [
    "import numpy as np\n",
    "from numpy.linalg import inv,norm\n",
    "from nmgtwinning import *\n",
    "#import sympy as sp\n",
    "#sp.init_printing()"
   ]
  },
  {
   "cell_type": "markdown",
   "id": "2f3b4122-831c-497b-b7c1-fcc810d65f66",
   "metadata": {},
   "source": [
    "### Metric Tensor & Structure Matrix"
   ]
  },
  {
   "cell_type": "code",
   "execution_count": 2,
   "id": "c2f85ad4-a9d2-4e38-805f-ad7c6586a0a4",
   "metadata": {},
   "outputs": [],
   "source": [
    "## Metric tensor, G\n",
    "G = [[am**2, am*bm*np.cos(gamma),0],[am*bm*np.cos(gamma),bm**2,0],[0,0,cm**2]]\n",
    "\n",
    "# V₁ lattice vectors in reference frame\n",
    "ar = [am,0,0]\n",
    "br = [bm*np.cos(gamma),bm*np.sin(gamma),0]\n",
    "cr = [0,0,cm]\n",
    "\n",
    "## ᵣPₘ\n",
    "rPm = np.column_stack((ar,br,cr))\n",
    "del ar,br,cr"
   ]
  },
  {
   "cell_type": "markdown",
   "id": "a5479e25-e400-4303-ba85-3657a73f5118",
   "metadata": {},
   "source": [
    "### Burgers vector of compound twins\n",
    "\n",
    "$V_1 \\to V_3: (010)_{TB} = (\\mathbf{b}_{13},h_{13})$\n",
    "\n",
    "$V_3 \\to V_4: (\\bar{1}\\bar{1}0)_{TB} = (\\mathbf{b}_{34},h_{34})$\n",
    "\n",
    "$V_1 \\to V_2: (110)_{TB} = (\\mathbf{b}_{12},h_{12})$"
   ]
  },
  {
   "cell_type": "code",
   "execution_count": 3,
   "id": "ca4733f5-14ba-49e8-8d56-df915da0c472",
   "metadata": {},
   "outputs": [
    {
     "name": "stdout",
     "output_type": "stream",
     "text": [
      "b₁₃ = 0.0038 \th₁₃ = 0.2972 \n",
      "b₃₄ = 0.0020 \th₃₄ = 0.2100 \n",
      "b₁₂ = 0.0020 \th₁₂ = 0.2100\n",
      "\n",
      "k = (b₁₃ h₃₄) / (b₃₄ h₁₃) =  1.374\n"
     ]
    }
   ],
   "source": [
    "## obtain burgers vector and step height\n",
    "\n",
    "#V₁ → V₃: (010) TB\n",
    "tmu = rPm @ [0,1/2,1/2]\n",
    "R = rotationmatrix([0,1,0] @ inv(rPm),np.pi)\n",
    "tlamda = R @ rPm @ [0,1/2,-1/2]\n",
    "b13 = norm(tlamda - tmu)\n",
    "h13 = 1/np.sqrt([0,2,0] @ inv(G) @ [0,2,0])\n",
    "del tmu,R,tlamda\n",
    "\n",
    "#V₃ → V₄: (-1-10) TB\n",
    "tmu = rPm @ [-1/2,0,-1/2]\n",
    "R = rotationmatrix([-1,-1,0] @ inv(rPm),np.pi)\n",
    "tlamda = R @ rPm @ [0,-1/2,1/2]\n",
    "b34 = norm(tlamda - tmu)\n",
    "h34 = 1/np.sqrt([-2,-2,0] @ inv(G) @ [-2,-2,0])\n",
    "del tmu,R,tlamda\n",
    "\n",
    "#V₁ → V₂: (110) TB\n",
    "tmu = rPm @ [1/2,0,1/2]\n",
    "R = rotationmatrix([1,1,0] @ inv(rPm),np.pi)\n",
    "tlamda = R @ rPm @ [0,1/2,-1/2]\n",
    "b12 = norm(tlamda - tmu)\n",
    "h12 = 1/np.sqrt([2,2,0] @ inv(G) @ [2,2,0])\n",
    "del tmu,R,tlamda\n",
    "\n",
    "#print disconnections properties\n",
    "print('b₁₃ = %6.4f \\th₁₃ = %6.4f \\nb₃₄ = %6.4f \\th₃₄ = %6.4f \\nb₁₂ = %6.4f \\th₁₂ = %6.4f\\n' % (b13,h13,b34,h34,b12,h12)) \n",
    "\n",
    "## minimization constant\n",
    "k = (b13*h34)/(b34*h13)\n",
    "print('k = (b₁₃ h₃₄) / (b₃₄ h₁₃) = %6.3f' % k)"
   ]
  },
  {
   "cell_type": "markdown",
   "id": "a6c44c74-9f41-4113-8bf0-aaae749d8176",
   "metadata": {},
   "source": [
    "### Angle between $(\\bar{1} \\bar{1} 0)$ and $(0 \\bar{1} 0)$ plane"
   ]
  },
  {
   "cell_type": "code",
   "execution_count": 4,
   "id": "1bbe222a-8e39-43e4-8c52-4bf8dfee2c46",
   "metadata": {},
   "outputs": [
    {
     "name": "stdout",
     "output_type": "stream",
     "text": [
      "ψ = 44.681°\n"
     ]
    }
   ],
   "source": [
    "# Angle between (-1,-1,0) and (0,-1,0) plane\n",
    "adotb = [-1,-1,0] @ inv(G) @ [0,-1,0]\n",
    "a = np.sqrt([-1,-1,0] @ inv(G) @ [-1,-1,0])\n",
    "b = np.sqrt([0,-1,0] @ inv(G) @ [0,-1,0])\n",
    "psi = np.arccos(adotb/(a*b))\n",
    "del a,b,adotb\n",
    "print('ψ = %4.3f°' % np.degrees(psi)) "
   ]
  },
  {
   "cell_type": "markdown",
   "id": "0cda2191-87d7-4e71-9e2f-2c1283ab3fec",
   "metadata": {},
   "source": [
    "### Equilibrium Tilt"
   ]
  },
  {
   "cell_type": "markdown",
   "id": "981b8952-7b9d-46b2-b893-ee49b9aa5ab2",
   "metadata": {},
   "source": [
    "#### Strain Equilibrium\n",
    "\n",
    "We obtain the equilibrium misorientation $\\theta$ at which the strain along the interface vanishes when $(\\mathbf{b}_{13},h_{13})$ and $(\\mathbf{b}_{34},h_{34})$ disconnections meet along a interface."
   ]
  },
  {
   "cell_type": "code",
   "execution_count": 5,
   "id": "1ce966a2-1af8-4e12-8beb-ab4110412440",
   "metadata": {},
   "outputs": [
    {
     "name": "stdout",
     "output_type": "stream",
     "text": [
      "θ = 17.912°\n"
     ]
    }
   ],
   "source": [
    "## Numerically calculate theta\n",
    "## Minimization equation: sin 2(ψ − θ) - k sin 2θ = 0\n",
    "\n",
    "## range of theta from 0 to π/2\n",
    "theta = np.linspace(0, np.pi/2, 10000)\n",
    "\n",
    "## obtain the equation value\n",
    "eqn = []\n",
    "for i in theta:\n",
    "    dummy = np.abs(np.sin(2*(psi-i)) - k*np.sin(2*i))\n",
    "    eqn.append(dummy)\n",
    "    del dummy\n",
    "\n",
    "## find the equation minimum\n",
    "min_index = np.where(eqn == np.min(eqn)) # index with closest 0 value\n",
    "theta = theta[min_index[0][0]] # theta for zero solution\n",
    "print('θ = %4.3f°' % np.degrees(theta)) # print theta\n",
    "del eqn, min_index"
   ]
  },
  {
   "cell_type": "markdown",
   "id": "139c95c3-ef7a-4b48-b077-7cff5ab4bdfb",
   "metadata": {},
   "source": [
    "#### Misorientation tilt"
   ]
  },
  {
   "cell_type": "code",
   "execution_count": 6,
   "id": "b2a0b701-3437-4cb8-bcfc-94cf3b05454c",
   "metadata": {},
   "outputs": [
    {
     "name": "stdout",
     "output_type": "stream",
     "text": [
      "ϕ = 0.070°\n",
      "ϕ' = 0.077°\n",
      "ϕ(avg) = 0.074°\n",
      "Δ = ϕ + ϕ' = 0.1472°\n"
     ]
    }
   ],
   "source": [
    "phi = b13*np.sin(theta)**2/h13\n",
    "print('ϕ = %4.3f°' % np.degrees(phi))\n",
    "phi_p = b34*np.sin(psi - theta)**2/h13\n",
    "print('ϕ\\' = %4.3f°' % np.degrees(phi_p))\n",
    "Delta = phi_p + phi\n",
    "print ('ϕ(avg) = %4.3f°' % (np.degrees(Delta)/2))\n",
    "print('Δ = ϕ + ϕ\\' = %4.4f°' % np.degrees(Delta))\n",
    "del phi,phi_p"
   ]
  },
  {
   "cell_type": "markdown",
   "id": "314e15c3-3aaf-4a4c-8eb8-0fbbd17160d3",
   "metadata": {},
   "source": [
    "#### Final interface orientation\n",
    "\n",
    "We obtain the final interface orientation with respect to $(010)"
   ]
  },
  {
   "cell_type": "code",
   "execution_count": 7,
   "id": "43d0b4de-ac81-4370-9b0e-f97e5466f6bc",
   "metadata": {},
   "outputs": [
    {
     "name": "stdout",
     "output_type": "stream",
     "text": [
      "θ(TM) = θ + Δ/2 = 17.985°\n"
     ]
    }
   ],
   "source": [
    "theta_TM = theta + Delta/2\n",
    "print('θ(TM) = θ + Δ/2 = %4.3f°' % np.degrees(theta_TM)) "
   ]
  },
  {
   "cell_type": "markdown",
   "id": "a1324df7-f471-447d-bf01-bd1667a06e9d",
   "metadata": {},
   "source": [
    "#### Other parameters"
   ]
  },
  {
   "cell_type": "code",
   "execution_count": 8,
   "id": "deea20ae-9082-4976-a647-7923baa9b0cb",
   "metadata": {},
   "outputs": [
    {
     "name": "stdout",
     "output_type": "stream",
     "text": [
      "L = 0.9663 nm\n",
      "L' = 0.4662 nm\n"
     ]
    }
   ],
   "source": [
    "L = h13 / np.sin(theta)\n",
    "L_p = h34 / np.sin(psi - theta) \n",
    "print('L = %4.4f nm' % L)\n",
    "print('L\\' = %4.4f nm' % L_p)"
   ]
  },
  {
   "cell_type": "markdown",
   "id": "97983043-caad-46da-9367-c0a12a40ab98",
   "metadata": {},
   "source": [
    "### Classical Model Prediction\n",
    "\n",
    "From classical model, the angle between $(010)_m$ and $(\\bar{1} \\bar{q} 0)_m$ gives us the equilibrium condition"
   ]
  },
  {
   "cell_type": "code",
   "execution_count": 9,
   "id": "a104d30a-b43b-47ca-b6ff-6e4971d073fb",
   "metadata": {},
   "outputs": [
    {
     "name": "stdout",
     "output_type": "stream",
     "text": [
      "θ(CM) = 17.978°\n"
     ]
    }
   ],
   "source": [
    "## Irrational elements NC twins\n",
    "q = (2*am*bm*np.cos(gamma) - np.sqrt(am**4 + bm**4 + 2*am**2 * bm**2 * np.cos(2*gamma)))/(am**2 - bm**2)\n",
    "r = (2*am*bm*np.cos(gamma) + np.sqrt(am**4 + bm**4 + 2*am**2 * bm**2 * np.cos(2*gamma)))/(am**2 - bm**2)\n",
    "\n",
    "## Anlge between (-1,-q,0) and (0,1,0) plane\n",
    "adotb = [-1,-q,0] @ inv(G) @ [0,1,0]\n",
    "a = np.sqrt([-1,-q,0] @ inv(G) @ [-1,-q,0])\n",
    "b = np.sqrt([0,1,0] @ inv(G) @ [0,1,0])\n",
    "theta_CM = np.arccos(adotb/(a*b))\n",
    "print('θ(CM) = %4.3f°' % np.degrees(theta_CM))\n",
    "del adotb,a,b"
   ]
  },
  {
   "cell_type": "code",
   "execution_count": 10,
   "id": "14931581-441c-4096-bc7f-7d1afc31e2e7",
   "metadata": {},
   "outputs": [
    {
     "name": "stdout",
     "output_type": "stream",
     "text": [
      "θ(TM) − θ(CM)= 0.0069°\n"
     ]
    }
   ],
   "source": [
    "print ('θ(TM) − θ(CM)= %4.4f°' % (np.degrees(theta_TM) - np.degrees(theta_CM)))"
   ]
  },
  {
   "cell_type": "markdown",
   "id": "ea9ed092-264b-44c7-8a0e-5e06e3d30d33",
   "metadata": {},
   "source": [
    "### Angle between the TBs in QJL"
   ]
  },
  {
   "cell_type": "code",
   "execution_count": 11,
   "id": "28c2496f-ed10-4f4b-b3b3-daaff0523f5a",
   "metadata": {},
   "outputs": [
    {
     "name": "stdout",
     "output_type": "stream",
     "text": [
      "θ₁ = 26.88°\n",
      "θ₂ = 62.66°\n",
      "θ₃ = 153.12°\n",
      "θ₄ = 117.34°\n",
      "θ₁ + θ₂ + θ₃ + θ₄ = 360.00°\n"
     ]
    }
   ],
   "source": [
    "## θ₁\n",
    "theta1 = angleTBpair(rPm, [1, 1, 0], [1, r, 0])\n",
    "print('θ₁ = %4.2f°' % round(np.degrees(theta1),5))\n",
    "\n",
    "## θ₂\n",
    "theta2 = angleTBpair(rPm, [1, q, 0], [-1, -1, 0])\n",
    "print('θ₂ = %4.2f°' % round(np.degrees(theta2),5))\n",
    "\n",
    "## θ₃\n",
    "theta3 = angleTBpair(rPm, [-1, -1, 0], [1, r, 0])\n",
    "print('θ₃ = %4.2f°' % round(np.degrees(theta3),5))\n",
    "\n",
    "## θ₄\n",
    "theta4 = angleTBpair(rPm, [1, q, 0], [1,1,0])\n",
    "print('θ₄ = %4.2f°' % round(np.degrees(theta4),5))\n",
    "\n",
    "## sum of angles\n",
    "print('θ₁ + θ₂ + θ₃ + θ₄ = %4.2f°' % round(np.degrees(theta1 + theta2 + theta3 + theta4),5))\n",
    "del theta1, theta2, theta3, theta4"
   ]
  }
 ],
 "metadata": {
  "kernelspec": {
   "display_name": "Python 3 (ipykernel)",
   "language": "python",
   "name": "python3"
  },
  "language_info": {
   "codemirror_mode": {
    "name": "ipython",
    "version": 3
   },
   "file_extension": ".py",
   "mimetype": "text/x-python",
   "name": "python",
   "nbconvert_exporter": "python",
   "pygments_lexer": "ipython3",
   "version": "3.9.13"
  }
 },
 "nbformat": 4,
 "nbformat_minor": 5
}
