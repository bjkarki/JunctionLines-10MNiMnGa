{
 "cells": [
  {
   "cell_type": "markdown",
   "id": "32efbaad-4d1f-45b9-847f-3ca89723b062",
   "metadata": {},
   "source": [
    "## Misorientation of NC Twins - Topological Model "
   ]
  },
  {
   "cell_type": "markdown",
   "id": "bd188bd8-1b9c-4925-9c1e-65d7ff800c57",
   "metadata": {
    "tags": []
   },
   "source": [
    "### Required Packages"
   ]
  },
  {
   "cell_type": "code",
   "execution_count": 1,
   "id": "5990f01a-029d-48de-b7d5-eb12cf050936",
   "metadata": {},
   "outputs": [],
   "source": [
    "import numpy as np\n",
    "from numpy.linalg import inv,norm\n",
    "from nmgtwinning import *\n",
    "np.set_printoptions(precision=4)"
   ]
  },
  {
   "cell_type": "markdown",
   "id": "aa344917-d5a1-49ae-88b6-cceee34a82b9",
   "metadata": {
    "tags": []
   },
   "source": [
    "### Metric Tensor & Structure Matrix"
   ]
  },
  {
   "cell_type": "code",
   "execution_count": 2,
   "id": "9245051f-436b-480c-acda-5e638c0ae927",
   "metadata": {},
   "outputs": [],
   "source": [
    "## Metric tensor, G\n",
    "G = [[am**2, am*bm*np.cos(gamma),0],[am*bm*np.cos(gamma),bm**2,0],[0,0,cm**2]]\n",
    "\n",
    "# V₁ lattice vectors in reference frame\n",
    "ar = [am,0,0]\n",
    "br = [bm*np.cos(gamma),bm*np.sin(gamma),0]\n",
    "cr = [0,0,cm]\n",
    "\n",
    "## ᵣPₘ\n",
    "rPm = np.column_stack((ar,br,cr))\n",
    "del ar,br,cr"
   ]
  },
  {
   "cell_type": "markdown",
   "id": "d53a391e-923b-4b26-8ced-af363bf0253e",
   "metadata": {
    "tags": []
   },
   "source": [
    "### Equilibrium Tilt"
   ]
  },
  {
   "cell_type": "markdown",
   "id": "ba97bccc-6cce-494c-b4ac-9cd81ff4459c",
   "metadata": {
    "tags": []
   },
   "source": [
    "#### Burgers vector of compound twins\n",
    "\n",
    "$V_1 \\to V_3: (010)_{TB} =(\\mathbf{b}_{13},h_{13})$\n",
    "\n",
    "$V_3 \\to V_4: (110)_{TB} = (\\mathbf{b}_{34},h_{34})$"
   ]
  },
  {
   "cell_type": "code",
   "execution_count": 3,
   "id": "198d9d7d-237c-46fc-aa29-84c944d1d331",
   "metadata": {},
   "outputs": [
    {
     "name": "stdout",
     "output_type": "stream",
     "text": [
      "b₁₃ = 0.0038, h₁₃ = 0.2972, b₃₄ = 0.0020, h₃₄ = 0.2100\n",
      "k = (b₁₃ h₃₄) / (b₃₄ h₁₃) =  1.374\n"
     ]
    }
   ],
   "source": [
    "## obtain burgers vector and step height\n",
    "\n",
    "#(010) TB\n",
    "tmu = rPm @ [0,1/2,1/2]\n",
    "R = rotationmatrix([0,1,0] @ inv(rPm),np.pi)\n",
    "tlamda = R @ rPm @ [0,1/2,-1/2]\n",
    "b13 = norm(tlamda - tmu)\n",
    "h13 = 1/np.sqrt([0,2,0] @ inv(G) @ [0,2,0])\n",
    "del tmu,R,tlamda\n",
    "\n",
    "#(110) TB\n",
    "tmu = rPm @ [1/2,0,1/2]\n",
    "R = rotationmatrix([1,1,0] @ inv(rPm),np.pi)\n",
    "tlamda = R @ rPm @ [0,1/2,-1/2]\n",
    "b34 = norm(tlamda - tmu)\n",
    "h34 = 1/np.sqrt([2,2,0] @ inv(G) @ [2,2,0])\n",
    "del tmu,R,tlamda\n",
    "\n",
    "#print disconnections properties\n",
    "print('b₁₃ = %6.4f, h₁₃ = %6.4f, b₃₄ = %6.4f, h₃₄ = %6.4f' % (b13,h13,b34,h34)) \n",
    "\n",
    "## minimization constant\n",
    "k = (b13*h34)/(b34*h13)\n",
    "print('k = (b₁₃ h₃₄) / (b₃₄ h₁₃) = %6.3f' % k)"
   ]
  },
  {
   "cell_type": "markdown",
   "id": "a205970b-16a7-40f9-a287-876c5e94d63f",
   "metadata": {
    "tags": []
   },
   "source": [
    "#### Angle between $(\\bar{1} \\bar{1} 0)$ and $(0 \\bar{1} 0)$ plane"
   ]
  },
  {
   "cell_type": "code",
   "execution_count": 4,
   "id": "b967785a-40fd-4452-8b63-09bfa253f131",
   "metadata": {},
   "outputs": [
    {
     "name": "stdout",
     "output_type": "stream",
     "text": [
      "ψ = 44.681°\n"
     ]
    }
   ],
   "source": [
    "# Angle between (-1,-1,0) and (0,-1,0) plane\n",
    "adotb = [-1,-1,0] @ inv(G) @ [0,-1,0]\n",
    "a = np.sqrt([-1,-1,0] @ inv(G) @ [-1,-1,0])\n",
    "b = np.sqrt([0,-1,0] @ inv(G) @ [0,-1,0])\n",
    "psi = np.arccos(adotb/(a*b))\n",
    "del a,b,adotb\n",
    "print('ψ = %4.3f°' % np.degrees(psi)) "
   ]
  },
  {
   "cell_type": "markdown",
   "id": "50d9dc16-402e-4a45-9821-abbd33056eea",
   "metadata": {},
   "source": [
    "#### Strain Equilibrium\n",
    "\n",
    "We obtain the equilibrium misorientation $\\theta$ at which the strain along the interface vanishes when $(\\mathbf{b}_{13},h_{13})$ and $(\\mathbf{b}_{34},h_{34})$ disconnections meet along a interface."
   ]
  },
  {
   "cell_type": "code",
   "execution_count": 5,
   "id": "1df0c7af-b272-414a-b5c6-5985f8c5db3a",
   "metadata": {},
   "outputs": [
    {
     "name": "stdout",
     "output_type": "stream",
     "text": [
      "θ = 17.912°\n"
     ]
    }
   ],
   "source": [
    "## Numerically calculate theta\n",
    "## Minimization equation: sin 2(ψ − θ) - k sin 2θ = 0\n",
    "\n",
    "## range of theta from 0 to π/2\n",
    "theta = np.linspace(0, np.pi/2, 10000)\n",
    "\n",
    "## obtain the equation value\n",
    "eqn = []\n",
    "for i in theta:\n",
    "    dummy = np.abs(np.sin(2*(psi-i)) - k*np.sin(2*i))\n",
    "    eqn.append(dummy)\n",
    "    del dummy\n",
    "\n",
    "## find the equation minimum\n",
    "min_index = np.where(eqn == np.min(eqn)) # index with closest 0 value\n",
    "theta = theta[min_index[0][0]] # theta for zero solution\n",
    "print('θ = %4.3f°' % np.degrees(theta)) # print theta\n",
    "del eqn, min_index"
   ]
  },
  {
   "cell_type": "markdown",
   "id": "2b9e9e2f-6019-47e1-afab-bcbb3a137e6c",
   "metadata": {
    "tags": []
   },
   "source": [
    "#### Additional misorientation due to Perpendicular Burgers' vector component"
   ]
  },
  {
   "cell_type": "code",
   "execution_count": 6,
   "id": "b4b77d9c-c9a6-420d-ac8a-854274d88879",
   "metadata": {},
   "outputs": [
    {
     "name": "stdout",
     "output_type": "stream",
     "text": [
      "ϕ = 0.070°\n",
      "ϕ' = 0.077°\n",
      "ϕ(avg) = 0.074°\n",
      "Δ = ϕ + ϕ' = 0.1472°\n",
      "θ + Δ/2 = 17.99°\n"
     ]
    }
   ],
   "source": [
    "phi = b13*np.sin(theta)**2/h13\n",
    "print('ϕ = %4.3f°' % np.degrees(phi))\n",
    "phi_p = b34*np.sin(psi - theta)**2/h13\n",
    "print('ϕ\\' = %4.3f°' % np.degrees(phi_p))\n",
    "Delta = phi_p + phi\n",
    "print ('ϕ(avg) = %4.3f°' % (np.degrees(Delta)/2))\n",
    "print('Δ = ϕ + ϕ\\' = %4.4f°' % np.degrees(Delta))\n",
    "print('θ + Δ/2 = %4.2f°' % np.degrees(theta + Delta/2)) \n",
    "del phi,phi_p,b13,h13,b34,h34"
   ]
  },
  {
   "cell_type": "markdown",
   "id": "58083262-3062-44fe-8a6b-8792a9a26435",
   "metadata": {},
   "source": [
    "### Misorientation Prediction using TM"
   ]
  },
  {
   "cell_type": "markdown",
   "id": "baf46aa8-876d-47ea-b093-c263c98eb346",
   "metadata": {
    "tags": []
   },
   "source": [
    "#### TB in terms of V1"
   ]
  },
  {
   "cell_type": "code",
   "execution_count": 7,
   "id": "ab55e3e7-d1a0-4b16-a944-60ef1fb3fc76",
   "metadata": {},
   "outputs": [
    {
     "name": "stdout",
     "output_type": "stream",
     "text": [
      "α = 72.46°\n",
      "b*₁ = 0.1926 nm\n",
      "b*₁ / bₘ = 0.3241\n",
      "\n",
      "[AB]ₘ₁ = [ 1.0 ,  0.3241 ,  0.0 ]ₘ₁\n",
      "L*₁ = 0.6263 nm\n",
      "\n",
      "(AB)ₘ₁ = ( -1.0 ,  3.0857 ,  0.0 )ₘ₁\n"
     ]
    }
   ],
   "source": [
    "## Calculate parameters using sine rule\n",
    "alpha = np.pi - theta - (np.pi - gamma)\n",
    "print('α = %4.2f°' % np.degrees(alpha))\n",
    "bstar_1 = np.sin(theta)/np.sin(alpha) * am\n",
    "print('b*₁ = %4.4f nm' % bstar_1) \n",
    "print('b*₁ / bₘ = %4.4f' % (bstar_1/bm))\n",
    "print()\n",
    "\n",
    "## [AB]ₘ₁ vector\n",
    "AB_vec_1 = np.asarray([1,bstar_1/bm,0])\n",
    "print('[AB]ₘ₁ = [', round(AB_vec_1[0],4),', ', round(AB_vec_1[1],4),', ', round(AB_vec_1[2],4),']ₘ₁')\n",
    "\n",
    "## Magnitude of AB\n",
    "L_star1 = np.sqrt(AB_vec_1 @ G @ AB_vec_1)\n",
    "AB_plane_1 = np.asarray([-1,bm/bstar_1,0])\n",
    "print('L*₁ = %.4f nm' % L_star1)\n",
    "print()\n",
    "\n",
    "## (AB)ₘ₁ plane\n",
    "print('(AB)ₘ₁ = (', round(AB_plane_1[0],4),', ', round(AB_plane_1[1],4),', ', round(AB_plane_1[2],4),')ₘ₁')\n",
    "del alpha,bstar_1"
   ]
  },
  {
   "cell_type": "markdown",
   "id": "efa38082-fd3c-44f0-bfb6-3d6cffec9cd7",
   "metadata": {},
   "source": [
    "#### TB in terms of $V_4$"
   ]
  },
  {
   "cell_type": "code",
   "execution_count": 8,
   "id": "6e0af7f0-e71c-4a29-8685-9d151e8bab39",
   "metadata": {},
   "outputs": [
    {
     "name": "stdout",
     "output_type": "stream",
     "text": [
      "ϕ = 71.63°\n",
      "ε = 18.00°\n",
      "\n",
      "a*₄ = 0.1936 nm\n",
      "a*₄ / aₘ = 0.3241\n",
      "\n",
      "[AB]ₘ₄ = [ -0.3241 ,  1.0 ,  0.0 ]ₘ₄\n",
      "L*₄ = 0.6263 nm\n",
      "(AB)ₘ₄ = ( -3.0852 ,  -1.0 ,  0.0 )ₘ₄\n",
      "\n"
     ]
    }
   ],
   "source": [
    "# Remaining angle of the triangle\n",
    "phi = np.arcsin(bm/L_star1 * np.sin(gamma))\n",
    "print('ϕ = %4.2f°' % np.degrees(phi))\n",
    "epsilon = np.pi - gamma - phi\n",
    "print('ε = %4.2f°' % np.degrees(epsilon))\n",
    "print()\n",
    "\n",
    "# Magnitude of a*\n",
    "astar_4 = np.sin(epsilon)/np.sin(gamma) * L_star1\n",
    "print('a*₄ = %4.4f nm' % astar_4)\n",
    "print('a*₄ / aₘ = %4.4f' % (astar_4/am))\n",
    "print()\n",
    "\n",
    "## [AB]ₘ₄ vector\n",
    "AB_vec_4 = np.array([-astar_4/am,1,0])\n",
    "print('[AB]ₘ₄ = [', round(AB_vec_4[0],4),', ', round(AB_vec_4[1],4),', ', round(AB_vec_4[2],4),']ₘ₄')\n",
    "\n",
    "## Magnitude of AB\n",
    "L_star4 = np.sqrt(AB_vec_4 @ G @ AB_vec_4)\n",
    "print('L*₄ = %.4f nm' % L_star4)\n",
    "\n",
    "## (AB)ₘ₄ plane\n",
    "AB_plane_4 = np.asarray([-am/astar_4, -1, 0])\n",
    "print('(AB)ₘ₄ = (', round(AB_plane_4[0],4),', ', round(AB_plane_4[1],4),', ', round(AB_plane_4[2],4),')ₘ₄')\n",
    "print()\n",
    "\n",
    "del phi, epsilon, astar_4, L_star1, L_star4"
   ]
  },
  {
   "cell_type": "markdown",
   "id": "e44aae17-d17c-4d49-a24d-e7200c887778",
   "metadata": {},
   "source": [
    "#### TM Misorientation Prediction"
   ]
  },
  {
   "cell_type": "code",
   "execution_count": 9,
   "id": "f318cb39-634a-42dd-8d78-85f09f847a27",
   "metadata": {},
   "outputs": [
    {
     "name": "stdout",
     "output_type": "stream",
     "text": [
      "Angle between (AB)₁ & (AB)₄ = 89.54°\n",
      "Misorientation using TM - L₁₋₄ = 89.69°\n"
     ]
    }
   ],
   "source": [
    "## Angle between AB plane in V1 and V4\n",
    "adotb = AB_plane_1 @ inv(G) @ -AB_plane_4\n",
    "a = np.sqrt(AB_plane_1 @ inv(G) @ AB_plane_1)\n",
    "b = np.sqrt(-AB_plane_4 @ inv(G) @ -AB_plane_4)\n",
    "ang_ab = np.arccos(adotb/(a*b))\n",
    "TM_mis = ang_ab + Delta\n",
    "print('Angle between (AB)₁ & (AB)₄ = %4.2f°' % (np.degrees(ang_ab)))\n",
    "print('Misorientation using TM - L₁₋₄ = %4.2f°' % (np.degrees(TM_mis)))\n",
    "del adotb,a,b, ang_ab"
   ]
  },
  {
   "cell_type": "markdown",
   "id": "96edd7d5-0b32-4840-bf53-7068eb8ca5c8",
   "metadata": {},
   "source": [
    "#### Obtain Equilibrium Indicies"
   ]
  },
  {
   "cell_type": "code",
   "execution_count": 10,
   "id": "4e60c501-9c81-4f55-a96d-b33f2c06bb47",
   "metadata": {},
   "outputs": [
    {
     "name": "stdout",
     "output_type": "stream",
     "text": [
      "counterclockwise rotated [AB]ₘ₁ = [ 0.9996 ,  0.3254 ,  0.0 ]ₘ₁\n",
      "q(TM) = -3.0723\n"
     ]
    }
   ],
   "source": [
    "## Obtain q_TM\n",
    "L = rotationmatrix([0,0,+1],Delta/2) # rotation matrix\n",
    "AB_1 = inv(rPm) @ L @ rPm @ AB_vec_1 # rotate vector\n",
    "print('counterclockwise rotated [AB]ₘ₁ = [', round(AB_1[0],4),', ', round(AB_1[1],4),', ', round(AB_1[2],4),']ₘ₁')\n",
    "q_TM = -AB_1[0] / AB_1[1]\n",
    "print('q(TM) = %4.4f' % q_TM)\n",
    "del L, AB_1"
   ]
  },
  {
   "cell_type": "code",
   "execution_count": 11,
   "id": "7eff41a0-9e6c-457e-b132-6639d8e56d00",
   "metadata": {},
   "outputs": [
    {
     "name": "stdout",
     "output_type": "stream",
     "text": [
      "clockwise rotated [AB]ₘ₄ = [ -0.3229 ,  1.0004 ,  0.0 ]ₘ₄\n",
      "r(TM) = 0.3227\n"
     ]
    }
   ],
   "source": [
    "## Obtain r_TM\n",
    "L = rotationmatrix([0,0,-1],Delta/2)\n",
    "AB_4 = inv(rPm) @ L @ rPm @ AB_vec_4\n",
    "print('clockwise rotated [AB]ₘ₄ = [', round(AB_4[0],4),', ', round(AB_4[1],4),', ', round(AB_4[2],4),']ₘ₄')\n",
    "r_TM = -AB_4[0] / AB_4[1]\n",
    "print('r(TM) = %4.4f' % r_TM)\n",
    "del L, AB_4"
   ]
  },
  {
   "cell_type": "code",
   "execution_count": 12,
   "id": "08476e1c-d488-465c-9c4b-f916102114fb",
   "metadata": {},
   "outputs": [
    {
     "name": "stdout",
     "output_type": "stream",
     "text": [
      "Angle between (-1, -q(TM), 0) & (1, r(TM), 0) = 89.69°\n"
     ]
    }
   ],
   "source": [
    "## Obtain angle between [-1,-q_TM,0] and [1,r_TM,0]\n",
    "a = [-1,-q_TM,0]; b = [1,r_TM,0]\n",
    "adotb = a @ inv(G) @ b\n",
    "a = np.sqrt(a @ inv(G) @ a)\n",
    "b = np.sqrt(b @ inv(G) @ b)\n",
    "ang_ab = np.arccos(adotb/(a*b))\n",
    "print('Angle between (-1, -q(TM), 0) & (1, r(TM), 0) = %4.2f°' % (np.degrees(ang_ab)))\n",
    "del a, b, adotb, ang_ab"
   ]
  },
  {
   "cell_type": "markdown",
   "id": "137c470b-aca1-4a91-8ff0-16d9e2751947",
   "metadata": {},
   "source": [
    "### TJL Disclination strength according to TM"
   ]
  },
  {
   "cell_type": "code",
   "execution_count": 13,
   "id": "69c1a30b-741f-4be7-9693-cb30d6927943",
   "metadata": {},
   "outputs": [
    {
     "name": "stdout",
     "output_type": "stream",
     "text": [
      "θ₁ = 162.01°\n",
      "θ₂ = 44.68°\n",
      "θ₃ = 152.98°\n",
      "θ₁ + θ₃ + θ₄ = 359.68°\n",
      "ω = 0.324°\n"
     ]
    }
   ],
   "source": [
    "## θ₁\n",
    "theta1 = angleTBpair(rPm, [1, q_TM, 0], [0, 1, 0])\n",
    "print('θ₁ = %4.2f°' % round(np.degrees(theta1),5))\n",
    "\n",
    "## θ₃\n",
    "theta3 = angleTBpair(rPm, [0, -1, 0], [-1, -1, 0])\n",
    "print('θ₃ = %4.2f°' % round(np.degrees(theta3),5))\n",
    "\n",
    "## θ₄\n",
    "theta4 = angleTBpair(rPm, [-1, -1, 0], [1, r_TM, 0])\n",
    "print('θ₄ = %4.2f°' % round(np.degrees(theta4),5))\n",
    "\n",
    "\n",
    "## sum of angles\n",
    "print('θ₁ + θ₃ + θ₄ = %4.2f°' % np.degrees(theta1 + theta3 + theta4))\n",
    "\n",
    "##dislination\n",
    "omega134 = 2*np.pi - theta1 - theta3 - theta4\n",
    "print('ω = %.3f°' % np.degrees(omega134))\n",
    "del theta1, theta3, theta4"
   ]
  },
  {
   "cell_type": "code",
   "execution_count": 13,
   "id": "6883bc2d-6ca1-4d95-b759-6ac78cf1b085",
   "metadata": {},
   "outputs": [
    {
     "name": "stdout",
     "output_type": "stream",
     "text": [
      "-3.072278605191688\n",
      "1.565322459596643\n"
     ]
    }
   ],
   "source": [
    "## For the notebook '04. TM_NCTwins_Disconnection'\n",
    "print(q_TM)\n",
    "print(TM_mis)"
   ]
  }
 ],
 "metadata": {
  "kernelspec": {
   "display_name": "Python 3 (ipykernel)",
   "language": "python",
   "name": "python3"
  },
  "language_info": {
   "codemirror_mode": {
    "name": "ipython",
    "version": 3
   },
   "file_extension": ".py",
   "mimetype": "text/x-python",
   "name": "python",
   "nbconvert_exporter": "python",
   "pygments_lexer": "ipython3",
   "version": "3.9.13"
  }
 },
 "nbformat": 4,
 "nbformat_minor": 5
}
