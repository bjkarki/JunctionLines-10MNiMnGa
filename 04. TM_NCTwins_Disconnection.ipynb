{
 "cells": [
  {
   "cell_type": "code",
   "execution_count": 1,
   "id": "645a2e44-c484-4e00-9f71-5deeb3b3f1e0",
   "metadata": {},
   "outputs": [],
   "source": [
    "import numpy as np\n",
    "from numpy.linalg import inv,norm\n",
    "from nmgtwinning import *\n",
    "np.set_printoptions(precision=6)"
   ]
  },
  {
   "cell_type": "code",
   "execution_count": 2,
   "id": "023ae936-2ce0-4ebc-a639-23adac2684d2",
   "metadata": {},
   "outputs": [],
   "source": [
    "## Metric tensor, G\n",
    "G = [[am**2, am*bm*np.cos(gamma),0],[am*bm*np.cos(gamma),bm**2,0],[0,0,cm**2]]\n",
    "\n",
    "# V₁ lattice vectors in reference frame\n",
    "ar = [am,0,0]\n",
    "br = [bm*np.cos(gamma),bm*np.sin(gamma),0]\n",
    "cr = [0,0,cm]\n",
    "\n",
    "## ᵣPₘ\n",
    "rPm = np.column_stack((ar,br,cr))\n",
    "del ar,br,cr"
   ]
  },
  {
   "cell_type": "code",
   "execution_count": 3,
   "id": "77755b3c-92e2-406d-b86d-5d3d290c3f99",
   "metadata": {},
   "outputs": [
    {
     "name": "stdout",
     "output_type": "stream",
     "text": [
      "plane normal =  [-0.308774  0.951135  0.      ] ᵣ\n",
      "L₁₄ = \n",
      " [[ 0.005474  0.999985  0.      ]\n",
      " [-0.999985  0.005474  0.      ]\n",
      " [ 0.        0.        1.      ]]\n"
     ]
    }
   ],
   "source": [
    "## Non-conventional twins\n",
    "# topological parameters\n",
    "q_TM = -3.072278605191688\n",
    "TM_Mis = 1.565322459596643\n",
    "\n",
    "# normal to invariant plane\n",
    "nk1 = [-1,-q_TM,0] @ inv(rPm)\n",
    "nk1 = nk1 / norm(nk1)\n",
    "print('plane normal = ', nk1, 'ᵣ')\n",
    "\n",
    "# misorientation angle was obtained from 03. TM_Misorientation\n",
    "L14 = rotationmatrix([0,0,-1],TM_Mis)\n",
    "print('L₁₄ = \\n',L14)"
   ]
  },
  {
   "cell_type": "code",
   "execution_count": 4,
   "id": "170f3a58-b3b3-4dba-a8cf-2d583a165f59",
   "metadata": {},
   "outputs": [],
   "source": [
    "def disconnections(tmu, tlamda):\n",
    "    global L14, rPm, nk1\n",
    "    \n",
    "    #step height\n",
    "    h_tmu = nk1 @ rPm @ tmu\n",
    "    h_tlamda = nk1 @ L14 @ rPm @ tlamda\n",
    "    delta_h = h_tlamda - h_tmu\n",
    "    ## print\n",
    "    print('t(μ) = ', tmu, 'ₘ \\t t(λ) = ',tlamda,'m')\n",
    "    print('h = n ⋅ t(μ) = %5.4f' % h_tmu,' nm')\n",
    "    print('h = n ⋅ P⁻¹ t(λ) = %5.4f' % h_tlamda, ' nm')\n",
    "    print('Δh = ', round(delta_h,4),' nm')\n",
    "    \n",
    "    #burgers vector\n",
    "    br = L14 @ rPm @ tlamda - rPm @ tmu\n",
    "    print('|b| = %6.4f nm'% norm(br))\n",
    "    bm = inv(rPm) @ br\n",
    "    \n",
    "    return h_tmu, h_tlamda, delta_h, br, bm"
   ]
  },
  {
   "cell_type": "code",
   "execution_count": 5,
   "id": "c911e1eb-cab2-47ce-8d37-e6933ac93573",
   "metadata": {},
   "outputs": [
    {
     "name": "stdout",
     "output_type": "stream",
     "text": [
      "t(μ) =  [0, 0.5, 0.5] ₘ \t t(λ) =  [-0.5, 0, 0.5] m\n",
      "h = n ⋅ t(μ) = 0.2833  nm\n",
      "h = n ⋅ P⁻¹ t(λ) = 0.2845  nm\n",
      "Δh =  0.0012  nm\n",
      "|b| = 0.0014 nm\n",
      "b =  [0.0005 0.0024 0.    ] ₘ\n",
      "b is parallel to  [0.2086 1.     0.    ] ₘ\n"
     ]
    }
   ],
   "source": [
    "## tmu and tlamda\n",
    "tmu = [0,1/2,1/2]\n",
    "tlamda = [-1/2,0,1/2]\n",
    "\n",
    "_, _, _, _, bm = disconnections(tmu,tlamda)\n",
    "print('b = ',np.ndarray.round(bm,4),'ₘ')\n",
    "print('b is parallel to ',np.ndarray.round(bm/bm[1],4),'ₘ')"
   ]
  },
  {
   "cell_type": "code",
   "execution_count": 6,
   "id": "602409b6-34ed-43e5-9580-e31ecabda370",
   "metadata": {},
   "outputs": [
    {
     "name": "stdout",
     "output_type": "stream",
     "text": [
      "t(μ) =  [-0.5, 0, -0.5] ₘ \t t(λ) =  [0, -0.5, -0.5] m\n",
      "h = n ⋅ t(μ) = 0.0922  nm\n",
      "h = n ⋅ P⁻¹ t(λ) = 0.0884  nm\n",
      "Δh =  -0.0038  nm\n",
      "|b| = 0.0038 nm\n",
      "b =  [ 0.0023 -0.006   0.    ] ₘ\n",
      "b is parallel to  [ 0.3925 -1.      0.    ] ₘ\n"
     ]
    }
   ],
   "source": [
    "## tmu and tlamda\n",
    "tmu = [-1/2,0,-1/2]\n",
    "tlamda = [0,-1/2,-1/2]\n",
    "\n",
    "_, _, _, _, bm = disconnections(tmu,tlamda)\n",
    "print('b = ',np.ndarray.round(bm,4),'ₘ')\n",
    "print('b is parallel to ',np.ndarray.round(-bm/bm[1],4),'ₘ')"
   ]
  },
  {
   "cell_type": "code",
   "execution_count": 7,
   "id": "9f1952ad-6142-4ad3-b945-12a1880355b2",
   "metadata": {},
   "outputs": [
    {
     "name": "stdout",
     "output_type": "stream",
     "text": [
      "t(μ) =  [0.5, 0.5, 0] ₘ \t t(λ) =  [-0.5, 0.5, 0] m\n",
      "h = n ⋅ t(μ) = 0.1911  nm\n",
      "h = n ⋅ P⁻¹ t(λ) = 0.1961  nm\n",
      "Δh =  0.0051  nm\n",
      "|b| = 0.0051 nm\n",
      "b =  [-0.0018  0.0083  0.    ] ₘ\n",
      "b is parallel to  [-0.2222  1.      0.    ] ₘ\n"
     ]
    }
   ],
   "source": [
    "## tmu and tlamda\n",
    "tmu = [1/2,1/2,0]\n",
    "tlamda = [-1/2,1/2,0]\n",
    "\n",
    "_, _, _, _, bm = disconnections(tmu,tlamda)\n",
    "print('b = ',np.ndarray.round(bm,4),'ₘ')\n",
    "print('b is parallel to ',np.ndarray.round(bm/bm[1],4),'ₘ')"
   ]
  }
 ],
 "metadata": {
  "kernelspec": {
   "display_name": "Python 3 (ipykernel)",
   "language": "python",
   "name": "python3"
  },
  "language_info": {
   "codemirror_mode": {
    "name": "ipython",
    "version": 3
   },
   "file_extension": ".py",
   "mimetype": "text/x-python",
   "name": "python",
   "nbconvert_exporter": "python",
   "pygments_lexer": "ipython3",
   "version": "3.9.13"
  }
 },
 "nbformat": 4,
 "nbformat_minor": 5
}
