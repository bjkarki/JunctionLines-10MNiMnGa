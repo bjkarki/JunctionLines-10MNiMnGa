{
 "cells": [
  {
   "cell_type": "markdown",
   "id": "burning-turner",
   "metadata": {},
   "source": [
    "# Quadruple Line Junctions\n",
    "\n",
    "Objective: Calculate the misorientation angle at the quadruple line junction of deformation twinning in 10M Ni-Mn-Ga"
   ]
  },
  {
   "cell_type": "markdown",
   "id": "familiar-filename",
   "metadata": {},
   "source": [
    "### Import packages"
   ]
  },
  {
   "cell_type": "code",
   "execution_count": 1,
   "id": "elect-water",
   "metadata": {},
   "outputs": [],
   "source": [
    "## numpy: package for cumputing numerical arrays\n",
    "from numpy.linalg import inv #inverse of a matrix\n",
    "import numpy as np\n",
    "np.set_printoptions(precision=4) #precision of arrays\n",
    "\n",
    "## matplotlib: package for plotting\n",
    "from matplotlib import pyplot as plt\n",
    "%matplotlib inline\n",
    "\n",
    "## import functions from twinning\n",
    "from twinning import *"
   ]
  },
  {
   "cell_type": "markdown",
   "id": "gross-valentine",
   "metadata": {},
   "source": [
    "### 10M Ni-Mn-Ga\n",
    "\n",
    "1. Lattice parameters\n",
    "2. Irrational element of NC twins"
   ]
  },
  {
   "cell_type": "code",
   "execution_count": 2,
   "id": "scheduled-reading",
   "metadata": {},
   "outputs": [],
   "source": [
    "## lattice parameters\n",
    "a,b,c,gamma = [0.5972, 0.5944, 0.5584, np.deg2rad(90.37)] #NMG lattice parameter: Seiner et al. (2019)\n",
    "#a,b,c,gamma = [1., 0.97, 0.94, np.deg2rad(94)] #Exaggerated lattice\n",
    "\n",
    "## irrational element of NC twins\n",
    "q3 = (2*a*b*np.cos(gamma) - np.sqrt(a**4 + b**4 + 2*a**2*b**2*np.cos(2*gamma)))/(a**2 - b**2)\n",
    "q4 = (2*a*b*np.cos(gamma) + np.sqrt(a**4 + b**4 + 2*a**2*b**2*np.cos(2*gamma)))/(a**2 - b**2)"
   ]
  },
  {
   "cell_type": "markdown",
   "id": "about-grave",
   "metadata": {},
   "source": [
    "### Transformation Relation"
   ]
  },
  {
   "cell_type": "markdown",
   "id": "acknowledged-yugoslavia",
   "metadata": {},
   "source": [
    "#### $V_1$\n",
    "\n",
    "Crystal Coordinate Frame ($V_1$) $\\leftrightarrow$ Reference Frame ($R$)"
   ]
  },
  {
   "cell_type": "code",
   "execution_count": 5,
   "id": "severe-eight",
   "metadata": {},
   "outputs": [],
   "source": [
    "## Transformation: R ↔ V₁\n",
    "rPv1 = np.array([[1,b/a*np.cos(gamma),0],[0,-b/a*np.sin(gamma),0],[0,0,-c/a]])"
   ]
  },
  {
   "cell_type": "markdown",
   "id": "downtown-desert",
   "metadata": {},
   "source": [
    "$V_1$ lattice vectors: $\\boldsymbol{a}$ and $\\boldsymbol{b}$"
   ]
  },
  {
   "cell_type": "code",
   "execution_count": 6,
   "id": "valuable-brake",
   "metadata": {},
   "outputs": [
    {
     "name": "stdout",
     "output_type": "stream",
     "text": [
      "[[ 1.     -0.0064  0.    ]\n",
      " [ 0.     -0.9953  0.    ]\n",
      " [ 0.      0.     -0.935 ]]\n"
     ]
    },
    {
     "data": {
      "image/png": "[encoded data removed]",
      "text/plain": [
       "<Figure size 432x288 with 1 Axes>"
      ]
     },
     "metadata": {},
     "output_type": "display_data"
    }
   ],
   "source": [
    "print(rPv1)\n",
    "\n",
    "## plot lattice vectors a and b\n",
    "fig, ax = latticevectors_ab(rPv1)\n",
    "\n",
    "ax.text(+0.015,+0.005,r'$\\mathbf{a}_{V_1}$',fontsize=16) #label vector a\n",
    "ax.text(-0.015,-0.02,r'$\\mathbf{b}_{V_1}$',fontsize=16) #label vector b\n",
    "\n",
    "ax.set_xticks([]); ax.set_yticks([]) # remove ticks\n",
    "\n",
    "plt.show() # show plot\n",
    "del fig,ax"
   ]
  },
  {
   "cell_type": "markdown",
   "id": "logical-booth",
   "metadata": {},
   "source": [
    "Angle between TB pair: $(1 q_3 0)_{V_1}$ & $(1 1 0)_{V_1}$"
   ]
  },
  {
   "cell_type": "code",
   "execution_count": 8,
   "id": "collect-norwegian",
   "metadata": {},
   "outputs": [
    {
     "name": "stdout",
     "output_type": "stream",
     "text": [
      "angle between (1 q3 0) and (110) pair: 117.3403 degrees\n"
     ]
    }
   ],
   "source": [
    "## Angle between (1 q3 0) and (110) pair\n",
    "alpha1 = 180 - angleTBpair(rPv1,[1,q3,0],[1,1,0])\n",
    "print('angle between (1 q3 0) and (110) pair: %.4f degrees' % alpha1)"
   ]
  },
  {
   "cell_type": "markdown",
   "id": "mineral-synthesis",
   "metadata": {},
   "source": [
    "#### $V_3$\n",
    "\n",
    "Orientation relationship"
   ]
  },
  {
   "cell_type": "markdown",
   "id": "activated-herald",
   "metadata": {},
   "source": [
    "| Variant Transformation | Twin Boundary |  Orientation Relationship  |\n",
    "| ---------------------: | :-----------: | :------------------------: |\n",
    "| $V_1 \\to V_3$          |  $(1 1 0)_m$  | $\\boldsymbol{m}_{(110)_m}$ |"
   ]
  },
  {
   "cell_type": "code",
   "execution_count": 11,
   "id": "severe-technique",
   "metadata": {},
   "outputs": [],
   "source": [
    "## Orientation Relationship   rL: V₁ → V₃\n",
    "\n",
    "#(1 1 0) compound twin\n",
    "rL_v1tov3 = rotationmatrix([1,1,0] @ inv(rPv1), np.pi)\n",
    "\n",
    "#Transformation relation: R ↔ V₃\n",
    "rPv3 = rL_v1tov3 @ rPv1; del rL_v1tov3\n",
    "#print(rPv2); print()"
   ]
  },
  {
   "cell_type": "markdown",
   "id": "provincial-march",
   "metadata": {},
   "source": [
    "$V_3$ lattice vectors: $\\boldsymbol{a}$ and $\\boldsymbol{b}$"
   ]
  },
  {
   "cell_type": "code",
   "execution_count": 12,
   "id": "official-disposal",
   "metadata": {},
   "outputs": [
    {
     "name": "stdout",
     "output_type": "stream",
     "text": [
      "[[-0.0111  0.9953  0.    ]\n",
      " [-0.9999 -0.0046  0.    ]\n",
      " [ 0.      0.      0.935 ]]\n"
     ]
    },
    {
     "data": {
      "image/png": "[encoded data removed]",
      "text/plain": [
       "<Figure size 432x288 with 1 Axes>"
      ]
     },
     "metadata": {},
     "output_type": "display_data"
    }
   ],
   "source": [
    "print(rPv3)\n",
    "\n",
    "## plot lattice vectors a and b\n",
    "fig, ax = latticevectors_ab(rPv3)\n",
    "\n",
    "ax.text(-0.015,-0.02,r'$\\mathbf{a}_{V_3}$',fontsize=16) #label vector a\n",
    "ax.text(+0.015,+0.005,r'$\\mathbf{b}_{V_3}$',fontsize=16) #label vector b\n",
    "\n",
    "ax.set_xticks([]); ax.set_yticks([]) # remove ticks\n",
    "\n",
    "plt.show() # show plot\n",
    "del fig,ax"
   ]
  },
  {
   "cell_type": "markdown",
   "id": "acoustic-column",
   "metadata": {},
   "source": [
    "Angle between TB pair: $(\\bar{1} \\bar{q_4} 0)_{V_3}$ & $(1 1 0)_{V_3}$"
   ]
  },
  {
   "cell_type": "code",
   "execution_count": 44,
   "id": "stainless-reference",
   "metadata": {},
   "outputs": [
    {
     "name": "stdout",
     "output_type": "stream",
     "text": [
      "angle between (-1 -q4 0) and (110) pair: 26.8827 degrees\n"
     ]
    }
   ],
   "source": [
    "## Angle between (-1 -q4 0) and (1 0 0) pair\n",
    "alpha3 = angleTBpair(rPv3,[-1,-q4,0],[1,1,0])\n",
    "print('angle between (-1 -q4 0) and (110) pair: %.4f degrees' % alpha3)"
   ]
  },
  {
   "cell_type": "markdown",
   "id": "scenic-breast",
   "metadata": {},
   "source": [
    "#### $V_2$\n",
    "\n",
    "Orientation relationship"
   ]
  },
  {
   "cell_type": "markdown",
   "id": "electrical-banking",
   "metadata": {},
   "source": [
    "| Variant Transformation | Twin Boundary |  Orientation Relationship  |\n",
    "| ---------------------: | :-----------: | :------------------------: |\n",
    "| $V_3 \\to V_2$          |  $(\\bar{1} \\bar{q_4} 0)_m$  | $\\sim \\boldsymbol{4}^+_{(001)_m}$ |"
   ]
  },
  {
   "cell_type": "code",
   "execution_count": 29,
   "id": "studied-sailing",
   "metadata": {},
   "outputs": [],
   "source": [
    "## Orientation Relationship   rL: V₃ → V₂\n",
    "\n",
    "#(-1 -q4 0) NC twin\n",
    "rL_v3tov2 = OR_NCtwins([-1,-q4,0],[q4,-1,0],rPv3,a)\n",
    "#rL_v3tov2 = rotationmatrix(rPv3 @ [0,0,1],np.pi/2)\n",
    "\n",
    "#Transformation relation: R ↔ V₂\n",
    "rPv2 = rL_v3tov2 @ rPv3; del rL_v3tov2\n",
    "#print(rPv3); print()"
   ]
  },
  {
   "cell_type": "markdown",
   "id": "accredited-snapshot",
   "metadata": {},
   "source": [
    "$V_2$ lattice vectors: $\\boldsymbol{a}$ and $\\boldsymbol{b}$"
   ]
  },
  {
   "cell_type": "code",
   "execution_count": 42,
   "id": "convinced-postcard",
   "metadata": {},
   "outputs": [
    {
     "name": "stdout",
     "output_type": "stream",
     "text": [
      "[[ 0.9998  0.0126  0.    ]\n",
      " [-0.0191  0.9952  0.    ]\n",
      " [ 0.      0.      0.935 ]]\n"
     ]
    },
    {
     "data": {
      "image/png": "[encoded data removed]",
      "text/plain": [
       "<Figure size 432x288 with 1 Axes>"
      ]
     },
     "metadata": {},
     "output_type": "display_data"
    }
   ],
   "source": [
    "print(rPv2)\n",
    "\n",
    "## plot lattice vectors a and b\n",
    "fig, ax = latticevectors_ab(rPv2)\n",
    "\n",
    "ax.text(+0.016,-0.008,r'$\\mathbf{a}_{V_2}$',fontsize=16) #label vector a\n",
    "ax.text(-0.015,0.022,r'$\\mathbf{b}_{V_2}$',fontsize=16) #label vector b\n",
    "\n",
    "ax.set_xticks([]); ax.set_yticks([]) # remove ticks\n",
    "\n",
    "plt.show() # show plot\n",
    "del fig,ax"
   ]
  },
  {
   "cell_type": "markdown",
   "id": "alike-inclusion",
   "metadata": {},
   "source": [
    "Angle between TB pair: $(1 q_3 0)_{V_2}$ & $(1 1 0)_{V_2}$"
   ]
  },
  {
   "cell_type": "code",
   "execution_count": 45,
   "id": "worse-trinidad",
   "metadata": {},
   "outputs": [
    {
     "name": "stdout",
     "output_type": "stream",
     "text": [
      "angle between (1 q3 0) and (110) pair: 62.6597 degrees\n"
     ]
    }
   ],
   "source": [
    "## alpha2: angle between (1 q3 0) and (1 1 0) pair\n",
    "alpha2 = angleTBpair(rPv2,[1,q3,0],[1,1,0])\n",
    "print('angle between (1 q3 0) and (110) pair: %.4f degrees' % alpha2)"
   ]
  },
  {
   "cell_type": "markdown",
   "id": "differential-freight",
   "metadata": {},
   "source": [
    "#### $V_4$\n",
    "\n",
    "Orientation relationship"
   ]
  },
  {
   "cell_type": "markdown",
   "id": "recreational-mongolia",
   "metadata": {},
   "source": [
    "| Variant Transformation | Twin Boundary |  Orientation Relationship  |\n",
    "| ---------------------: | :-----------: | :------------------------: |\n",
    "| $V_2 \\to V_4$          |  $(1 1 0)_m$  | $\\boldsymbol{m}_{(110)_m}$ |"
   ]
  },
  {
   "cell_type": "code",
   "execution_count": 46,
   "id": "white-baltimore",
   "metadata": {},
   "outputs": [],
   "source": [
    "## Orientation Relationship   rL: V₂ → V₄\n",
    "\n",
    "#(1 1 0) compound twin\n",
    "rL_v2tov4 = rotationmatrix([1,1,0] @ inv(rPv2), np.pi)\n",
    "\n",
    "#Transformation relation: R ↔ V₄\n",
    "rPv4 = rL_v2tov4 @ rPv2; del rL_v2tov4\n",
    "#print(rPv2); print()"
   ]
  },
  {
   "cell_type": "markdown",
   "id": "delayed-window",
   "metadata": {},
   "source": [
    "$V_2$ lattice vectors: $\\boldsymbol{a}$ and $\\boldsymbol{b}$"
   ]
  },
  {
   "cell_type": "code",
   "execution_count": 58,
   "id": "incorporate-delaware",
   "metadata": {},
   "outputs": [
    {
     "name": "stdout",
     "output_type": "stream",
     "text": [
      "[[ 0.008   0.9952  0.    ]\n",
      " [ 1.     -0.0144  0.    ]\n",
      " [ 0.      0.     -0.935 ]]\n"
     ]
    },
    {
     "data": {
      "image/png": "[encoded data removed]",
      "text/plain": [
       "<Figure size 432x288 with 1 Axes>"
      ]
     },
     "metadata": {},
     "output_type": "display_data"
    }
   ],
   "source": [
    "print(rPv4)\n",
    "\n",
    "## plot lattice vectors a and b\n",
    "fig, ax = latticevectors_ab(rPv4)\n",
    "\n",
    "ax.text(+0.016,-0.009,r'$\\mathbf{b}_{V_4}$',fontsize=16) #label vector b\n",
    "ax.text(-0.015,0.022,r'$\\mathbf{a}_{V_4}$',fontsize=16) #label vector a\n",
    "\n",
    "ax.set_xticks([]); ax.set_yticks([]) # remove ticks\n",
    "\n",
    "plt.show() # show plot\n",
    "del fig,ax"
   ]
  },
  {
   "cell_type": "markdown",
   "id": "direct-chess",
   "metadata": {},
   "source": [
    "Angle between TB pair: $(1 q_3 0)_{V_2}$ & $(1 1 0)_{V_2}$"
   ]
  },
  {
   "cell_type": "code",
   "execution_count": 55,
   "id": "aerial-machinery",
   "metadata": {},
   "outputs": [
    {
     "name": "stdout",
     "output_type": "stream",
     "text": [
      "angle between (1 q3 0) and (110) pair: 153.1173 degrees\n"
     ]
    }
   ],
   "source": [
    "## Angle between (-1 -q4 0) and (1 1 0) pair\n",
    "alpha4 = 180 - angleTBpair(rPv4,[-1,-q4,0],[1,1,0])\n",
    "print('angle between (1 q3 0) and (110) pair: %.4f degrees' % alpha4)"
   ]
  },
  {
   "cell_type": "markdown",
   "id": "alpha-indonesia",
   "metadata": {},
   "source": [
    "### Sum of angles"
   ]
  },
  {
   "cell_type": "code",
   "execution_count": 57,
   "id": "professional-array",
   "metadata": {},
   "outputs": [
    {
     "name": "stdout",
     "output_type": "stream",
     "text": [
      "sum of angles: 360.0000 degrees\n",
      "\n",
      "disclination angle: 0.0000 degrees\n"
     ]
    }
   ],
   "source": [
    "sum_of_angles = alpha1+alpha2+alpha3+alpha4\n",
    "print('sum of angles: %.4f degrees' % sum_of_angles)\n",
    "print()\n",
    "\n",
    "disclination_angle = sum_of_angles - 360\n",
    "print('disclination angle: %.4f degrees' % disclination_angle)"
   ]
  }
 ],
 "metadata": {
  "kernelspec": {
   "display_name": "Python 3",
   "language": "python",
   "name": "python3"
  },
  "language_info": {
   "codemirror_mode": {
    "name": "ipython",
    "version": 3
   },
   "file_extension": ".py",
   "mimetype": "text/x-python",
   "name": "python",
   "nbconvert_exporter": "python",
   "pygments_lexer": "ipython3",
   "version": "3.8.5"
  }
 },
 "nbformat": 4,
 "nbformat_minor": 5
}
