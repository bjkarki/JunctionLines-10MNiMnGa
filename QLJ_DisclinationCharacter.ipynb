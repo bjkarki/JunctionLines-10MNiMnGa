{
 "cells": [
  {
   "cell_type": "markdown",
   "id": "loved-candle",
   "metadata": {},
   "source": [
    "# Quadruple Line Junctions\n",
    "\n",
    "Objective: Calculate the misorientation angle at the quadruple line junction of deformation twinning in 10M Ni-Mn-Ga"
   ]
  },
  {
   "cell_type": "markdown",
   "id": "explicit-engineering",
   "metadata": {},
   "source": [
    "### Import packages"
   ]
  },
  {
   "cell_type": "code",
   "execution_count": 1,
   "id": "described-kazakhstan",
   "metadata": {},
   "outputs": [],
   "source": [
    "## numpy: package for cumputing numerical arrays\n",
    "from numpy.linalg import inv #inverse of a matrix\n",
    "import numpy as np\n",
    "np.set_printoptions(precision=6) #precision of arrays\n",
    "#i have set a custom threshold of 9 sigfigs after decimal\n",
    "\n",
    "## matplotlib: package for plotting\n",
    "from matplotlib import pyplot as plt\n",
    "%matplotlib inline\n",
    "\n",
    "## import functions from twinning\n",
    "from twinning import *"
   ]
  },
  {
   "cell_type": "markdown",
   "id": "romantic-copying",
   "metadata": {},
   "source": [
    "### 10M Ni-Mn-Ga\n",
    "\n",
    "1. Lattice parameters\n",
    "2. Irrational element of NC twins"
   ]
  },
  {
   "cell_type": "code",
   "execution_count": 2,
   "id": "olympic-updating",
   "metadata": {},
   "outputs": [],
   "source": [
    "## lattice parameters\n",
    "a,b,c,gamma = [0.5972, 0.5944, 0.5584, np.deg2rad(90.37)] #NMG lattice parameter: Seiner et al. (2019)\n",
    "#a,b,c,gamma = [1., 0.97, 0.94, np.deg2rad(94)] #Exaggerated lattice\n",
    "\n",
    "## irrational element of NC twins\n",
    "q3 = (2*a*b*np.cos(gamma) - np.sqrt(a**4 + b**4 + 2*a**2*b**2*np.cos(2*gamma)))/(a**2 - b**2)\n",
    "q4 = (2*a*b*np.cos(gamma) + np.sqrt(a**4 + b**4 + 2*a**2*b**2*np.cos(2*gamma)))/(a**2 - b**2)\n",
    "## q4 * q3 ≃ -1\n",
    "\n",
    "## Empty list: to append transformation matrix\n",
    "rPv13241s = []"
   ]
  },
  {
   "cell_type": "markdown",
   "id": "august-establishment",
   "metadata": {},
   "source": [
    "### Transformation Relation"
   ]
  },
  {
   "cell_type": "markdown",
   "id": "hispanic-bulgarian",
   "metadata": {},
   "source": [
    "#### $V_1$\n",
    "\n",
    "Crystal Coordinate Frame ($V_1$) $\\leftrightarrow$ Reference Frame ($R$)"
   ]
  },
  {
   "cell_type": "code",
   "execution_count": 3,
   "id": "liquid-productivity",
   "metadata": {},
   "outputs": [],
   "source": [
    "## Transformation: R ↔ V₁\n",
    "rPv1 = np.array([[1,b/a*np.cos(gamma),0],[0,-b/a*np.sin(gamma),0],[0,0,-c/a]])"
   ]
  },
  {
   "cell_type": "markdown",
   "id": "unnecessary-course",
   "metadata": {},
   "source": [
    "$V_1$ lattice vectors: $\\boldsymbol{a}$ and $\\boldsymbol{b}$"
   ]
  },
  {
   "cell_type": "code",
   "execution_count": 4,
   "id": "fixed-forum",
   "metadata": {},
   "outputs": [
    {
     "name": "stdout",
     "output_type": "stream",
     "text": [
      "[[ 1.       -0.006427  0.      ]\n",
      " [ 0.       -0.995291  0.      ]\n",
      " [ 0.        0.       -0.93503 ]]\n"
     ]
    },
    {
     "data": {
      "image/png": "[encoded data removed]",
      "text/plain": [
       "<Figure size 432x288 with 1 Axes>"
      ]
     },
     "metadata": {},
     "output_type": "display_data"
    }
   ],
   "source": [
    "print(applythresh(rPv1))\n",
    "\n",
    "## plot lattice vectors a and b\n",
    "fig, ax = latticevectors_ab(rPv1)\n",
    "\n",
    "ax.text(+0.015,+0.005,r'$\\mathbf{a}_{V_1}$',fontsize=16) #label vector a\n",
    "ax.text(-0.015,-0.02,r'$\\mathbf{b}_{V_1}$',fontsize=16) #label vector b\n",
    "\n",
    "ax.set_xticks([]); ax.set_yticks([]) # remove ticks\n",
    "\n",
    "plt.show() # show plot\n",
    "del fig,ax"
   ]
  },
  {
   "cell_type": "markdown",
   "id": "faced-priest",
   "metadata": {},
   "source": [
    "Angle between TB pair: $(1 q_3 0)_{V_1}$ & $(1 1 0)_{V_1}$"
   ]
  },
  {
   "cell_type": "code",
   "execution_count": 5,
   "id": "valuable-banner",
   "metadata": {},
   "outputs": [
    {
     "name": "stdout",
     "output_type": "stream",
     "text": [
      "angle between (1 q3 0) and (110) pair: 117.3403 degrees\n"
     ]
    }
   ],
   "source": [
    "## Angle between (1 q3 0) and (110) pair\n",
    "alpha1 = 180 - angleTBpair(rPv1,[1,q3,0],[1,1,0])\n",
    "print('angle between (1 q3 0) and (110) pair: %.4f degrees' % alpha1)"
   ]
  },
  {
   "cell_type": "markdown",
   "id": "demanding-darwin",
   "metadata": {},
   "source": [
    "#### $V_3$\n",
    "\n",
    "Orientation relationship\n",
    "\n",
    "| Variant Transformation | Twin Boundary |  Orientation Relationship  |\n",
    "| ---------------------: | :-----------: | :------------------------: |\n",
    "| $V_1 \\to V_3$          |  $(1 1 0)_m$  | $\\boldsymbol{m}_{(110)_m}$ |"
   ]
  },
  {
   "cell_type": "code",
   "execution_count": 6,
   "id": "secure-momentum",
   "metadata": {},
   "outputs": [],
   "source": [
    "## Orientation Relationship   rL: V₁ → V₃\n",
    "\n",
    "#(1 1 0) compound twin\n",
    "rL_v1tov3 = rotationmatrix([1,1,0] @ inv(rPv1), np.pi)\n",
    "\n",
    "#Transformation relation: R ↔ V₃\n",
    "rPv3 = rL_v1tov3 @ rPv1\n",
    "\n",
    "## Append transformation matrix & del variables\n",
    "rPv13241s.append(rPv1)\n",
    "del rPv1"
   ]
  },
  {
   "cell_type": "markdown",
   "id": "demanding-application",
   "metadata": {},
   "source": [
    "$V_3$ lattice vectors: $\\boldsymbol{a}$ and $\\boldsymbol{b}$"
   ]
  },
  {
   "cell_type": "code",
   "execution_count": 7,
   "id": "empirical-uniform",
   "metadata": {},
   "outputs": [
    {
     "name": "stdout",
     "output_type": "stream",
     "text": [
      "[[-0.011127  0.995301  0.      ]\n",
      " [-0.999938 -0.004647  0.      ]\n",
      " [ 0.        0.        0.93503 ]]\n"
     ]
    },
    {
     "data": {
      "image/png": "[encoded data removed]",
      "text/plain": [
       "<Figure size 432x288 with 1 Axes>"
      ]
     },
     "metadata": {},
     "output_type": "display_data"
    }
   ],
   "source": [
    "print(applythresh(rPv3))\n",
    "\n",
    "## plot lattice vectors a and b\n",
    "fig, ax = latticevectors_ab(rPv3)\n",
    "\n",
    "ax.text(-0.015,-0.02,r'$\\mathbf{a}_{V_3}$',fontsize=16) #label vector a\n",
    "ax.text(+0.015,+0.005,r'$\\mathbf{b}_{V_3}$',fontsize=16) #label vector b\n",
    "\n",
    "ax.set_xticks([]); ax.set_yticks([]) # remove ticks\n",
    "\n",
    "plt.show() # show plot\n",
    "del fig,ax"
   ]
  },
  {
   "cell_type": "markdown",
   "id": "fifty-metabolism",
   "metadata": {},
   "source": [
    "Angle between TB pair: $(1 1 0)_{V_3}$ & $(1 q_4 0)_{V_3}$"
   ]
  },
  {
   "cell_type": "code",
   "execution_count": 8,
   "id": "beneficial-digest",
   "metadata": {},
   "outputs": [
    {
     "name": "stdout",
     "output_type": "stream",
     "text": [
      "angle between (1 1 0) and (1 q4 0) pair: 26.8827 degrees\n"
     ]
    }
   ],
   "source": [
    "## Angle between (1 1 0) and (1 q4 0) pair\n",
    "alpha3 = angleTBpair(rPv3,[1,1,0],[1,q4,0])\n",
    "print('angle between (1 1 0) and (1 q4 0) pair: %.4f degrees' % alpha3)"
   ]
  },
  {
   "cell_type": "markdown",
   "id": "extreme-polymer",
   "metadata": {},
   "source": [
    "#### $V_2$\n",
    "\n",
    "Orientation relationship\n",
    "\n",
    "| Variant Transformation | Twin Boundary |  Orientation Relationship  |\n",
    "| ---------------------: | :-----------: | :------------------------: |\n",
    "| $V_3 \\to V_2$          |  $(1 q_4 0)_m$  | $\\sim \\boldsymbol{4}^+_{(001)_m}$ |"
   ]
  },
  {
   "cell_type": "code",
   "execution_count": 9,
   "id": "tribal-mediterranean",
   "metadata": {},
   "outputs": [],
   "source": [
    "## Orientation Relationship   rL: V₃ → V₂\n",
    "\n",
    "#(1 q4 0) NC twin\n",
    "#OR_NCtwins(K1,eta1,rPm,am,plane normal is positive? (i.e. points to the twin?))\n",
    "rL_v3tov2 = OR_NCtwins([1,q4,0],[-q4,1,0],rPv3,a,normal_pos=True)\n",
    "\n",
    "#Transformation relation: R ↔ V₂\n",
    "rPv2 = rL_v3tov2 @ rPv3\n",
    "\n",
    "## Append transformation matrix & del variables\n",
    "rPv13241s.append(rPv3)\n",
    "del rPv3"
   ]
  },
  {
   "cell_type": "markdown",
   "id": "equivalent-genius",
   "metadata": {},
   "source": [
    "$V_2$ lattice vectors: $\\boldsymbol{a}$ and $\\boldsymbol{b}$"
   ]
  },
  {
   "cell_type": "code",
   "execution_count": 10,
   "id": "modified-humanitarian",
   "metadata": {},
   "outputs": [
    {
     "name": "stdout",
     "output_type": "stream",
     "text": [
      "[[ 0.999817  0.012596  0.      ]\n",
      " [-0.019113  0.995232  0.      ]\n",
      " [ 0.        0.        0.93503 ]]\n"
     ]
    },
    {
     "data": {
      "image/png": "[encoded data removed]",
      "text/plain": [
       "<Figure size 432x288 with 1 Axes>"
      ]
     },
     "metadata": {},
     "output_type": "display_data"
    }
   ],
   "source": [
    "print(applythresh(rPv2))\n",
    "\n",
    "## plot lattice vectors a and b\n",
    "fig, ax = latticevectors_ab(rPv2)\n",
    "\n",
    "ax.text(+0.016,-0.008,r'$\\mathbf{a}_{V_2}$',fontsize=16) #label vector a\n",
    "ax.text(-0.015,0.022,r'$\\mathbf{b}_{V_2}$',fontsize=16) #label vector b\n",
    "\n",
    "ax.set_xticks([]); ax.set_yticks([]) # remove ticks\n",
    "\n",
    "plt.show() # show plot\n",
    "del fig,ax"
   ]
  },
  {
   "cell_type": "markdown",
   "id": "simplified-cisco",
   "metadata": {},
   "source": [
    "Angle between TB pair: $(1 q_3 0)_{V_2}$ & $(\\bar{1} \\bar{1} 0)_{V_2}$"
   ]
  },
  {
   "cell_type": "code",
   "execution_count": 11,
   "id": "suspended-throat",
   "metadata": {},
   "outputs": [
    {
     "name": "stdout",
     "output_type": "stream",
     "text": [
      "angle between (1 q3 0) and (-1 -1 0) pair: 62.6597 degrees\n"
     ]
    }
   ],
   "source": [
    "## alpha2: angle between (1 q3 0) and (-1 -1 0) pair\n",
    "alpha2 = angleTBpair(rPv2,[1,q3,0],[-1,-1,0])\n",
    "print('angle between (1 q3 0) and (-1 -1 0) pair: %.4f degrees' % alpha2)"
   ]
  },
  {
   "cell_type": "markdown",
   "id": "interstate-colon",
   "metadata": {},
   "source": [
    "#### $V_4$\n",
    "\n",
    "Orientation relationship\n",
    "\n",
    "| Variant Transformation | Twin Boundary |  Orientation Relationship  |\n",
    "| ---------------------: | :-----------: | :------------------------: |\n",
    "| $V_2 \\to V_4$          |  $(\\bar{1} \\bar{1} 0)_m$  | $\\boldsymbol{m}_{(\\bar{1} \\bar{1} 0)_m}$ |"
   ]
  },
  {
   "cell_type": "code",
   "execution_count": 12,
   "id": "interstate-record",
   "metadata": {},
   "outputs": [],
   "source": [
    "## Orientation Relationship   rL: V₂ → V₄\n",
    "\n",
    "#(-1 -1 0) compound twin\n",
    "rL_v2tov4 = rotationmatrix([-1,-1,0] @ inv(rPv2), np.pi)\n",
    "\n",
    "#Transformation relation: R ↔ V₄\n",
    "rPv4 = rL_v2tov4 @ rPv2\n",
    "\n",
    "## Append transformation matrix & del variables\n",
    "rPv13241s.append(rPv2)\n",
    "del rPv2"
   ]
  },
  {
   "cell_type": "markdown",
   "id": "parallel-director",
   "metadata": {},
   "source": [
    "$V_4$ lattice vectors: $\\boldsymbol{a}$ and $\\boldsymbol{b}$"
   ]
  },
  {
   "cell_type": "code",
   "execution_count": 13,
   "id": "threatened-labor",
   "metadata": {},
   "outputs": [
    {
     "name": "stdout",
     "output_type": "stream",
     "text": [
      "[[ 0.007987  0.995208  0.      ]\n",
      " [ 0.999968 -0.014376  0.      ]\n",
      " [ 0.        0.       -0.93503 ]]\n"
     ]
    },
    {
     "data": {
      "image/png": "[encoded data removed]",
      "text/plain": [
       "<Figure size 432x288 with 1 Axes>"
      ]
     },
     "metadata": {},
     "output_type": "display_data"
    }
   ],
   "source": [
    "print(applythresh(rPv4))\n",
    "\n",
    "## plot lattice vectors a and b\n",
    "fig, ax = latticevectors_ab(rPv4)\n",
    "\n",
    "ax.text(-0.015,0.022,r'$\\mathbf{a}_{V_4}$',fontsize=16) #label vector a\n",
    "ax.text(+0.016,-0.009,r'$\\mathbf{b}_{V_4}$',fontsize=16) #label vector b\n",
    "\n",
    "ax.set_xticks([]); ax.set_yticks([]) # remove ticks\n",
    "\n",
    "plt.show() # show plot\n",
    "del fig,ax"
   ]
  },
  {
   "cell_type": "markdown",
   "id": "difficult-classification",
   "metadata": {},
   "source": [
    "Angle between TB pair: $(\\bar{1} \\bar{1} 0)_{V_4}$ & $(1 q_4 0)_{V_4}$"
   ]
  },
  {
   "cell_type": "code",
   "execution_count": 14,
   "id": "decent-adventure",
   "metadata": {},
   "outputs": [
    {
     "name": "stdout",
     "output_type": "stream",
     "text": [
      "angle between (-1 -1 0) and (1 q4 0) pair: 153.1173 degrees\n"
     ]
    }
   ],
   "source": [
    "## Angle between (-1 -1 0) and (1 q4 0) pair\n",
    "alpha4 = 180 - angleTBpair(rPv4,[-1,-1,0],[1,q4,0])\n",
    "print('angle between (-1 -1 0) and (1 q4 0) pair: %.4f degrees' % alpha4)"
   ]
  },
  {
   "cell_type": "markdown",
   "id": "arranged-interaction",
   "metadata": {},
   "source": [
    "### Sum of angles"
   ]
  },
  {
   "cell_type": "code",
   "execution_count": 15,
   "id": "handmade-alberta",
   "metadata": {},
   "outputs": [
    {
     "name": "stdout",
     "output_type": "stream",
     "text": [
      "sum of angles: 360.0000 degrees\n",
      "\n",
      "disclination angle: 0.0000 degrees\n"
     ]
    }
   ],
   "source": [
    "sum_of_angles = alpha1 + alpha3 + alpha2 + alpha4\n",
    "del alpha1, alpha3, alpha2, alpha4\n",
    "print('sum of angles: %.4f degrees' % sum_of_angles)\n",
    "print()\n",
    "\n",
    "disclination_angle = sum_of_angles - 360\n",
    "print('disclination angle: %.4f degrees' % disclination_angle)\n",
    "del sum_of_angles"
   ]
  },
  {
   "cell_type": "markdown",
   "id": "dirty-allah",
   "metadata": {},
   "source": [
    "### Disclination character: Independent of sum of angles\n",
    "\n",
    "We will compute sequential product of misorientation. So, we require one final transformation before computation"
   ]
  },
  {
   "cell_type": "markdown",
   "id": "governmental-birth",
   "metadata": {},
   "source": [
    "#### $V_1^*$\n",
    "\n",
    "Orientation relationship\n",
    "\n",
    "| Variant Transformation | Twin Boundary |  Orientation Relationship  |\n",
    "| ---------------------: | :-----------: | :------------------------: |\n",
    "| $V_4 \\to V_1^*$          |  $(1 q_4 0)_m$  | $\\sim \\boldsymbol{4}^+_{(001)_m}$ |"
   ]
  },
  {
   "cell_type": "code",
   "execution_count": 16,
   "id": "quantitative-deviation",
   "metadata": {},
   "outputs": [],
   "source": [
    "## Orientation Relationship   rL: V₄ → V₁*\n",
    "\n",
    "#(1 q4 0) NC twin\n",
    "#OR_NCtwins(K1,eta1,rPm,am,plane normal is positive? (i.e. points to the twin?))\n",
    "rL_v4tov1 = OR_NCtwins([1,q4,0],[-q4,1,0],rPv4,a,normal_pos=True)\n",
    "\n",
    "#Transformation relation: R ↔ V₁*\n",
    "rPv1s = rL_v4tov1 @ rPv4\n",
    "\n",
    "## Append transformation matrix & del variables\n",
    "rPv13241s.append(rPv4)\n",
    "del rPv4"
   ]
  },
  {
   "cell_type": "code",
   "execution_count": 17,
   "id": "better-allergy",
   "metadata": {},
   "outputs": [
    {
     "name": "stdout",
     "output_type": "stream",
     "text": [
      "[[ 1.       -0.006427  0.      ]\n",
      " [ 0.       -0.995291  0.      ]\n",
      " [ 0.        0.       -0.93503 ]]\n"
     ]
    },
    {
     "data": {
      "image/png": "[encoded data removed]",
      "text/plain": [
       "<Figure size 432x288 with 1 Axes>"
      ]
     },
     "metadata": {},
     "output_type": "display_data"
    }
   ],
   "source": [
    "print(applythresh(rPv1s))\n",
    "\n",
    "## plot lattice vectors a and b\n",
    "fig, ax = latticevectors_ab(rPv1s)\n",
    "\n",
    "ax.text(+0.015,+0.005,r'$\\mathbf{a}_{V_1^*}$',fontsize=16) #label vector a\n",
    "ax.text(-0.015,-0.02,r'$\\mathbf{b}_{V_1^*}$',fontsize=16) #label vector b\n",
    "\n",
    "ax.set_xticks([]); ax.set_yticks([]) # remove ticks\n",
    "\n",
    "plt.show() # show plot\n",
    "del fig,ax"
   ]
  },
  {
   "cell_type": "code",
   "execution_count": 18,
   "id": "immediate-perception",
   "metadata": {},
   "outputs": [],
   "source": [
    "## Append transformation matrix & del variables\n",
    "rPv13241s.append(rPv1s)\n",
    "del rPv1s"
   ]
  },
  {
   "cell_type": "markdown",
   "id": "sought-guatemala",
   "metadata": {},
   "source": [
    "#### Product of Misorientation"
   ]
  },
  {
   "cell_type": "code",
   "execution_count": 19,
   "id": "advised-atlas",
   "metadata": {},
   "outputs": [
    {
     "name": "stdout",
     "output_type": "stream",
     "text": [
      "Misorientation across QL =  [[1. 0. 0.]\n",
      " [0. 1. 0.]\n",
      " [0. 0. 1.]]\n"
     ]
    }
   ],
   "source": [
    "# product of misorientation\n",
    "PoM = rL_v4tov1 @ rL_v2tov4 @ rL_v3tov2 @ rL_v1tov3\n",
    "del rL_v4tov1, rL_v2tov4, rL_v3tov2, rL_v1tov3\n",
    "\n",
    "print('Misorientation across QL = ', applythresh(PoM))"
   ]
  },
  {
   "cell_type": "markdown",
   "id": "indonesian-relation",
   "metadata": {},
   "source": [
    "### Save Transformation Matrix of all Variants"
   ]
  },
  {
   "cell_type": "code",
   "execution_count": 20,
   "id": "naughty-december",
   "metadata": {},
   "outputs": [],
   "source": [
    "## Save transformation matrix of all variants\n",
    "#with open('rPv13241s.txt', 'w') as filehandle:\n",
    "#    for listitem in rPv13241s:\n",
    "#        filehandle.write('%s\\n\\n' % listitem)\n",
    "#del rPv13241s"
   ]
  }
 ],
 "metadata": {
  "kernelspec": {
   "display_name": "Python 3",
   "language": "python",
   "name": "python3"
  },
  "language_info": {
   "codemirror_mode": {
    "name": "ipython",
    "version": 3
   },
   "file_extension": ".py",
   "mimetype": "text/x-python",
   "name": "python",
   "nbconvert_exporter": "python",
   "pygments_lexer": "ipython3",
   "version": "3.8.5"
  }
 },
 "nbformat": 4,
 "nbformat_minor": 5
}
