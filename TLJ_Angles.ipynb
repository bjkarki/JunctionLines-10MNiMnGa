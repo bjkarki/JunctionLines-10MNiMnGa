{
 "cells": [
  {
   "cell_type": "markdown",
   "id": "imported-description",
   "metadata": {},
   "source": [
    "# Triple Line Junctions\n",
    "\n",
    "**Objective**: Calculate the misorientation angle at the *triple line junction* of deformation twinning in 10M Ni-Mn-Ga"
   ]
  },
  {
   "cell_type": "markdown",
   "id": "experienced-wallet",
   "metadata": {},
   "source": [
    "### Import packages"
   ]
  },
  {
   "cell_type": "code",
   "execution_count": 1,
   "id": "persistent-facial",
   "metadata": {},
   "outputs": [],
   "source": [
    "## numpy: package for cumputing numerical arrays\n",
    "from numpy.linalg import inv #inverse of a matrix\n",
    "import numpy as np\n",
    "np.set_printoptions(precision=4) #precision of arrays\n",
    "\n",
    "## matplotlib: package for plotting\n",
    "from matplotlib import pyplot as plt\n",
    "%matplotlib inline\n",
    "\n",
    "## import functions from twinning\n",
    "from twinning import *"
   ]
  },
  {
   "cell_type": "markdown",
   "id": "found-ideal",
   "metadata": {},
   "source": [
    "### 10M Ni-Mn-Ga\n",
    "\n",
    "1. Lattice parameters\n",
    "2. Irrational element of NC twins"
   ]
  },
  {
   "cell_type": "code",
   "execution_count": 2,
   "id": "standing-algorithm",
   "metadata": {},
   "outputs": [],
   "source": [
    "## lattice parameters\n",
    "a,b,c,gamma = [0.5972, 0.5944, 0.5584, np.deg2rad(90.37)] #NMG lattice parameter: Seiner et al. (2019)\n",
    "#a,b,c,gamma = [1., 0.97, 0.94, np.deg2rad(94)] #Exaggerated lattice\n",
    "\n",
    "## irrational element of NC twins\n",
    "q3 = (2*a*b*np.cos(gamma) - np.sqrt(a**4 + b**4 + 2*a**2*b**2*np.cos(2*gamma)))/(a**2 - b**2)\n",
    "q4 = (2*a*b*np.cos(gamma) + np.sqrt(a**4 + b**4 + 2*a**2*b**2*np.cos(2*gamma)))/(a**2 - b**2)"
   ]
  },
  {
   "cell_type": "markdown",
   "id": "actual-steam",
   "metadata": {},
   "source": [
    "### Transformation Relation\n",
    "\n",
    "#### $V_1$\n",
    "\n",
    "Crystal Coordiante Frame ($V_1$) $\\leftrightarrow$ Reference Frame ($R$): $^R\\mathbf{P}^{V_1}$"
   ]
  },
  {
   "cell_type": "code",
   "execution_count": 3,
   "id": "modular-tuning",
   "metadata": {},
   "outputs": [],
   "source": [
    "## Transformation: R → V1\n",
    "rPv1 = np.array([[1,b/a*np.cos(gamma),0],[0,-b/a*np.sin(gamma),0],[0,0,-c/a]])"
   ]
  },
  {
   "cell_type": "markdown",
   "id": "educated-devil",
   "metadata": {},
   "source": [
    "$V_1$ lattice vectors: $\\boldsymbol{a}$ & $\\boldsymbol{b}$"
   ]
  },
  {
   "cell_type": "code",
   "execution_count": 4,
   "id": "finnish-bronze",
   "metadata": {},
   "outputs": [
    {
     "name": "stdout",
     "output_type": "stream",
     "text": [
      "[[ 1.     -0.0064  0.    ]\n",
      " [ 0.     -0.9953  0.    ]\n",
      " [ 0.      0.     -0.935 ]]\n"
     ]
    },
    {
     "data": {
      "image/png": "[encoded data removed]",
      "text/plain": [
       "<Figure size 432x288 with 1 Axes>"
      ]
     },
     "metadata": {},
     "output_type": "display_data"
    }
   ],
   "source": [
    "print(rPv1)\n",
    "\n",
    "## plot lattice vectors a and b\n",
    "fig, ax = latticevectors_ab(rPv1)\n",
    "\n",
    "ax.text(+0.015,+0.005,r'$\\mathbf{a}_{V_1}$',fontsize=16) #label vector a\n",
    "ax.text(-0.015,-0.02,r'$\\mathbf{b}_{V_1}$',fontsize=16) #label vector b\n",
    "\n",
    "ax.set_xticks([]); ax.set_yticks([]) # remove ticks\n",
    "\n",
    "plt.show() # show plot\n",
    "del fig,ax"
   ]
  },
  {
   "cell_type": "markdown",
   "id": "unauthorized-deadline",
   "metadata": {},
   "source": [
    "### Orientation Relationship\n",
    "\n",
    "| Variant Transformation | Twin Type        | Twin Boundary |\n",
    "| :--------------------: | :--------------: | :-----------: |\n",
    "| $V_1 \\to V_4$          | Non-conventional | $(1 q_3 0)_m$ |\n",
    "| $V_4 \\to V_2$          | Compound         | $(1 1 0)_m$   |\n",
    "| $V_2 \\to V_3$          | Non-conventional | $(1 q_3 0)_m$ |\n",
    "| $V_3 \\to V_4$          | Compound         | $(1 0 0)_m$   |\n"
   ]
  },
  {
   "cell_type": "markdown",
   "id": "experimental-replication",
   "metadata": {},
   "source": [
    "#### $V_4$\n",
    "\n",
    "Orientation relationship"
   ]
  },
  {
   "cell_type": "code",
   "execution_count": 5,
   "id": "mexican-irish",
   "metadata": {},
   "outputs": [],
   "source": [
    "## Orientation Relationship   rL: V₁ → V₄ \n",
    "\n",
    "#(1 q3 0) NC twins\n",
    "rL_v1tov4 = OR_NCtwins([1,q3,0],[q3,-1,0],rPv1,a)\n",
    "#rL_v1tov4 = rotationmatrix(rPv1 @ [0,0,1],np.pi/2)\n",
    "\n",
    "#Transformation relation: R ↔ V₄\n",
    "rPv4 = rL_v1tov4 @ rPv1; del rL_v1tov4\n",
    "#print(rPv4); print()"
   ]
  },
  {
   "cell_type": "markdown",
   "id": "classical-tackle",
   "metadata": {},
   "source": [
    "Angle between TB pair: $(100)_{V_4}$ & $(110)_{V_4}$"
   ]
  },
  {
   "cell_type": "code",
   "execution_count": 6,
   "id": "decent-lebanon",
   "metadata": {},
   "outputs": [
    {
     "name": "stdout",
     "output_type": "stream",
     "text": [
      "angle between (100) and (110) pair: 44.9488 degrees\n"
     ]
    }
   ],
   "source": [
    "## Angle between (100) and (110) pair\n",
    "alpha1 = angleTBpair(rPv4,[1,0,0],[1,1,0])\n",
    "print('angle between (100) and (110) pair: %.4f degrees' % alpha1)"
   ]
  },
  {
   "cell_type": "markdown",
   "id": "abstract-armenia",
   "metadata": {},
   "source": [
    "$V_4$ lattice vectors: $\\boldsymbol{a}$ & $\\boldsymbol{b}$"
   ]
  },
  {
   "cell_type": "code",
   "execution_count": 7,
   "id": "radical-fiction",
   "metadata": {},
   "outputs": [
    {
     "name": "stdout",
     "output_type": "stream",
     "text": [
      "[[-0.008  -0.9952  0.    ]\n",
      " [-1.      0.0144  0.    ]\n",
      " [ 0.      0.     -0.935 ]]\n"
     ]
    },
    {
     "data": {
      "image/png": "[encoded data removed]",
      "text/plain": [
       "<Figure size 432x288 with 1 Axes>"
      ]
     },
     "metadata": {},
     "output_type": "display_data"
    }
   ],
   "source": [
    "print(rPv4)\n",
    "\n",
    "## plot lattice vectors a and b\n",
    "fig, ax = latticevectors_ab(rPv4)\n",
    "\n",
    "ax.text(+0.002,-0.02,r'$\\mathbf{a}_{V_4}$',fontsize=16) #label vector a\n",
    "ax.text(-0.025,+0.005,r'$\\mathbf{b}_{V_4}$',fontsize=16) #label vector b\n",
    "\n",
    "ax.set_xticks([]); ax.set_yticks([]) # remove ticks\n",
    "\n",
    "plt.show() # show plot\n",
    "del fig,ax"
   ]
  },
  {
   "cell_type": "markdown",
   "id": "aggregate-camera",
   "metadata": {},
   "source": [
    "#### $V_2$\n",
    "\n",
    "Orientation relationship"
   ]
  },
  {
   "cell_type": "code",
   "execution_count": 8,
   "id": "modern-response",
   "metadata": {},
   "outputs": [],
   "source": [
    "## Orientation Relationship   rL: V₄ → V₂\n",
    "\n",
    "#(1 1 0) compound twin\n",
    "rL_v4tov2 = rotationmatrix([1,1,0]@inv(rPv4),np.pi)\n",
    "\n",
    "#Transformation relation: R ↔ V₂\n",
    "rPv2 = rL_v4tov2 @ rPv4; del rL_v4tov2\n",
    "#print(rPv2); print()"
   ]
  },
  {
   "cell_type": "markdown",
   "id": "material-watts",
   "metadata": {},
   "source": [
    "Angle between TB pair: $(1 q_3 0)_{V_2}$ & $(110)_{V_2}$"
   ]
  },
  {
   "cell_type": "code",
   "execution_count": 9,
   "id": "iraqi-stamp",
   "metadata": {},
   "outputs": [
    {
     "name": "stdout",
     "output_type": "stream",
     "text": [
      "angle between (1 q3 0) and (110) pair: 117.3403 degrees\n"
     ]
    }
   ],
   "source": [
    "## Angle between (1 q3 0) and (110) pair\n",
    "alpha2 = 180 - angleTBpair(rPv2,[1,q3,0],[1,1,0])\n",
    "print('angle between (1 q3 0) and (110) pair: %.4f degrees' % alpha2)"
   ]
  },
  {
   "cell_type": "markdown",
   "id": "hazardous-debut",
   "metadata": {},
   "source": [
    "$V_2$ lattice vectors: $\\boldsymbol{a}$ & $\\boldsymbol{b}$"
   ]
  },
  {
   "cell_type": "code",
   "execution_count": 10,
   "id": "composite-motel",
   "metadata": {},
   "outputs": [
    {
     "name": "stdout",
     "output_type": "stream",
     "text": [
      "[[-0.9998 -0.0126  0.    ]\n",
      " [ 0.0191 -0.9952  0.    ]\n",
      " [ 0.      0.      0.935 ]]\n"
     ]
    },
    {
     "data": {
      "image/png": "[encoded data removed]",
      "text/plain": [
       "<Figure size 432x288 with 1 Axes>"
      ]
     },
     "metadata": {},
     "output_type": "display_data"
    }
   ],
   "source": [
    "print(rPv2)\n",
    "\n",
    "## plot lattice vectors a and b\n",
    "fig, ax = latticevectors_ab(rPv2)\n",
    "\n",
    "ax.text(0.002,-0.022,r'$\\mathbf{b}_{V_2}$',fontsize=16) #label vector a\n",
    "ax.text(-0.025,+0.005,r'$\\mathbf{a}_{V_2}$',fontsize=16) #label vector b\n",
    "\n",
    "ax.set_xticks([]); ax.set_yticks([]) # remove ticks\n",
    "\n",
    "plt.show() # show plot\n",
    "del fig,ax"
   ]
  },
  {
   "cell_type": "markdown",
   "id": "administrative-samuel",
   "metadata": {},
   "source": [
    "#### $V_3$\n",
    "\n",
    "Orientation relationship"
   ]
  },
  {
   "cell_type": "code",
   "execution_count": 11,
   "id": "disturbed-video",
   "metadata": {},
   "outputs": [],
   "source": [
    "## Orientation Relationship   rL: V₂ → V₃\n",
    "\n",
    "#(1 q3 0) NC twin\n",
    "rL_v2tov3 = OR_NCtwins([1,q3,0],[q3,-1,0],rPv2,a)\n",
    "#rL_v2tov3 = rotationmatrix(rPv2 @ [0,0,1],np.pi/2)\n",
    "\n",
    "#Transformation relation: R ↔ V₃\n",
    "rPv3 = rL_v2tov3 @ rPv2; del rL_v2tov3\n",
    "#print(rPv3); print()"
   ]
  },
  {
   "cell_type": "markdown",
   "id": "loved-johns",
   "metadata": {},
   "source": [
    "TB pair: $(q_3 \\bar{1} 0)_{V_3}$ & $(100)_{V_3}$"
   ]
  },
  {
   "cell_type": "code",
   "execution_count": 12,
   "id": "miniature-safety",
   "metadata": {},
   "outputs": [
    {
     "name": "stdout",
     "output_type": "stream",
     "text": [
      "angle between (q3 -1 0) and (100) pair: 198.0660 degrees\n"
     ]
    }
   ],
   "source": [
    "## Angle between (q3 -1 0) and (1 0 0) pair\n",
    "alpha3 = 180 + angleTBpair(rPv3,[q3,-1,0],[1,0,0])\n",
    "print('angle between (q3 -1 0) and (100) pair: %.4f degrees' % alpha3)"
   ]
  },
  {
   "cell_type": "markdown",
   "id": "meaning-south",
   "metadata": {},
   "source": [
    "$V_3$ lattice vectors: $\\boldsymbol{a}$ & $\\boldsymbol{b}$"
   ]
  },
  {
   "cell_type": "code",
   "execution_count": 13,
   "id": "finished-shannon",
   "metadata": {},
   "outputs": [
    {
     "name": "stdout",
     "output_type": "stream",
     "text": [
      "[[-0.0111  0.9953  0.    ]\n",
      " [-0.9999 -0.0046  0.    ]\n",
      " [ 0.      0.      0.935 ]]\n"
     ]
    },
    {
     "data": {
      "image/png": "[encoded data removed]",
      "text/plain": [
       "<Figure size 432x288 with 1 Axes>"
      ]
     },
     "metadata": {},
     "output_type": "display_data"
    }
   ],
   "source": [
    "print(rPv3)\n",
    "\n",
    "## plot lattice vectors a and b\n",
    "fig, ax = latticevectors_ab(rPv3)\n",
    "\n",
    "ax.text(-0.015,-0.02,r'$\\mathbf{a}_{V_3}$',fontsize=16) #label vector a\n",
    "ax.text(+0.015,+0.005,r'$\\mathbf{b}_{V_3}$',fontsize=16) #label vector b\n",
    "\n",
    "ax.set_xticks([]); ax.set_yticks([]) # remove ticks\n",
    "\n",
    "plt.show() # show plot\n",
    "del fig,ax"
   ]
  },
  {
   "cell_type": "markdown",
   "id": "overhead-richmond",
   "metadata": {},
   "source": [
    "### Sum of Angles"
   ]
  },
  {
   "cell_type": "code",
   "execution_count": 14,
   "id": "precious-intermediate",
   "metadata": {},
   "outputs": [
    {
     "name": "stdout",
     "output_type": "stream",
     "text": [
      "sum of angles: 360.3551 degrees\n",
      "\n",
      "disclination angle: 0.3551 degrees\n"
     ]
    }
   ],
   "source": [
    "sum_of_angles = alpha1+alpha2+alpha3\n",
    "print('sum of angles: %.4f degrees' % sum_of_angles)\n",
    "print()\n",
    "\n",
    "disclination_angle = sum_of_angles - 360\n",
    "print('disclination angle: %.4f degrees' % disclination_angle)"
   ]
  }
 ],
 "metadata": {
  "kernelspec": {
   "display_name": "Python 3",
   "language": "python",
   "name": "python3"
  },
  "language_info": {
   "codemirror_mode": {
    "name": "ipython",
    "version": 3
   },
   "file_extension": ".py",
   "mimetype": "text/x-python",
   "name": "python",
   "nbconvert_exporter": "python",
   "pygments_lexer": "ipython3",
   "version": "3.8.5"
  }
 },
 "nbformat": 4,
 "nbformat_minor": 5
}
