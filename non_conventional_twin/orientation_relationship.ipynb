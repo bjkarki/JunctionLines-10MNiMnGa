{
 "cells": [
  {
   "cell_type": "markdown",
   "metadata": {
    "id": "SzvuCuI4MYp7"
   },
   "source": [
    "### Import Packages"
   ]
  },
  {
   "cell_type": "code",
   "execution_count": 1,
   "metadata": {
    "executionInfo": {
     "elapsed": 365,
     "status": "ok",
     "timestamp": 1611869464388,
     "user": {
      "displayName": "Bibek Karki",
      "photoUrl": "https://lh3.googleusercontent.com/a-/AOh14GgZAW3JQIe6sDhjmuEGMXU8oCCydsNZgmVt4j_VNQ=s64",
      "userId": "03740239371761830413"
     },
     "user_tz": 420
    },
    "id": "nXUMQ97DMYp9"
   },
   "outputs": [],
   "source": [
    "import numpy as np\n",
    "from numpy.linalg import inv\n",
    "np.set_printoptions(precision=6)\n",
    "\n",
    "import sys; sys.path.insert(0, '..')\n",
    "from nmgjunctions.twinning import *"
   ]
  },
  {
   "cell_type": "markdown",
   "metadata": {
    "id": "nJew2EGIMYp-"
   },
   "source": [
    "### Lattice parameters & Irrational Element"
   ]
  },
  {
   "cell_type": "code",
   "execution_count": 2,
   "metadata": {
    "colab": {
     "base_uri": "https://localhost:8080/"
    },
    "executionInfo": {
     "elapsed": 539,
     "status": "ok",
     "timestamp": 1611869464571,
     "user": {
      "displayName": "Bibek Karki",
      "photoUrl": "https://lh3.googleusercontent.com/a-/AOh14GgZAW3JQIe6sDhjmuEGMXU8oCCydsNZgmVt4j_VNQ=s64",
      "userId": "03740239371761830413"
     },
     "user_tz": 420
    },
    "id": "23tUOXUsMYp-",
    "outputId": "5a8ed0a7-094d-46ed-aff8-acae605d5fb0"
   },
   "outputs": [
    {
     "name": "stdout",
     "output_type": "stream",
     "text": [
      "q3 =  -3.0735\n"
     ]
    }
   ],
   "source": [
    "## Lattice Parameters\n",
    "a, b, c, gamma = [0.5972,0.5944,0.5584,np.deg2rad(90.37)]\n",
    "\n",
    "## Irrational Element\n",
    "q3 = (2*a*b*np.cos(gamma) - np.sqrt(a**4 + b**4 + 2*a**2*b**2*np.cos(2*gamma)))/(a**2 - b**2);\n",
    "print('q3 = ',round(q3,4))"
   ]
  },
  {
   "cell_type": "markdown",
   "metadata": {
    "id": "Z9jRInFAMYqA"
   },
   "source": [
    "### Metric Tensor"
   ]
  },
  {
   "cell_type": "code",
   "execution_count": 3,
   "metadata": {
    "colab": {
     "base_uri": "https://localhost:8080/"
    },
    "executionInfo": {
     "elapsed": 529,
     "status": "ok",
     "timestamp": 1611869464572,
     "user": {
      "displayName": "Bibek Karki",
      "photoUrl": "https://lh3.googleusercontent.com/a-/AOh14GgZAW3JQIe6sDhjmuEGMXU8oCCydsNZgmVt4j_VNQ=s64",
      "userId": "03740239371761830413"
     },
     "user_tz": 420
    },
    "id": "vkxPy-tDMYqA",
    "outputId": "b132ca08-b729-429f-a01f-32ef65f6c55a"
   },
   "outputs": [
    {
     "name": "stdout",
     "output_type": "stream",
     "text": [
      "[[ 0.356648 -0.002292  0.      ]\n",
      " [-0.002292  0.353311  0.      ]\n",
      " [ 0.        0.        0.311811]]\n"
     ]
    }
   ],
   "source": [
    "G = np.matrix([[a**2,a*b*np.cos(gamma),0],[a*b*np.cos(gamma),b**2,0],[0,0,c**2]])\n",
    "print(G)"
   ]
  },
  {
   "cell_type": "markdown",
   "metadata": {
    "id": "kAz-oemKMYp_"
   },
   "source": [
    "### Transformation Matrix: $V_1 \\to R$"
   ]
  },
  {
   "cell_type": "code",
   "execution_count": 4,
   "metadata": {
    "colab": {
     "base_uri": "https://localhost:8080/"
    },
    "executionInfo": {
     "elapsed": 521,
     "status": "ok",
     "timestamp": 1611869464573,
     "user": {
      "displayName": "Bibek Karki",
      "photoUrl": "https://lh3.googleusercontent.com/a-/AOh14GgZAW3JQIe6sDhjmuEGMXU8oCCydsNZgmVt4j_VNQ=s64",
      "userId": "03740239371761830413"
     },
     "user_tz": 420
    },
    "id": "teyzY0wFMYqA",
    "outputId": "5189320f-065c-4ce7-cc22-9c6992242ce4"
   },
   "outputs": [
    {
     "name": "stdout",
     "output_type": "stream",
     "text": [
      "[[ 1.       -0.006427  0.      ]\n",
      " [ 0.       -0.995291  0.      ]\n",
      " [ 0.        0.       -0.93503 ]]\n"
     ]
    },
    {
     "data": {
      "image/png": "[encoded data removed]",
      "text/plain": [
       "<Figure size 432x288 with 1 Axes>"
      ]
     },
     "metadata": {},
     "output_type": "display_data"
    }
   ],
   "source": [
    "rPv1 = np.matrix([[1,b/a*np.cos(gamma),0],[0,-b/a*np.sin(gamma),0],[0,0,-c/a]]);\n",
    "print(rPv1)\n",
    "\n",
    "## plot lattice vectors a and b\n",
    "fig, ax = latticevectors_ab(rPv1)\n",
    "\n",
    "ax.text(+0.015,+0.005,r'$\\mathbf{a}_{V_1}$',fontsize=16) #label vector a\n",
    "ax.text(-0.015,-0.02,r'$\\mathbf{b}_{V_1}$',fontsize=16) #label vector b\n",
    "\n",
    "ax.set_xticks([]); ax.set_yticks([]) # remove ticks\n",
    "\n",
    "plt.show() # show plot\n",
    "del fig,ax"
   ]
  },
  {
   "cell_type": "markdown",
   "metadata": {
    "id": "zXzkWKf9MYqB"
   },
   "source": [
    "### Correspondence Matrix"
   ]
  },
  {
   "cell_type": "code",
   "execution_count": 5,
   "metadata": {
    "colab": {
     "base_uri": "https://localhost:8080/"
    },
    "executionInfo": {
     "elapsed": 514,
     "status": "ok",
     "timestamp": 1611869464574,
     "user": {
      "displayName": "Bibek Karki",
      "photoUrl": "https://lh3.googleusercontent.com/a-/AOh14GgZAW3JQIe6sDhjmuEGMXU8oCCydsNZgmVt4j_VNQ=s64",
      "userId": "03740239371761830413"
     },
     "user_tz": 420
    },
    "id": "jgyiL5pcMYqB",
    "outputId": "fd510648-bdc2-4552-c6f5-45c7855e4660"
   },
   "outputs": [
    {
     "name": "stdout",
     "output_type": "stream",
     "text": [
      "[[ 0 -1  0]\n",
      " [ 1  0  0]\n",
      " [ 0  0  1]]\n"
     ]
    }
   ],
   "source": [
    "C = np.matrix([[0,-1,0],[1,0,0],[0,0,1]])\n",
    "print(C)"
   ]
  },
  {
   "cell_type": "markdown",
   "metadata": {
    "id": "cnInpg-TMYqC"
   },
   "source": [
    "### shear"
   ]
  },
  {
   "cell_type": "code",
   "execution_count": 6,
   "metadata": {
    "colab": {
     "base_uri": "https://localhost:8080/"
    },
    "executionInfo": {
     "elapsed": 505,
     "status": "ok",
     "timestamp": 1611869464575,
     "user": {
      "displayName": "Bibek Karki",
      "photoUrl": "https://lh3.googleusercontent.com/a-/AOh14GgZAW3JQIe6sDhjmuEGMXU8oCCydsNZgmVt4j_VNQ=s64",
      "userId": "03740239371761830413"
     },
     "user_tz": 420
    },
    "id": "jKiZizzZMYqC",
    "outputId": "fefa4af0-68df-4d72-b1ae-bf9ee22f5c56"
   },
   "outputs": [
    {
     "name": "stdout",
     "output_type": "stream",
     "text": [
      "s =  0.01597\n"
     ]
    }
   ],
   "source": [
    "s = np.sqrt(np.trace(C.T @ G @ C @ inv(G))-3)\n",
    "print('s = ', round(s,5))"
   ]
  },
  {
   "cell_type": "markdown",
   "metadata": {
    "id": "x0NX3a26MYqC"
   },
   "source": [
    "### Non-conventional Twinning Mode"
   ]
  },
  {
   "cell_type": "markdown",
   "metadata": {
    "id": "z2rf_wW6MYqD"
   },
   "source": [
    "#### Twinning Mode in $V_1 - $frame"
   ]
  },
  {
   "cell_type": "code",
   "execution_count": 7,
   "metadata": {
    "colab": {
     "base_uri": "https://localhost:8080/"
    },
    "executionInfo": {
     "elapsed": 498,
     "status": "ok",
     "timestamp": 1611869464575,
     "user": {
      "displayName": "Bibek Karki",
      "photoUrl": "https://lh3.googleusercontent.com/a-/AOh14GgZAW3JQIe6sDhjmuEGMXU8oCCydsNZgmVt4j_VNQ=s64",
      "userId": "03740239371761830413"
     },
     "user_tz": 420
    },
    "id": "FErTFJxCMYqD",
    "outputId": "6886107e-4200-44a3-e9a6-0f010f8a6926"
   },
   "outputs": [
    {
     "name": "stdout",
     "output_type": "stream",
     "text": [
      "K1 =  [[ 1.       -3.073543  0.      ]]\n",
      "eta1 =  [[-3.073543]\n",
      " [-1.      ]\n",
      " [ 0.      ]]\n"
     ]
    }
   ],
   "source": [
    "## invariant plane\n",
    "K1 = np.matrix([1,q3,0]);\n",
    "print('K1 = ', K1)\n",
    "\n",
    "## shear direction\n",
    "eta1 = np.matrix([[q3],[-1],[0]]);\n",
    "print('eta1 = ',eta1)"
   ]
  },
  {
   "cell_type": "markdown",
   "metadata": {
    "id": "zatb1DqxMYqD"
   },
   "source": [
    "#### Twinning Mode in $R - $frame\n",
    "\n",
    "$^R \\boldsymbol{l}$ : unit vector parallel to the shear direction\n",
    "\n",
    "$^R \\boldsymbol{m}$ : unit vector normal to the invariant plane\n"
   ]
  },
  {
   "cell_type": "code",
   "execution_count": 8,
   "metadata": {
    "colab": {
     "base_uri": "https://localhost:8080/"
    },
    "executionInfo": {
     "elapsed": 708,
     "status": "ok",
     "timestamp": 1611869464794,
     "user": {
      "displayName": "Bibek Karki",
      "photoUrl": "https://lh3.googleusercontent.com/a-/AOh14GgZAW3JQIe6sDhjmuEGMXU8oCCydsNZgmVt4j_VNQ=s64",
      "userId": "03740239371761830413"
     },
     "user_tz": 420
    },
    "id": "R2WIjzzlMYqE",
    "outputId": "517f0cbb-5e36-4ec4-a81f-5443ce91f3e5"
   },
   "outputs": [
    {
     "name": "stdout",
     "output_type": "stream",
     "text": [
      "[[-0.951173]\n",
      " [ 0.308659]\n",
      " [ 0.      ]]\n",
      "[[0.308659 0.951173 0.      ]]\n"
     ]
    }
   ],
   "source": [
    "rl = rPv1 @ eta1 #shear direction in R-frame\n",
    "rl = rl / np.sqrt(rl.T @ rl) #unit vector parallel to shear direction\n",
    "print(rl)\n",
    "\n",
    "rm = K1 @ inv(rPv1) #invariant plane in R-frame\n",
    "rm = rm / np.sqrt(rm @ rm.T) #unit vector normal to invariant plane\n",
    "print(rm)"
   ]
  },
  {
   "cell_type": "markdown",
   "metadata": {
    "id": "7coGKzC4MYqE"
   },
   "source": [
    "#### Shear Matrix in $R - $frame \n",
    "\n",
    "$^RS^i_j = \\delta^i_j + s\\ ^Rl^i\\ ^Rm_j $"
   ]
  },
  {
   "cell_type": "code",
   "execution_count": 9,
   "metadata": {
    "colab": {
     "base_uri": "https://localhost:8080/"
    },
    "executionInfo": {
     "elapsed": 705,
     "status": "ok",
     "timestamp": 1611869464798,
     "user": {
      "displayName": "Bibek Karki",
      "photoUrl": "https://lh3.googleusercontent.com/a-/AOh14GgZAW3JQIe6sDhjmuEGMXU8oCCydsNZgmVt4j_VNQ=s64",
      "userId": "03740239371761830413"
     },
     "user_tz": 420
    },
    "id": "NnDpPnk9MYqF",
    "outputId": "5ddee8c9-2e44-429d-8dc8-50797a795a9e"
   },
   "outputs": [
    {
     "name": "stdout",
     "output_type": "stream",
     "text": [
      "[[ 0.99531  -0.014452  0.      ]\n",
      " [ 0.001522  1.00469   0.      ]\n",
      " [ 0.        0.        1.      ]]\n"
     ]
    }
   ],
   "source": [
    "## initialize 3 by 3 matrix\n",
    "rS = np.zeros([3,3])\n",
    "\n",
    "# Using the einstein notation\n",
    "#1st row\n",
    "rS[0,0] = 1 + s * rl.item(0) * rm.item(0) #i=0,j=0\n",
    "rS[0,1] = 0 + s * rl.item(0) * rm.item(1) #i=0,j=1\n",
    "rS[0,2] = 0 + s * rl.item(0) * rm.item(2) #i=0,j=2\n",
    "#2nd row\n",
    "rS[1,0] = 0 + s * rl.item(1) * rm.item(0) #i=1,j=0\n",
    "rS[1,1] = 1 + s * rl.item(1) * rm.item(1) #i=1,j=1\n",
    "rS[1,2] = 0 + s * rl.item(1) * rm.item(2) #i=1,j=2\n",
    "#3rd row\n",
    "rS[2,0] = 0 + s * rl.item(2) * rm.item(0) #i=2,j=0\n",
    "rS[2,1] = 0 + s * rl.item(2) * rm.item(1) #i=2,j=1\n",
    "rS[2,2] = 1 + s * rl.item(2) * rm.item(2) #i=2,j=2\n",
    "\n",
    "#convert to matrix and print\n",
    "rS = np.asmatrix(rS)\n",
    "print(rS)"
   ]
  },
  {
   "cell_type": "markdown",
   "metadata": {
    "id": "XjH_AyGNMYqF"
   },
   "source": [
    "#### Orientation Relationship in $R - $frame\n",
    "\n",
    "We know,\n",
    "\n",
    "$^{V_4}\\boldsymbol{v}\\ \\ =\\ \\ C\\ \\ ^{V_1}\\boldsymbol{u}$\n",
    "\n",
    "where,\n",
    "\n",
    "$\\boldsymbol{C}\\ \\ =\\ \\ ^{V_1}\\boldsymbol{L}\\ \\ ^{V_1} \\boldsymbol{S}$,\n",
    "\n",
    "Thus,\n",
    "\n",
    "$^R\\boldsymbol{L} (V_1 \\to V_4)\\ \\ =\\ \\ ^R\\boldsymbol{P}^{V_1}\\ \\ \\boldsymbol{C}\\ \\ ^{V_1}\\boldsymbol{P}^R\\ \\ ^R \\boldsymbol{S}^{-1}$"
   ]
  },
  {
   "cell_type": "code",
   "execution_count": 10,
   "metadata": {
    "colab": {
     "base_uri": "https://localhost:8080/"
    },
    "executionInfo": {
     "elapsed": 702,
     "status": "ok",
     "timestamp": 1611869464803,
     "user": {
      "displayName": "Bibek Karki",
      "photoUrl": "https://lh3.googleusercontent.com/a-/AOh14GgZAW3JQIe6sDhjmuEGMXU8oCCydsNZgmVt4j_VNQ=s64",
      "userId": "03740239371761830413"
     },
     "user_tz": 420
    },
    "id": "C3-7M95kMYqF",
    "outputId": "41010f39-2ba7-4b62-bb09-855c3a60e875"
   },
   "outputs": [
    {
     "name": "stdout",
     "output_type": "stream",
     "text": [
      "\n",
      "[[-0.007987  0.999968  0.      ]\n",
      " [-0.999968 -0.007987  0.      ]\n",
      " [ 0.        0.        1.      ]]\n",
      "\n",
      "theta1: 90.46 degrees & theta2: 89.54 degrees\n"
     ]
    }
   ],
   "source": [
    "rL_v1tov4 = rPv1 @ C @ inv(rPv1) @ inv(rS)\n",
    "print()\n",
    "print(rL_v1tov4)\n",
    "\n",
    "theta1 = np.degrees(np.arccos(rL_v1tov4[0,0]))\n",
    "theta2 = np.degrees(np.arcsin(rL_v1tov4[0,1]))\n",
    "print()\n",
    "print(\"theta1: {0} degrees & theta2: {1} degrees\".format(round(theta1,2),round(theta2,2)))"
   ]
  },
  {
   "cell_type": "markdown",
   "metadata": {},
   "source": [
    "Resembles (clockwise) rotation matrix, except the transformation is $(\\cos\\theta_1, -\\sin\\theta_2)$, $\\theta_1 \\simeq \\theta_2$\n",
    "\n",
    "1. $\\theta_1 = 90.46^\\circ$\n",
    "2. $\\theta_2 = 89.54^\\circ$"
   ]
  },
  {
   "cell_type": "markdown",
   "metadata": {},
   "source": [
    "### Transformation Matrix: $V_4 \\to R$"
   ]
  },
  {
   "cell_type": "code",
   "execution_count": 11,
   "metadata": {},
   "outputs": [
    {
     "name": "stdout",
     "output_type": "stream",
     "text": [
      "[[-0.007987 -0.995208  0.      ]\n",
      " [-0.999968  0.014376  0.      ]\n",
      " [ 0.        0.       -0.93503 ]]\n"
     ]
    },
    {
     "data": {
      "image/png": "[encoded data removed]",
      "text/plain": [
       "<Figure size 432x288 with 1 Axes>"
      ]
     },
     "metadata": {},
     "output_type": "display_data"
    }
   ],
   "source": [
    "rPv4 = rL_v1tov4 @ rPv1\n",
    "print(rPv4)\n",
    "\n",
    "## plot lattice vectors a and b\n",
    "fig, ax = latticevectors_ab(rPv4)\n",
    "\n",
    "ax.text(+0.002,-0.02,r'$\\mathbf{a}_{V_4}$',fontsize=16) #label vector a\n",
    "ax.text(-0.025,+0.005,r'$\\mathbf{b}_{V_4}$',fontsize=16) #label vector b\n",
    "\n",
    "\n",
    "ax.set_xticks([]); ax.set_yticks([]) # remove ticks\n",
    "\n",
    "plt.show() # show plot\n",
    "del fig,ax"
   ]
  }
 ],
 "metadata": {
  "colab": {
   "collapsed_sections": [
    "nJew2EGIMYp-",
    "Z9jRInFAMYqA",
    "kAz-oemKMYp_",
    "zXzkWKf9MYqB",
    "cnInpg-TMYqC"
   ],
   "name": "OR_NCTwins.ipynb",
   "provenance": [
    {
     "file_id": "1HxMOubbLD2eo13E7QPGik2563yuwFMdr",
     "timestamp": 1611270300431
    }
   ],
   "toc_visible": true
  },
  "kernelspec": {
   "display_name": "Python 3",
   "language": "python",
   "name": "python3"
  },
  "language_info": {
   "codemirror_mode": {
    "name": "ipython",
    "version": 3
   },
   "file_extension": ".py",
   "mimetype": "text/x-python",
   "name": "python",
   "nbconvert_exporter": "python",
   "pygments_lexer": "ipython3",
   "version": "3.8.8"
  }
 },
 "nbformat": 4,
 "nbformat_minor": 4
}
