{
 "cells": [
  {
   "cell_type": "markdown",
   "id": "noticed-shore",
   "metadata": {},
   "source": [
    "### Import Packages"
   ]
  },
  {
   "cell_type": "code",
   "execution_count": 1,
   "id": "imposed-pregnancy",
   "metadata": {},
   "outputs": [],
   "source": [
    "## import numpy\n",
    "import numpy as np\n",
    "np.set_printoptions(precision=6)\n",
    "\n",
    "## import functions from twinning\n",
    "import sys; sys.path.insert(0, '..')\n",
    "from nmgjunctions.twinning import *"
   ]
  },
  {
   "cell_type": "markdown",
   "id": "acquired-alert",
   "metadata": {},
   "source": [
    "_____\n",
    "\n",
    "_____"
   ]
  },
  {
   "cell_type": "markdown",
   "id": "concerned-difficulty",
   "metadata": {},
   "source": [
    "### Lattice Parameters, Irrational Elements, Metric Tensor, and Transformation Matrics"
   ]
  },
  {
   "cell_type": "code",
   "execution_count": 2,
   "id": "compatible-intelligence",
   "metadata": {},
   "outputs": [],
   "source": [
    "## NMG lattice parameter: Seiner et al. (2019)\n",
    "a,b,c,gamma = [0.5972, 0.5944, 0.5584, np.deg2rad(90.37)]\n",
    "\n",
    "## irrational element\n",
    "q3 = (2*a*b*np.cos(gamma) - np.sqrt(a**4 + b**4 + 2*a**2*b**2*np.cos(2*gamma)))/(a**2 - b**2)\n",
    "q4 = (2*a*b*np.cos(gamma) + np.sqrt(a**4 + b**4 + 2*a**2*b**2*np.cos(2*gamma)))/(a**2 - b**2)\n",
    "\n",
    "# Metric Tensor\n",
    "G = np.array([[a**2,a*b*np.cos(gamma),0],[a*b*np.cos(gamma),b**2,0],[0,0,c**2]])\n",
    "\n",
    "## Transformation matrices obtained from previous work\n",
    "rPv1, rPv3, rPv2, rPv4, rPv1s = np.load('rPv13241s.npy')\n",
    "\n",
    "## Mirror reflection about xy-pane (or z-axis)\n",
    "M_z = np.array([[1,0,0],[0,1,0],[0,0,-1]])"
   ]
  },
  {
   "cell_type": "markdown",
   "id": "coated-vector",
   "metadata": {},
   "source": [
    "_____\n",
    "\n",
    "_____"
   ]
  },
  {
   "cell_type": "markdown",
   "id": "scientific-biology",
   "metadata": {},
   "source": [
    "## Shear Matrix and Misorientation Relationship in Reference Frame"
   ]
  },
  {
   "cell_type": "code",
   "execution_count": 3,
   "id": "curious-large",
   "metadata": {},
   "outputs": [],
   "source": [
    "## define global variables for function\n",
    "global G \n",
    "\n",
    "#function 1: obtain shear matrix of twin transformation in reference frame\n",
    "def ShearMatrix_Ref(K1,eta1,C,rPm,normal_pos=True):\n",
    "    \"\"\"\n",
    "    Returns Shear Matrix of twin transformation in reference frame\n",
    "    \n",
    "    Parameters\n",
    "    ----------\n",
    "    K1: numpy.ndarray(1,3), twin boundary in crystal frame\n",
    "    eta1: numpy.ndarray(3,1), shear direction in crystal frame\n",
    "    C: numpy.ndarray(3,1), Correspondence Matrix\n",
    "    rPm: numpy.ndarray(3,3), transformation matrix (crystal frame ↔ reference frame)\n",
    "    normal_pos: bool, plane normal points to the twin (default true) \n",
    "    \n",
    "    Returns\n",
    "    -------\n",
    "    numpy.ndarray(3,3), returns Shear Matrix in reference frame\n",
    "    \"\"\"\n",
    "    \n",
    "    # convert to array\n",
    "    K1 = np.squeeze(np.asarray(K1))\n",
    "    eta1 = np.squeeze(np.asarray(eta1))\n",
    "    rPm = np.asarray(rPm)\n",
    "    \n",
    "    # convert K1 and eta1 if plane normal is not positive\n",
    "    if normal_pos == False:\n",
    "        eta1 = -eta1\n",
    "        K1 = -K1\n",
    "    \n",
    "\n",
    "    ## calculate shear\n",
    "    s = np.sqrt(np.trace(C.T @ G @ C @ inv(G))-3)\n",
    "    \n",
    "    ## obtain plane normal (m) and shear direction (l) in R-frame:\n",
    "    rm = K1 @ inv(rPm)\n",
    "    rm = rm / np.sqrt(rm @ rm.T) #unit vector\n",
    "    \n",
    "    rl = rPm @ eta1\n",
    "    rl = rl / np.sqrt(rl @ rl.T)\n",
    "    \n",
    "    ## shear matrix: Using einstein convention\n",
    "    rS = np.zeros([3,3]) #initialize\n",
    "    \n",
    "    #1st row\n",
    "    rS[0,0] = 1 + s * rl[0] * rm[0] #i=0,j=0\n",
    "    rS[0,1] = 0 + s * rl[0] * rm[1] #i=0,j=1\n",
    "    rS[0,2] = 0 + s * rl[0] * rm[2] #i=0,j=2\n",
    "    #2nd row\n",
    "    rS[1,0] = 0 + s * rl[1] * rm[0] #i=1,j=0\n",
    "    rS[1,1] = 1 + s * rl[1] * rm[1] #i=1,j=1\n",
    "    rS[1,2] = 0 + s * rl[1] * rm[2] #i=1,j=2\n",
    "    #3rd row\n",
    "    rS[2,0] = 0 + s * rl[2] * rm[0] #i=0,j=0\n",
    "    rS[2,1] = 0 + s * rl[2] * rm[1] #i=0,j=1\n",
    "    rS[2,2] = 1 + s * rl[2] * rm[2] #i=0,j=2\n",
    "    \n",
    "    return rS\n",
    "\n",
    "\n",
    "#function 2: obtain misorientation of twin transformation in reference frame\n",
    "def OR_RefFrame(K1,eta1,C,rPm,normal_pos=True):\n",
    "    \"\"\"\n",
    "    Returns orientation relationship (OR) of twins in reference frame\n",
    "    \n",
    "    Parameters\n",
    "    ----------\n",
    "    K1: numpy.ndarray(1,3), twin boundary in crystal frame\n",
    "    eta1: numpy.ndarray(3,1), shear direction in crystal frame\n",
    "    C: numpy.ndarray(3,1), Correspondence Matrix\n",
    "    rPm: numpy.ndarray(3,3), transformation matrix (crystal frame ↔ reference frame)\n",
    "    normal_pos: bool, plane normal points to the twin (default true) \n",
    "    \n",
    "    Returns\n",
    "    -------\n",
    "    numpy.ndarray(3,3), returns OR of NC twins in reference frame\n",
    "    \"\"\"\n",
    "    \n",
    "    ## Shear Matrix\n",
    "    rS = ShearMatrix_Ref(K1,eta1,C,rPm,normal_pos)\n",
    "    \n",
    "    ## Orientation relationship in R-frame\n",
    "    rL = rPm @ C @ inv(rPm) @ inv(rS)\n",
    "    return rL"
   ]
  },
  {
   "cell_type": "markdown",
   "id": "naked-quest",
   "metadata": {},
   "source": [
    "### $V_1 \\to V_3$ Transformation"
   ]
  },
  {
   "cell_type": "markdown",
   "id": "packed-prefix",
   "metadata": {},
   "source": [
    "#### $^R\\boldsymbol{L}: V_1 \\to V_3$"
   ]
  },
  {
   "cell_type": "code",
   "execution_count": 4,
   "id": "stunning-caribbean",
   "metadata": {},
   "outputs": [
    {
     "name": "stdout",
     "output_type": "stream",
     "text": [
      "ᴿL(V₁ → V₃) =\n",
      " [[-0.011127 -0.999938  0.      ]\n",
      " [-0.999938  0.011127  0.      ]\n",
      " [ 0.        0.       -1.      ]]\n",
      "\n",
      " ᴿL(V₁ → V₃) [0,0]: -0.0111 == cos(90.64 deg)\n",
      "\n",
      " ᴿL(V₁ → V₃) [1,0]: -0.9999 == sin(-89.36 deg)\n"
     ]
    }
   ],
   "source": [
    "## V₁ → V₃ Misorientation\n",
    "\n",
    "## twinning elements\n",
    "C =  rotationmatrix([1,1,0],np.pi) #correspondence matrix\n",
    "K1 = [1,1,0] #invariant plane\n",
    "eta1 = [-1,1,0] #shear direction\n",
    "\n",
    "## Rotational transformation in reference frame: V₁ → V₃\n",
    "rL_v1tov3 = OR_RefFrame(K1,eta1,C,rPv1,normal_pos=True)\n",
    "\n",
    "## Print required outputs\n",
    "print('ᴿL(V₁ → V₃) =\\n', rL_v1tov3) #Orientation relationship\n",
    "print('\\n ᴿL(V₁ → V₃) [0,0]: %.4f == cos(%.2f deg)' % (rL_v1tov3[0,0],np.degrees(np.arccos(rL_v1tov3[0,0])))) #rotation angle\n",
    "print('\\n ᴿL(V₁ → V₃) [1,0]: %.4f == sin(%.2f deg)' % (rL_v1tov3[1,0],np.degrees(np.arcsin(rL_v1tov3[1,0])))) #rotation angle"
   ]
  },
  {
   "cell_type": "markdown",
   "id": "collectible-discipline",
   "metadata": {},
   "source": [
    "_____"
   ]
  },
  {
   "cell_type": "markdown",
   "id": "speaking-vegetarian",
   "metadata": {},
   "source": [
    "#### Equivalent Description of $\\ ^R\\boldsymbol{L}: V_1 \\to V_3$\n",
    "\n",
    "$^R\\boldsymbol{L}\\ \\simeq\\ ^R\\boldsymbol{L}\\ \\cdot\\ ^R\\boldsymbol{M}_z$\n",
    "\n",
    "where, $^R\\boldsymbol{M}_z$ is the mirror operator about $[001]_R$."
   ]
  },
  {
   "cell_type": "code",
   "execution_count": 5,
   "id": "political-dylan",
   "metadata": {},
   "outputs": [
    {
     "name": "stdout",
     "output_type": "stream",
     "text": [
      "ᴿL(V₁ → V₃) ⋅ Mz = \n",
      " [[-0.011127 -0.999938  0.      ]\n",
      " [-0.999938  0.011127  0.      ]\n",
      " [ 0.        0.        1.      ]]\n",
      "\n",
      " ᴿL(V₁ → V₃)⋅Mz [0,0]: -0.0111 == cos(90.64 deg)\n",
      "\n",
      " ᴿL(V₁ → V₃)⋅Mz [1,0]: -0.9999 == sin(-89.36 deg)\n"
     ]
    }
   ],
   "source": [
    "## Equivalent description of V₁ → V₃ misorientation\n",
    "## ᴿL (V₁ → V₃) ⋅ Mz\n",
    "dummy = rL_v1tov3 @ M_z #Orientation relationship\n",
    "\n",
    "## Print required output\n",
    "print('ᴿL(V₁ → V₃) ⋅ Mz = \\n', dummy)\n",
    "print('\\n ᴿL(V₁ → V₃)⋅Mz [0,0]: %.4f == cos(%.2f deg)' % (dummy[0,0],np.degrees(np.arccos(dummy[0,0])))) #rotation angle\n",
    "print('\\n ᴿL(V₁ → V₃)⋅Mz [1,0]: %.4f == sin(%.2f deg)' % (dummy[1,0],np.degrees(np.arcsin(dummy[1,0])))) #rotation angle\n",
    "\n",
    "## del unnecessary variables\n",
    "del dummy"
   ]
  },
  {
   "cell_type": "markdown",
   "id": "deluxe-valve",
   "metadata": {},
   "source": [
    "_____"
   ]
  },
  {
   "cell_type": "markdown",
   "id": "caring-reason",
   "metadata": {},
   "source": [
    "#### $^R\\boldsymbol{S}: V_1 \\to V_3$"
   ]
  },
  {
   "cell_type": "code",
   "execution_count": 6,
   "id": "ancient-invite",
   "metadata": {},
   "outputs": [
    {
     "name": "stdout",
     "output_type": "stream",
     "text": [
      "ᴿS(V₁ → V₃) =\n",
      " [[ 0.995301  0.004752  0.      ]\n",
      " [-0.004647  1.004699  0.      ]\n",
      " [ 0.        0.        1.      ]]\n"
     ]
    }
   ],
   "source": [
    "## V₁ → V₃ Shear Matrix\n",
    "rS_v1tov3 = applythresh(ShearMatrix_Ref(K1,eta1,C,rPv1,normal_pos=True))\n",
    "print('ᴿS(V₁ → V₃) =\\n',rS_v1tov3)\n",
    "\n",
    "## del unnecessary variables\n",
    "del C, K1, eta1"
   ]
  },
  {
   "cell_type": "markdown",
   "id": "thirty-israeli",
   "metadata": {},
   "source": [
    "_____\n",
    "\n",
    "_____"
   ]
  },
  {
   "cell_type": "markdown",
   "id": "touched-capital",
   "metadata": {},
   "source": [
    "### $V_3 \\to V_2$ Transformation"
   ]
  },
  {
   "cell_type": "markdown",
   "id": "excellent-missouri",
   "metadata": {},
   "source": [
    "#### $^R\\boldsymbol{L}: V_3 \\to V_2$"
   ]
  },
  {
   "cell_type": "code",
   "execution_count": 7,
   "id": "elect-simon",
   "metadata": {},
   "outputs": [
    {
     "name": "stdout",
     "output_type": "stream",
     "text": [
      "ᴿL(V₃ → V₂) =\n",
      " [[ 0.007987 -0.999968  0.      ]\n",
      " [ 0.999968  0.007987  0.      ]\n",
      " [ 0.        0.        1.      ]]\n",
      "\n",
      " ᴿL(V₃ → V₂) [0,0]: 0.0080 == cos(89.54 deg)\n",
      "\n",
      " ᴿL(V₃ → V₂) [1,0]: 1.0000 == sin(89.54 deg)\n"
     ]
    }
   ],
   "source": [
    "## V₃ → V₂ Misorientation\n",
    "\n",
    "## twinning elements\n",
    "C =  rotationmatrix([0,0,1],np.pi/2) #correspondence matrix\n",
    "K1 = [1,q4,0] #invariant plane\n",
    "eta1 = [-q4,1,0] #shear direction\n",
    "\n",
    "## Rotational transformation in reference frame: V₃ → V₂\n",
    "rL_v3tov2 = OR_RefFrame(K1,eta1,C,rPv3,normal_pos=True)\n",
    "\n",
    "## Print required outputs\n",
    "print('ᴿL(V₃ → V₂) =\\n', rL_v3tov2) #Orientation relationship\n",
    "print('\\n ᴿL(V₃ → V₂) [0,0]: %.4f == cos(%.2f deg)' % (rL_v3tov2[0,0],np.degrees(np.arccos(rL_v3tov2[0,0])))) #rotation angle\n",
    "print('\\n ᴿL(V₃ → V₂) [1,0]: %.4f == sin(%.2f deg)' % (rL_v3tov2[1,0],np.degrees(np.arcsin(rL_v3tov2[1,0])))) #rotation angle"
   ]
  },
  {
   "cell_type": "markdown",
   "id": "equivalent-norway",
   "metadata": {},
   "source": [
    "_____"
   ]
  },
  {
   "cell_type": "markdown",
   "id": "optional-quick",
   "metadata": {},
   "source": [
    "#### $^R\\boldsymbol{S}: V_3 \\to V_2$"
   ]
  },
  {
   "cell_type": "code",
   "execution_count": 8,
   "id": "european-renewal",
   "metadata": {},
   "outputs": [
    {
     "name": "stdout",
     "output_type": "stream",
     "text": [
      "ᴿS(V₃ → V₂) =\n",
      " [[ 1.004649 -0.014481  0.      ]\n",
      " [ 0.001493  0.995351  0.      ]\n",
      " [ 0.        0.        1.      ]]\n"
     ]
    }
   ],
   "source": [
    "## V₃ → V₂ Shear Matrix\n",
    "rS_v3tov2 = applythresh(ShearMatrix_Ref(K1,eta1,C,rPv3,normal_pos=True))\n",
    "print('ᴿS(V₃ → V₂) =\\n', rS_v3tov2)\n",
    "\n",
    "#del unnecessary variables\n",
    "del C, K1, eta1"
   ]
  },
  {
   "cell_type": "markdown",
   "id": "appropriate-particle",
   "metadata": {},
   "source": [
    "_____\n",
    "\n",
    "_____"
   ]
  },
  {
   "cell_type": "markdown",
   "id": "persistent-coffee",
   "metadata": {},
   "source": [
    "### $V_2 \\to V_4$ Transformation"
   ]
  },
  {
   "cell_type": "markdown",
   "id": "legendary-retreat",
   "metadata": {},
   "source": [
    "#### $^R\\boldsymbol{L}: V_2 \\to V_4$"
   ]
  },
  {
   "cell_type": "code",
   "execution_count": 9,
   "id": "integrated-princeton",
   "metadata": {},
   "outputs": [
    {
     "name": "stdout",
     "output_type": "stream",
     "text": [
      "ᴿL(V₂ → V₄) =\n",
      " [[ 0.027097  0.999633  0.      ]\n",
      " [ 0.999633 -0.027097  0.      ]\n",
      " [ 0.        0.       -1.      ]]\n",
      "\n",
      " ᴿL(V₂ → V₄) [0,0]: 0.0271 == cos(88.45 deg)\n",
      "\n",
      " ᴿL(V₂ → V₄) [1,0]: 0.9996 == sin(88.45 deg)\n"
     ]
    }
   ],
   "source": [
    "## V₂ → V₄ Misorientation\n",
    "\n",
    "## twinning elements\n",
    "C =  rotationmatrix([1,1,0],np.pi) #correspondence matrix\n",
    "K1 = [1,1,0] #invariant plane\n",
    "eta1 = [-1,1,0] #shear direction\n",
    "\n",
    "## Rotational transformation in reference frame: V₂ → V₄\n",
    "rL_v2tov4 = OR_RefFrame(K1,eta1,C,rPv2,normal_pos=False)\n",
    "\n",
    "## Print required outputs\n",
    "print('ᴿL(V₂ → V₄) =\\n', rL_v2tov4) #Orientation relationship\n",
    "print('\\n ᴿL(V₂ → V₄) [0,0]: %.4f == cos(%.2f deg)' % (rL_v2tov4[0,0],np.degrees(np.arccos(rL_v2tov4[0,0])))) #rotation angle\n",
    "print('\\n ᴿL(V₂ → V₄) [1,0]: %.4f == sin(%.2f deg)' % (rL_v2tov4[1,0],np.degrees(np.arcsin(rL_v2tov4[1,0])))) #rotation angle"
   ]
  },
  {
   "cell_type": "markdown",
   "id": "romantic-landing",
   "metadata": {},
   "source": [
    "_____"
   ]
  },
  {
   "cell_type": "markdown",
   "id": "defined-zambia",
   "metadata": {},
   "source": [
    "#### Equivalent Description of $\\ ^R\\boldsymbol{L}: V_2 \\to V_4$\n",
    "\n",
    "$^R\\boldsymbol{L}\\ \\simeq\\ ^R\\boldsymbol{L}\\ \\cdot\\ ^R\\boldsymbol{M}_z$\n",
    "\n",
    "where, $^R\\boldsymbol{M}_z$ is the mirror operator about $[001]_R$."
   ]
  },
  {
   "cell_type": "code",
   "execution_count": 10,
   "id": "competent-norway",
   "metadata": {},
   "outputs": [
    {
     "name": "stdout",
     "output_type": "stream",
     "text": [
      "ᴿL(V₂ → V₄) ⋅ Mz = \n",
      " [[ 0.027097  0.999633  0.      ]\n",
      " [ 0.999633 -0.027097  0.      ]\n",
      " [ 0.        0.        1.      ]]\n",
      "\n",
      " ᴿL(V₂ → V₄)⋅Mz [0,0]: 0.0271 == cos(88.45 deg)\n",
      "\n",
      " ᴿL(V₂ → V₄)⋅Mz [1,0]: 0.9996 == sin(88.45 deg)\n"
     ]
    }
   ],
   "source": [
    "## Equivalent description of V₂ → V₄ misorientation\n",
    "## ᴿL (V₂ → V₄) ⋅ Mz\n",
    "dummy = rL_v2tov4 @ M_z #Orientation relationship\n",
    "\n",
    "## Print required output\n",
    "print('ᴿL(V₂ → V₄) ⋅ Mz = \\n', dummy)\n",
    "print('\\n ᴿL(V₂ → V₄)⋅Mz [0,0]: %.4f == cos(%.2f deg)' % (dummy[0,0],np.degrees(np.arccos(dummy[0,0])))) #rotation angle\n",
    "print('\\n ᴿL(V₂ → V₄)⋅Mz [1,0]: %.4f == sin(%.2f deg)' % (dummy[1,0],np.degrees(np.arcsin(dummy[1,0])))) #rotation angle\n",
    "\n",
    "## del unnecessary variables\n",
    "del dummy"
   ]
  },
  {
   "cell_type": "markdown",
   "id": "weighted-failing",
   "metadata": {},
   "source": [
    "_____"
   ]
  },
  {
   "cell_type": "markdown",
   "id": "bigger-hydrogen",
   "metadata": {},
   "source": [
    "#### $^R\\boldsymbol{S}: V_2 \\to V_4$"
   ]
  },
  {
   "cell_type": "code",
   "execution_count": 11,
   "id": "under-butler",
   "metadata": {},
   "outputs": [
    {
     "name": "stdout",
     "output_type": "stream",
     "text": [
      "ᴿS(V₂ → V₄) =\n",
      " [[ 0.995302 -0.004572  0.      ]\n",
      " [ 0.004827  1.004698  0.      ]\n",
      " [ 0.        0.        1.      ]]\n"
     ]
    }
   ],
   "source": [
    "## Shear matrix: V₂ → V₄\n",
    "rS_v2tov4 = applythresh(ShearMatrix_Ref(K1,eta1,C,rPv2,normal_pos=False))\n",
    "print('ᴿS(V₂ → V₄) =\\n', rS_v2tov4)\n",
    "\n",
    "#del unnecessary variables\n",
    "del C, K1, eta1"
   ]
  },
  {
   "cell_type": "markdown",
   "id": "informative-audience",
   "metadata": {},
   "source": [
    "_____\n",
    "\n",
    "_____"
   ]
  },
  {
   "cell_type": "markdown",
   "id": "rough-clause",
   "metadata": {},
   "source": [
    "### $V_4 \\to V_1$ Transformation"
   ]
  },
  {
   "cell_type": "markdown",
   "id": "cordless-hampshire",
   "metadata": {},
   "source": [
    "#### $^R\\boldsymbol{L}: V_4 \\to V_1$"
   ]
  },
  {
   "cell_type": "code",
   "execution_count": 12,
   "id": "sitting-patio",
   "metadata": {},
   "outputs": [
    {
     "name": "stdout",
     "output_type": "stream",
     "text": [
      "ᴿL(V₄ → V₁) =\n",
      " [[ 0.007987  0.999968  0.      ]\n",
      " [-0.999968  0.007987  0.      ]\n",
      " [ 0.        0.        1.      ]]\n",
      "\n",
      " ᴿL(V₄ → V₁) [0,0]: 0.0080 == cos(89.54 deg)\n",
      "\n",
      " ᴿL(V₄ → V₁) [1,0]: -1.0000 == sin(-89.54 deg)\n"
     ]
    }
   ],
   "source": [
    "## V₄ → V₁ Misorientation\n",
    "\n",
    "## twinning elements\n",
    "C =  rotationmatrix([0,0,1],np.pi/2) #correspondence matrix\n",
    "K1 = [1,q4,0] #invariant plane\n",
    "eta1 = [-q4,1,0] #shear direction\n",
    "\n",
    "## Rotational transformation in reference frame: V₄ → V₁\n",
    "rL_v4tov1 = OR_RefFrame(K1,eta1,C,rPv4,normal_pos=True)\n",
    "\n",
    "## Print required outputs\n",
    "print('ᴿL(V₄ → V₁) =\\n', rL_v4tov1) #Orientation relationship\n",
    "print('\\n ᴿL(V₄ → V₁) [0,0]: %.4f == cos(%.2f deg)' % (rL_v4tov1[0,0],np.degrees(np.arccos(rL_v4tov1[0,0])))) #rotation angle\n",
    "print('\\n ᴿL(V₄ → V₁) [1,0]: %.4f == sin(%.2f deg)' % (rL_v4tov1[1,0],np.degrees(np.arcsin(rL_v4tov1[1,0])))) #rotation angle"
   ]
  },
  {
   "cell_type": "markdown",
   "id": "american-physiology",
   "metadata": {},
   "source": [
    "_____"
   ]
  },
  {
   "cell_type": "markdown",
   "id": "varied-brisbane",
   "metadata": {},
   "source": [
    "#### $^R\\boldsymbol{S}: V_4 \\to V_1$"
   ]
  },
  {
   "cell_type": "code",
   "execution_count": 13,
   "id": "recent-flight",
   "metadata": {},
   "outputs": [
    {
     "name": "stdout",
     "output_type": "stream",
     "text": [
      "ᴿS(V₄ → V₁) =\n",
      " [[ 1.004894  0.014299  0.      ]\n",
      " [-0.001675  0.995106  0.      ]\n",
      " [ 0.        0.        1.      ]]\n"
     ]
    }
   ],
   "source": [
    "## Shear matrix: V₄ → V₁\n",
    "rS_v4tov1 = applythresh(ShearMatrix_Ref(K1,eta1,C,rPv4,normal_pos=True))\n",
    "print('ᴿS(V₄ → V₁) =\\n', rS_v4tov1)"
   ]
  },
  {
   "cell_type": "markdown",
   "id": "imperial-riverside",
   "metadata": {},
   "source": [
    "_____\n",
    "\n",
    "_____"
   ]
  },
  {
   "cell_type": "markdown",
   "id": "concrete-richardson",
   "metadata": {},
   "source": [
    "### Product of Misorientation\n",
    "\n",
    "$^R\\boldsymbol{L} (V_4 \\to V_1)\\ \\cdot\\ ^R\\boldsymbol{L} (V_2 \\to V_4)\\ \\cdot\\ ^R\\boldsymbol{L} (V_3 \\to V_2)\\ \\cdot\\ ^R\\boldsymbol{L} (V_1 \\to V_3)$"
   ]
  },
  {
   "cell_type": "code",
   "execution_count": 14,
   "id": "ancient-lodge",
   "metadata": {},
   "outputs": [
    {
     "data": {
      "text/plain": [
       "array([[1., 0., 0.],\n",
       "       [0., 1., 0.],\n",
       "       [0., 0., 1.]])"
      ]
     },
     "execution_count": 14,
     "metadata": {},
     "output_type": "execute_result"
    }
   ],
   "source": [
    "applythresh(rL_v4tov1 @ rL_v2tov4 @ rL_v3tov2 @ rL_v1tov3)"
   ]
  },
  {
   "cell_type": "markdown",
   "id": "boxed-patrick",
   "metadata": {},
   "source": [
    "_____\n",
    "\n",
    "_____"
   ]
  },
  {
   "cell_type": "markdown",
   "id": "previous-exemption",
   "metadata": {},
   "source": [
    "### Product of Shear Matrix\n",
    "\n",
    "$^R\\boldsymbol{S} (V_4 \\to V_1)\\ \\cdot\\ ^R\\boldsymbol{S} (V_2 \\to V_4)\\ \\cdot\\ ^R\\boldsymbol{S} (V_3 \\to V_2)\\ \\cdot\\ ^R\\boldsymbol{S} (V_1 \\to V_3)$"
   ]
  },
  {
   "cell_type": "code",
   "execution_count": 15,
   "id": "nearby-crawford",
   "metadata": {},
   "outputs": [
    {
     "data": {
      "text/plain": [
       "array([[ 1.000206e+00, -5.959271e-06,  0.000000e+00],\n",
       "       [-3.295146e-06,  9.997938e-01,  0.000000e+00],\n",
       "       [ 0.000000e+00,  0.000000e+00,  1.000000e+00]])"
      ]
     },
     "execution_count": 15,
     "metadata": {},
     "output_type": "execute_result"
    }
   ],
   "source": [
    "applythresh(rS_v4tov1 @ rS_v2tov4 @ rS_v3tov2 @ rS_v1tov3)"
   ]
  },
  {
   "cell_type": "markdown",
   "id": "sized-thailand",
   "metadata": {},
   "source": [
    "_____\n",
    "\n",
    "_____"
   ]
  }
 ],
 "metadata": {
  "kernelspec": {
   "display_name": "Python 3",
   "language": "python",
   "name": "python3"
  },
  "language_info": {
   "codemirror_mode": {
    "name": "ipython",
    "version": 3
   },
   "file_extension": ".py",
   "mimetype": "text/x-python",
   "name": "python",
   "nbconvert_exporter": "python",
   "pygments_lexer": "ipython3",
   "version": "3.8.8"
  }
 },
 "nbformat": 4,
 "nbformat_minor": 5
}
