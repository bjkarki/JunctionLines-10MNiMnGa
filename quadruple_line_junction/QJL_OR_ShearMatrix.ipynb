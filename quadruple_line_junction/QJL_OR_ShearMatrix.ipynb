{
 "cells": [
  {
   "cell_type": "markdown",
   "id": "downtown-ratio",
   "metadata": {},
   "source": [
    "### Import Packages"
   ]
  },
  {
   "cell_type": "code",
   "execution_count": 1,
   "id": "expanded-cutting",
   "metadata": {},
   "outputs": [],
   "source": [
    "## import numpy\n",
    "import numpy as np\n",
    "np.set_printoptions(precision=6)\n",
    "\n",
    "## import functions from twinning\n",
    "import sys; sys.path.insert(0, '..')\n",
    "from nmgjunctions.twinning import *"
   ]
  },
  {
   "cell_type": "markdown",
   "id": "breeding-grill",
   "metadata": {},
   "source": [
    "### Lattice Parameters, Irrational Elements, Transformation Matrics"
   ]
  },
  {
   "cell_type": "code",
   "execution_count": 2,
   "id": "unauthorized-repair",
   "metadata": {},
   "outputs": [],
   "source": [
    "## NMG lattice parameter: Seiner et al. (2019)\n",
    "a,b,c,gamma = [0.5972, 0.5944, 0.5584, np.deg2rad(90.37)]\n",
    "\n",
    "## irrational element\n",
    "q3 = (2*a*b*np.cos(gamma) - np.sqrt(a**4 + b**4 + 2*a**2*b**2*np.cos(2*gamma)))/(a**2 - b**2)\n",
    "q4 = (2*a*b*np.cos(gamma) + np.sqrt(a**4 + b**4 + 2*a**2*b**2*np.cos(2*gamma)))/(a**2 - b**2)\n",
    "\n",
    "## Transformation matrices\n",
    "rPv1, rPv3, rPv2, rPv4, rPv1s = np.load('rPv13241s.npy')"
   ]
  },
  {
   "cell_type": "markdown",
   "id": "partial-strategy",
   "metadata": {},
   "source": [
    "### $^R\\boldsymbol{L}: V_1 \\to V_3 \\\\ ^R\\boldsymbol{S}: V_1 \\to V_3$"
   ]
  },
  {
   "cell_type": "code",
   "execution_count": 3,
   "id": "boolean-ottawa",
   "metadata": {},
   "outputs": [
    {
     "name": "stdout",
     "output_type": "stream",
     "text": [
      "ᴿL (V₁ → V₃) =\n",
      " [[-0.011127 -0.999938  0.      ]\n",
      " [-0.999938  0.011127  0.      ]\n",
      " [ 0.        0.       -1.      ]]\n",
      "\n",
      "Cosine Rotation angle = 90.64\n",
      "\n",
      "Sine Rotation angle = -89.36\n",
      "\n",
      "ᴿS (V₁ → V₃) =\n",
      " [[ 0.995301  0.004752  0.      ]\n",
      " [-0.004647  1.004699  0.      ]\n",
      " [ 0.        0.        1.      ]]\n"
     ]
    }
   ],
   "source": [
    "## V1toV3 shear matrix\n",
    "C =  rotationmatrix([1,1,0],np.pi) #correspondence matrix\n",
    "K1 = [1,1,0] #invariant plane\n",
    "eta1 = [-1,1,0] #shear direction\n",
    "\n",
    "## Rotational transformation in reference frame: V₁ → V₃\n",
    "rL_v1tov3 = OR_RefFrame(K1,eta1,C,rPv1,a,normal_pos=True)\n",
    "print('ᴿL (V₁ → V₃) =\\n', rL_v1tov3) #Orientation relationship\n",
    "print('\\nCosine Rotation angle = %.2f' % np.degrees(np.arccos(rL_v1tov3[0,0]))) #rotation angle\n",
    "print('\\nSine Rotation angle = %.2f' % np.degrees(np.arcsin(rL_v1tov3[1,0]))) #rotation angle\n",
    "\n",
    "## Shear matrix: V₁ → V₃\n",
    "rS_v1tov3 = applythresh(ShearMatrix_Ref(K1,eta1,C,rPv1,a,normal_pos=True))\n",
    "print('\\nᴿS (V₁ → V₃) =\\n',rS_v1tov3)"
   ]
  },
  {
   "cell_type": "markdown",
   "id": "running-hopkins",
   "metadata": {},
   "source": [
    "### $^R\\boldsymbol{L}: V_3 \\to V_2 \\\\ ^R\\boldsymbol{S}: V_3 \\to V_2$"
   ]
  },
  {
   "cell_type": "code",
   "execution_count": 4,
   "id": "resistant-headset",
   "metadata": {},
   "outputs": [
    {
     "name": "stdout",
     "output_type": "stream",
     "text": [
      "ᴿL (V₃ → V₂) =\n",
      " [[ 0.007987 -0.999968  0.      ]\n",
      " [ 0.999968  0.007987  0.      ]\n",
      " [ 0.        0.        1.      ]]\n",
      "\n",
      "Cosine Rotation angle = 89.54\n",
      "\n",
      "Sine Rotation angle = 89.54\n",
      "\n",
      "ᴿS (V₃ → V₂) =\n",
      " [[ 1.004649 -0.014481  0.      ]\n",
      " [ 0.001493  0.995351  0.      ]\n",
      " [ 0.        0.        1.      ]]\n"
     ]
    }
   ],
   "source": [
    "## Classical elements\n",
    "C =  rotationmatrix([0,0,1],np.pi/2) #correspondence matrix\n",
    "K1 = [1,q4,0] #invariant plane\n",
    "eta1 = [-q4,1,0] #shear direction\n",
    "\n",
    "## Rotational transformation in reference frame: V₃ → V₂\n",
    "rL_v3tov2 = OR_RefFrame(K1,eta1,C,rPv3,a,normal_pos=True)\n",
    "print('ᴿL (V₃ → V₂) =\\n', rL_v3tov2) #Orientation relationship\n",
    "print('\\nCosine Rotation angle = %.2f' % np.degrees(np.arccos(rL_v3tov2[0,0]))) #rotation angle\n",
    "print('\\nSine Rotation angle = %.2f' % np.degrees(np.arcsin(rL_v3tov2[1,0]))) #rotation angle\n",
    "\n",
    "## Shear matrix: V₃ → V₂\n",
    "rS_v3tov2 = applythresh(ShearMatrix_Ref(K1,eta1,C,rPv3,a,normal_pos=True))\n",
    "print('\\nᴿS (V₃ → V₂) =\\n', rS_v3tov2)"
   ]
  },
  {
   "cell_type": "markdown",
   "id": "satisfied-attempt",
   "metadata": {},
   "source": [
    "### $^R\\boldsymbol{L}: V_2 \\to V_4 \\\\ ^R\\boldsymbol{S}: V_2 \\to V_4$"
   ]
  },
  {
   "cell_type": "code",
   "execution_count": 5,
   "id": "pleasant-stations",
   "metadata": {},
   "outputs": [
    {
     "name": "stdout",
     "output_type": "stream",
     "text": [
      "ᴿL (V₂ → V₄) =\n",
      " [[ 0.027097  0.999633  0.      ]\n",
      " [ 0.999633 -0.027097  0.      ]\n",
      " [ 0.        0.       -1.      ]]\n",
      "\n",
      "Cosine Rotation angle = 88.45\n",
      "\n",
      "Sine Rotation angle = 88.45\n",
      "\n",
      "ᴿS (V₂ → V₄) =\n",
      " [[ 0.995302 -0.004572  0.      ]\n",
      " [ 0.004827  1.004698  0.      ]\n",
      " [ 0.        0.        1.      ]]\n"
     ]
    }
   ],
   "source": [
    "## Classical elements\n",
    "C =  rotationmatrix([1,1,0],np.pi) #correspondence matrix\n",
    "K1 = [1,1,0] #invariant plane\n",
    "eta1 = [-1,1,0] #shear direction\n",
    "\n",
    "## Rotational transformation in reference frame: V₂ → V₄\n",
    "rL_v2tov4 = OR_RefFrame(K1,eta1,C,rPv2,a,normal_pos=False)\n",
    "print('ᴿL (V₂ → V₄) =\\n', rL_v2tov4) #Orientation relationship\n",
    "print('\\nCosine Rotation angle = %.2f' % np.degrees(np.arccos(rL_v2tov4[0,0]))) #rotation angle\n",
    "print('\\nSine Rotation angle = %.2f' % np.degrees(np.arcsin(rL_v2tov4[1,0]))) #rotation angle\n",
    "\n",
    "## Shear matrix: V₂ → V₄\n",
    "rS_v2tov4 = applythresh(ShearMatrix_Ref(K1,eta1,C,rPv2,a,normal_pos=False))\n",
    "print('\\nᴿS (V₂ → V₄) =\\n', rS_v2tov4)"
   ]
  },
  {
   "cell_type": "markdown",
   "id": "environmental-condition",
   "metadata": {},
   "source": [
    "### $^R\\boldsymbol{L}: V_4 \\to V_1 \\\\ ^R\\boldsymbol{S}: V_4 \\to V_1$"
   ]
  },
  {
   "cell_type": "code",
   "execution_count": 6,
   "id": "exempt-mississippi",
   "metadata": {},
   "outputs": [
    {
     "name": "stdout",
     "output_type": "stream",
     "text": [
      "ᴿL (V₄ → V₁) =\n",
      " [[ 0.007987  0.999968  0.      ]\n",
      " [-0.999968  0.007987  0.      ]\n",
      " [ 0.        0.        1.      ]]\n",
      "\n",
      "Cosine Rotation angle = 89.54\n",
      "\n",
      "Sine Rotation angle = -89.54\n",
      "\n",
      "ᴿS (V₄ → V₁) =\n",
      " [[ 1.004894  0.014299  0.      ]\n",
      " [-0.001675  0.995106  0.      ]\n",
      " [ 0.        0.        1.      ]]\n"
     ]
    }
   ],
   "source": [
    "## Classical elements\n",
    "C =  rotationmatrix([0,0,1],np.pi/2) #correspondence matrix\n",
    "K1 = [1,q4,0] #invariant plane\n",
    "eta1 = [-q4,1,0] #shear direction\n",
    "\n",
    "## Rotational transformation in reference frame: V₂ → V₄\n",
    "rL_v4tov1 = OR_RefFrame(K1,eta1,C,rPv4,a,normal_pos=True)\n",
    "print('ᴿL (V₄ → V₁) =\\n', rL_v4tov1) #Orientation relationship\n",
    "print('\\nCosine Rotation angle = %.2f' % np.degrees(np.arccos(rL_v4tov1[0,0]))) #rotation angle\n",
    "print('\\nSine Rotation angle = %.2f' % np.degrees(np.arcsin(rL_v4tov1[1,0]))) #rotation angle\n",
    "\n",
    "## Shear matrix: V₂ → V₄\n",
    "rS_v4tov1 = applythresh(ShearMatrix_Ref(K1,eta1,C,rPv4,a,normal_pos=True))\n",
    "print('\\nᴿS (V₄ → V₁) =\\n', rS_v4tov1)"
   ]
  },
  {
   "cell_type": "markdown",
   "id": "adaptive-semiconductor",
   "metadata": {},
   "source": [
    "### Product of Shear Matrix\n",
    "\n",
    "$^R\\boldsymbol{S} (V_4 \\to V_1)\\ \\cdot\\ ^R\\boldsymbol{S} (V_2 \\to V_4)\\ \\cdot\\ ^R\\boldsymbol{S} (V_3 \\to V_2)\\ \\cdot\\ ^R\\boldsymbol{S} (V_1 \\to V_3)$"
   ]
  },
  {
   "cell_type": "code",
   "execution_count": 7,
   "id": "swedish-fetish",
   "metadata": {},
   "outputs": [
    {
     "data": {
      "text/plain": [
       "array([[ 1.000206e+00, -5.959271e-06,  0.000000e+00],\n",
       "       [-3.295146e-06,  9.997938e-01,  0.000000e+00],\n",
       "       [ 0.000000e+00,  0.000000e+00,  1.000000e+00]])"
      ]
     },
     "execution_count": 7,
     "metadata": {},
     "output_type": "execute_result"
    }
   ],
   "source": [
    "applythresh(rS_v4tov1 @ rS_v2tov4 @ rS_v3tov2 @ rS_v1tov3)"
   ]
  },
  {
   "cell_type": "markdown",
   "id": "canadian-elements",
   "metadata": {},
   "source": [
    "### Product of Misorientation\n",
    "\n",
    "$^R\\boldsymbol{L} (V_4 \\to V_1)\\ \\cdot\\ ^R\\boldsymbol{L} (V_2 \\to V_4)\\ \\cdot\\ ^R\\boldsymbol{L} (V_3 \\to V_2)\\ \\cdot\\ ^R\\boldsymbol{L} (V_1 \\to V_3)$"
   ]
  },
  {
   "cell_type": "code",
   "execution_count": 8,
   "id": "outside-partnership",
   "metadata": {},
   "outputs": [
    {
     "data": {
      "text/plain": [
       "array([[1., 0., 0.],\n",
       "       [0., 1., 0.],\n",
       "       [0., 0., 1.]])"
      ]
     },
     "execution_count": 8,
     "metadata": {},
     "output_type": "execute_result"
    }
   ],
   "source": [
    "applythresh(rL_v4tov1 @ rL_v2tov4 @ rL_v3tov2 @ rL_v1tov3)"
   ]
  },
  {
   "cell_type": "markdown",
   "id": "japanese-estate",
   "metadata": {},
   "source": [
    "#### Some other errands\n",
    "\n",
    "Let,\n",
    "\n",
    "$^R\\boldsymbol{L} (V_1 \\to V_3)\\ =\\ ^R\\boldsymbol{A}\\ \\cdot\\ ^R\\boldsymbol{L}_z$\n",
    "\n",
    "where $^R\\boldsymbol{L}_z$ defines right-handed misorientation about $\\left[001\\right]_R$, and $^R\\boldsymbol{A}$ defines some operation.\n",
    "\n",
    "Then,\n",
    "\n",
    "$^R\\boldsymbol{A}\\ =\\ ^R\\boldsymbol{L} (V_1 \\to V_3)\\ \\cdot\\ ^R\\boldsymbol{L}_z^{-1}$"
   ]
  },
  {
   "cell_type": "code",
   "execution_count": 9,
   "id": "closing-minister",
   "metadata": {},
   "outputs": [
    {
     "data": {
      "text/latex": [
       "$\\displaystyle ^R\\boldsymbol{L}_z =$"
      ],
      "text/plain": [
       "<IPython.core.display.Math object>"
      ]
     },
     "metadata": {},
     "output_type": "display_data"
    },
    {
     "data": {
      "text/latex": [
       "$\\displaystyle \\left[\\begin{matrix}\\cos{\\left(\\theta \\right)} & - \\sin{\\left(\\theta \\right)} & 0\\\\\\sin{\\left(\\theta \\right)} & \\cos{\\left(\\theta \\right)} & 0\\\\0 & 0 & 1\\end{matrix}\\right]$"
      ],
      "text/plain": [
       "⎡cos(θ)  -sin(θ)  0⎤\n",
       "⎢                  ⎥\n",
       "⎢sin(θ)  cos(θ)   0⎥\n",
       "⎢                  ⎥\n",
       "⎣  0        0     1⎦"
      ]
     },
     "metadata": {},
     "output_type": "display_data"
    },
    {
     "data": {
      "text/latex": [
       "$\\displaystyle ^R\\boldsymbol{L} (V_1 \\to V_3) =$"
      ],
      "text/plain": [
       "<IPython.core.display.Math object>"
      ]
     },
     "metadata": {},
     "output_type": "display_data"
    },
    {
     "data": {
      "text/latex": [
       "$\\displaystyle \\left[\\begin{matrix}\\cos{\\left(\\theta \\right)} & - \\sin{\\left(\\theta \\right)} & 0\\\\- \\sin{\\left(\\theta \\right)} & - \\cos{\\left(\\theta \\right)} & 0\\\\0 & 0 & -1\\end{matrix}\\right]$"
      ],
      "text/plain": [
       "⎡cos(θ)   -sin(θ)  0 ⎤\n",
       "⎢                    ⎥\n",
       "⎢-sin(θ)  -cos(θ)  0 ⎥\n",
       "⎢                    ⎥\n",
       "⎣   0        0     -1⎦"
      ]
     },
     "metadata": {},
     "output_type": "display_data"
    },
    {
     "data": {
      "text/latex": [
       "$\\displaystyle ^R\\boldsymbol{A} =$"
      ],
      "text/plain": [
       "<IPython.core.display.Math object>"
      ]
     },
     "metadata": {},
     "output_type": "display_data"
    },
    {
     "data": {
      "text/latex": [
       "$\\displaystyle \\left[\\begin{matrix}1 & 0 & 0\\\\0 & -1 & 0\\\\0 & 0 & -1\\end{matrix}\\right]$"
      ],
      "text/plain": [
       "⎡1  0   0 ⎤\n",
       "⎢         ⎥\n",
       "⎢0  -1  0 ⎥\n",
       "⎢         ⎥\n",
       "⎣0  0   -1⎦"
      ]
     },
     "metadata": {},
     "output_type": "display_data"
    }
   ],
   "source": [
    "import sympy as sp\n",
    "from IPython.display import Math, display\n",
    "sp.init_printing(use_unicode=True)\n",
    "\n",
    "theta = sp.symbols('theta',real=True)\n",
    "\n",
    "rL_z = sp.Matrix([[sp.cos(theta),-sp.sin(theta),0],[sp.sin(theta),sp.cos(theta),0],[0,0,1]])\n",
    "display(Math(r'^R\\boldsymbol{L}_z ='),rL_z)\n",
    "\n",
    "rL_v1tov3 = sp.Matrix([[sp.cos(theta),-sp.sin(theta),0],[-sp.sin(theta),-sp.cos(theta),0],[0,0,-1]])\n",
    "display(Math(r'^R\\boldsymbol{L} (V_1 \\to V_3) ='),rL_v1tov3)\n",
    "\n",
    "rA = sp.simplify(rL_v1tov3 @ rL_z.inv())\n",
    "display(Math(r'^R\\boldsymbol{A} ='),rA)"
   ]
  }
 ],
 "metadata": {
  "kernelspec": {
   "display_name": "Python 3",
   "language": "python",
   "name": "python3"
  },
  "language_info": {
   "codemirror_mode": {
    "name": "ipython",
    "version": 3
   },
   "file_extension": ".py",
   "mimetype": "text/x-python",
   "name": "python",
   "nbconvert_exporter": "python",
   "pygments_lexer": "ipython3",
   "version": "3.8.8"
  }
 },
 "nbformat": 4,
 "nbformat_minor": 5
}
