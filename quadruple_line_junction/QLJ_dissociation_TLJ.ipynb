{
 "cells": [
  {
   "cell_type": "markdown",
   "id": "psychological-preservation",
   "metadata": {},
   "source": [
    "# Dissociation of QLJ to TLJ\n",
    "\n",
    "Objective: Obtain equilibrium distance between junction lines as QLJ dissociate to TLJ"
   ]
  },
  {
   "cell_type": "code",
   "execution_count": 1,
   "id": "thousand-dallas",
   "metadata": {},
   "outputs": [],
   "source": [
    "## numpy: package for cumputing numerical arrays\n",
    "from numpy.linalg import inv #inverse of a matrix\n",
    "import numpy as np\n",
    "np.set_printoptions(precision=4) #precision of arrays\n",
    "#i have set a custom threshold of 9 sigfigs after decimal\n",
    "\n",
    "## matplotlib: package for plotting\n",
    "from matplotlib import pyplot as plt\n",
    "%matplotlib inline\n",
    "\n",
    "## import functions from twinning\n",
    "import sys; sys.path.insert(0, '..')\n",
    "from nmgjunctions.twinning import *"
   ]
  },
  {
   "cell_type": "markdown",
   "id": "amazing-publication",
   "metadata": {},
   "source": [
    "### Import Transformation Matrices\n",
    "\n",
    "$V_1$, $V_3$, $V_2$, $V_4$ for QLJ analyis:"
   ]
  },
  {
   "cell_type": "code",
   "execution_count": 2,
   "id": "attached-papua",
   "metadata": {},
   "outputs": [],
   "source": [
    "## NMG lattice parameter: Seiner et al. (2019)\n",
    "a,b,c,gamma = [0.5972, 0.5944, 0.5584, np.deg2rad(90.37)]\n",
    "\n",
    "# irrational element\n",
    "q3 = (2*a*b*np.cos(gamma) - np.sqrt(a**4 + b**4 + 2*a**2*b**2*np.cos(2*gamma)))/(a**2 - b**2)\n",
    "q4 = (2*a*b*np.cos(gamma) + np.sqrt(a**4 + b**4 + 2*a**2*b**2*np.cos(2*gamma)))/(a**2 - b**2)\n",
    "\n",
    "## Transformation matrices\n",
    "rPv1, rPv3, rPv2, rPv4, rPv1s = np.load('rPv13241s.npy')\n",
    "del rPv1s"
   ]
  },
  {
   "cell_type": "markdown",
   "id": "north-essex",
   "metadata": {},
   "source": [
    "### TLJ\n",
    "\n",
    "#### $V_1 - V_3 - V_4$ "
   ]
  },
  {
   "cell_type": "code",
   "execution_count": 3,
   "id": "alleged-storm",
   "metadata": {},
   "outputs": [
    {
     "name": "stdout",
     "output_type": "stream",
     "text": [
      "V₁: angle between (1 q3 0) and (1 1 0) pair: 117.3403 degrees\n",
      "V₃: angle between (1 1 0) and (1 0 0) pair: 44.9488 degrees\n",
      "V₄: angle between (1 0 0) and (1 q4 0) pair: 198.0660 degrees\n",
      "Sum of Angles = 360.3551 degrees\n"
     ]
    }
   ],
   "source": [
    "alpha1 = 180 - angleTBpair(rPv1,[1,q3,0],[1,1,0])\n",
    "print('V₁: angle between (1 q3 0) and (1 1 0) pair: %.4f degrees' % alpha1)\n",
    "\n",
    "alpha3 = angleTBpair(rPv3,[1,1,0],[1,0,0])\n",
    "print('V₃: angle between (1 1 0) and (1 0 0) pair: %.4f degrees' % alpha3)\n",
    "\n",
    "alpha4 = 180 + angleTBpair(rPv4,[1,0,0],[1,q4,0])\n",
    "print('V₄: angle between (1 0 0) and (1 q4 0) pair: %.4f degrees' % alpha4)\n",
    "\n",
    "print('Sum of Angles = %.4f degrees' % (alpha1 + alpha3 + alpha4))\n",
    "del alpha1,alpha3,alpha4"
   ]
  },
  {
   "cell_type": "markdown",
   "id": "underlying-april",
   "metadata": {},
   "source": [
    "#### $V_3 - V_2 - V_4$ "
   ]
  },
  {
   "cell_type": "code",
   "execution_count": 4,
   "id": "bibliographic-attachment",
   "metadata": {},
   "outputs": [
    {
     "name": "stdout",
     "output_type": "stream",
     "text": [
      "V₃: angle between (1 0 0) and (1 q4 0) pair: 161.9340 degrees\n",
      "V₂: angle between (1 q3 0) and (1 1 0) pair: 62.6597 degrees\n",
      "V₄: angle between (1 1 0) and (1 0 0) pair: 135.0512 degrees\n",
      "Sum of Angles = 359.6449 degrees\n"
     ]
    }
   ],
   "source": [
    "alpha3 = 180-angleTBpair(rPv3,[1,0,0],[1,q4,0])\n",
    "print('V₃: angle between (1 0 0) and (1 q4 0) pair: %.4f degrees' % alpha3)\n",
    "\n",
    "alpha2 = angleTBpair(rPv2,[1,q3,0],[1,1,0])\n",
    "print('V₂: angle between (1 q3 0) and (1 1 0) pair: %.4f degrees' % alpha2)\n",
    "\n",
    "alpha4 = 180 - angleTBpair(rPv4,[1,1,0],[1,0,0])\n",
    "print('V₄: angle between (1 1 0) and (1 0 0) pair: %.4f degrees' % alpha4)\n",
    "\n",
    "print('Sum of Angles = %.4f degrees' % (alpha3 + alpha2 + alpha4))\n",
    "del alpha3,alpha2,alpha4"
   ]
  },
  {
   "cell_type": "markdown",
   "id": "false-bangkok",
   "metadata": {},
   "source": [
    "#### $V_3 - V_1 - V_2$ "
   ]
  },
  {
   "cell_type": "code",
   "execution_count": 5,
   "id": "smoking-dealer",
   "metadata": {},
   "outputs": [
    {
     "name": "stdout",
     "output_type": "stream",
     "text": [
      "V₃: angle between (1 q4 0) and (1 1 0) pair: 153.1173 degrees\n",
      "V₁: angle between (1 1 0) and (0 1 0) pair: 44.6812 degrees\n",
      "V₂: angle between (0 1 0) and (1 q3 0) pair: 162.0216 degrees\n",
      "Sum of Angles = 359.8201 degrees\n"
     ]
    }
   ],
   "source": [
    "alpha3 = 180-angleTBpair(rPv3,[1,q4,0],[1,1,0])\n",
    "print('V₃: angle between (1 q4 0) and (1 1 0) pair: %.4f degrees' % alpha3)\n",
    "\n",
    "alpha1 = angleTBpair(rPv1,[1,1,0],[0,1,0])\n",
    "print('V₁: angle between (1 1 0) and (0 1 0) pair: %.4f degrees' % alpha1)\n",
    "\n",
    "alpha2 = 180 - angleTBpair(rPv2,[0,1,0],[1,q3,0])\n",
    "print('V₂: angle between (0 1 0) and (1 q3 0) pair: %.4f degrees' % alpha2)\n",
    "\n",
    "print('Sum of Angles = %.4f degrees' % (alpha3 + alpha1 + alpha2))\n",
    "del alpha3,alpha1,alpha2"
   ]
  },
  {
   "cell_type": "markdown",
   "id": "important-interpretation",
   "metadata": {},
   "source": [
    "#### $V_1 - V_4 - V_2$ "
   ]
  },
  {
   "cell_type": "code",
   "execution_count": 6,
   "id": "ambient-missouri",
   "metadata": {},
   "outputs": [
    {
     "name": "stdout",
     "output_type": "stream",
     "text": [
      "V₁: angle between (0 1 0) and (1 q3 0) pair: 197.9784 degrees\n",
      "V₄: angle between (1 q4 0) and (1 1 0) pair: 26.8827 degrees\n",
      "V₂: angle between (1 1 0) and (0 1 0) pair: 135.3188 degrees\n",
      "Sum of Angles = 360.1799 degrees\n"
     ]
    }
   ],
   "source": [
    "alpha1 = 180+angleTBpair(rPv1,[0,1,0],[1,q3,0])\n",
    "print('V₁: angle between (0 1 0) and (1 q3 0) pair: %.4f degrees' % alpha1)\n",
    "\n",
    "alpha4 = angleTBpair(rPv4,[1,q4,0],[1,1,0])\n",
    "print('V₄: angle between (1 q4 0) and (1 1 0) pair: %.4f degrees' % alpha4)\n",
    "\n",
    "alpha2 = 180-angleTBpair(rPv2,[1,1,0],[0,1,0])\n",
    "print('V₂: angle between (1 1 0) and (0 1 0) pair: %.4f degrees' % alpha2)\n",
    "\n",
    "print('Sum of Angles = %.4f degrees' % (alpha1 + alpha4 + alpha2))\n",
    "del alpha1,alpha4,alpha2"
   ]
  }
 ],
 "metadata": {
  "kernelspec": {
   "display_name": "Python 3",
   "language": "python",
   "name": "python3"
  },
  "language_info": {
   "codemirror_mode": {
    "name": "ipython",
    "version": 3
   },
   "file_extension": ".py",
   "mimetype": "text/x-python",
   "name": "python",
   "nbconvert_exporter": "python",
   "pygments_lexer": "ipython3",
   "version": "3.8.5"
  }
 },
 "nbformat": 4,
 "nbformat_minor": 5
}
