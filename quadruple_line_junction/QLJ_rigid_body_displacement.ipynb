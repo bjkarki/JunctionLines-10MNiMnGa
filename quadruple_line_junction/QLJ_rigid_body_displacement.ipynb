{
 "cells": [
  {
   "cell_type": "markdown",
   "metadata": {
    "id": "-UtbOVz7Mc82"
   },
   "source": [
    "# Quadruple Line Junctions\n",
    "\n",
    "Objective: Calculate the sum of shear to obtain rigid body displacement."
   ]
  },
  {
   "cell_type": "markdown",
   "metadata": {},
   "source": [
    "### Import packages"
   ]
  },
  {
   "cell_type": "code",
   "execution_count": 1,
   "metadata": {},
   "outputs": [],
   "source": [
    "## numpy: package for cumputing numerical arrays\n",
    "from numpy.linalg import inv #inverse of a matrix\n",
    "import numpy as np\n",
    "np.set_printoptions(precision=4) #precision of arrays\n",
    "#i have set a custom threshold of 9 sigfigs after decimal\n",
    "\n",
    "## matplotlib: package for plotting\n",
    "from matplotlib import pyplot as plt\n",
    "%matplotlib inline\n",
    "\n",
    "## import functions from twinning\n",
    "from twinning import *"
   ]
  },
  {
   "cell_type": "markdown",
   "metadata": {},
   "source": [
    "### 10M Ni-Mn-Ga\n",
    "\n",
    "1. Lattice parameters\n",
    "2. Metric Tensor\n",
    "3. Irrational element of NC twins"
   ]
  },
  {
   "cell_type": "code",
   "execution_count": 2,
   "metadata": {},
   "outputs": [],
   "source": [
    "## lattice parameters\n",
    "a,b,c,gamma = [0.5972, 0.5944, 0.5584, np.deg2rad(90.37)] #NMG lattice parameter: Seiner et al. (2019)\n",
    "#a,b,c,gamma = [1., 0.97, 0.94, np.deg2rad(94)] #Exaggerated lattice\n",
    "\n",
    "## metric tensor\n",
    "G = np.array([[a**2,a*b*np.cos(gamma),0],[a*b*np.cos(gamma),b**2,0],[0,0,c**2]])\n",
    "\n",
    "## irrational element of NC twins\n",
    "q3 = (2*a*b*np.cos(gamma) - np.sqrt(a**4 + b**4 + 2*a**2*b**2*np.cos(2*gamma)))/(a**2 - b**2)\n",
    "q4 = (2*a*b*np.cos(gamma) + np.sqrt(a**4 + b**4 + 2*a**2*b**2*np.cos(2*gamma)))/(a**2 - b**2)\n",
    "#q3 * q4 ≃ -1"
   ]
  },
  {
   "cell_type": "markdown",
   "metadata": {
    "id": "FQmQz5kuN_sM"
   },
   "source": [
    "### Monoclinic Composite forming Quadrupole Line\n",
    "\n",
    "| Variant Transformation | $\\boldsymbol{K}_1$ | $\\boldsymbol{\\eta}_1$ | Orientation Relationship |\n",
    "| ---------------------: | :----------------: | :-------------------: | ------------------------: |\n",
    "| $V_1 \\to V_3$          |  $(1 1 0)_m$       | $[\\bar{1} 1 0]_m$   | $\\boldsymbol{2}_{[\\bar{1}10]_m}$ |\n",
    "| $V_3 \\to V_2$          |  $(1 q_4 0)_m$       | $[\\bar{q_4} 1 0]_m$   | $\\sim \\boldsymbol{4}^+_{[001]_m}$ |\n",
    "| $V_2 \\to V_4$          |  $(\\bar{1} \\bar{1} 0)_m$       | $[1 \\bar{1} 0]_m$   | $\\boldsymbol{2}_{[1 \\bar{1} 0]_m}$ |\n",
    "| $V_4 \\to V_1$          |  $(1 q_4 0)_m$       | $[\\bar{q_4} 1 0]_m$   | $\\sim \\boldsymbol{4}^+_{[001]_m}$ |\n",
    "\n"
   ]
  },
  {
   "cell_type": "markdown",
   "metadata": {
    "id": "o912pNUDnRAf"
   },
   "source": [
    "#### $^R\\boldsymbol{P}^{V_1}$"
   ]
  },
  {
   "cell_type": "code",
   "execution_count": 3,
   "metadata": {
    "colab": {
     "base_uri": "https://localhost:8080/"
    },
    "executionInfo": {
     "elapsed": 537,
     "status": "ok",
     "timestamp": 1609984597523,
     "user": {
      "displayName": "Bibek Karki",
      "photoUrl": "https://lh3.googleusercontent.com/a-/AOh14GgZAW3JQIe6sDhjmuEGMXU8oCCydsNZgmVt4j_VNQ=s64",
      "userId": "03740239371761830413"
     },
     "user_tz": 420
    },
    "id": "F5AfGJZSnrWD",
    "outputId": "903e5e34-f5ce-4bf0-cd84-9d7a20c92201"
   },
   "outputs": [],
   "source": [
    "## Transformation: R ↔ V₁\n",
    "rPv1 = np.array([[1,b/a*np.cos(gamma),0],[0,-b/a*np.sin(gamma),0],[0,0,-c/a]])"
   ]
  },
  {
   "cell_type": "markdown",
   "metadata": {},
   "source": [
    "#### $^R\\boldsymbol{P}^{V_3}$"
   ]
  },
  {
   "cell_type": "code",
   "execution_count": 4,
   "metadata": {},
   "outputs": [],
   "source": [
    "## Transformation: R ↔ V₃\n",
    "#OR (1 1 0) compound twin\n",
    "rL_v1tov3 = rotationmatrix([1,1,0] @ inv(rPv1), np.pi)\n",
    "rPv3 = rL_v1tov3 @ rPv1\n",
    "del rL_v1tov3 #del OR"
   ]
  },
  {
   "cell_type": "markdown",
   "metadata": {},
   "source": [
    "#### $^R\\boldsymbol{P}^{V_2}$"
   ]
  },
  {
   "cell_type": "code",
   "execution_count": 5,
   "metadata": {},
   "outputs": [],
   "source": [
    "## Transformation: R ↔ V₂\n",
    "#OR (1 q4 0) NC twin\n",
    "rL_v3tov2 = OR_NCtwins([1,q4,0],[-q4,1,0],rPv3,a,normal_pos=True)\n",
    "rPv2 = rL_v3tov2 @ rPv3\n",
    "del rL_v3tov2 #del OR"
   ]
  },
  {
   "cell_type": "markdown",
   "metadata": {},
   "source": [
    "#### $^R\\boldsymbol{P}^{V_4}$"
   ]
  },
  {
   "cell_type": "code",
   "execution_count": 6,
   "metadata": {},
   "outputs": [],
   "source": [
    "## Transformation: R ↔ V₄\n",
    "#OR (-1 -1 0) compound twin\n",
    "rL_v2tov4 = rotationmatrix([-1,-1,0] @ inv(rPv2), np.pi)\n",
    "rPv4 = rL_v2tov4 @ rPv2\n",
    "del rL_v2tov4 # del OR"
   ]
  },
  {
   "cell_type": "markdown",
   "metadata": {
    "id": "iMni6LkKnuuh"
   },
   "source": [
    "### Sum of Shears (Rigid Body Displacement)"
   ]
  },
  {
   "cell_type": "markdown",
   "metadata": {},
   "source": [
    "#### shear magnitude"
   ]
  },
  {
   "cell_type": "code",
   "execution_count": 7,
   "metadata": {
    "colab": {
     "base_uri": "https://localhost:8080/"
    },
    "executionInfo": {
     "elapsed": 699,
     "status": "ok",
     "timestamp": 1609984597711,
     "user": {
      "displayName": "Bibek Karki",
      "photoUrl": "https://lh3.googleusercontent.com/a-/AOh14GgZAW3JQIe6sDhjmuEGMXU8oCCydsNZgmVt4j_VNQ=s64",
      "userId": "03740239371761830413"
     },
     "user_tz": 420
    },
    "id": "Ys5W7afoTp6G",
    "outputId": "05a087ac-2336-4f75-ecd3-370ca7edd1a9"
   },
   "outputs": [
    {
     "name": "stdout",
     "output_type": "stream",
     "text": [
      "shear magnitdue: (110) and (1 q3 0) TB =  [0.0094 0.016 ]\n"
     ]
    }
   ],
   "source": [
    "##define output variable\n",
    "shear = []\n",
    "\n",
    "## shear magnitude from C\n",
    "\n",
    "## (1 1 0) TB Correspondence\n",
    "C = applythresh(rotationmatrix([1,1,0],np.pi))\n",
    "#shear of compound twin\n",
    "shear.append(np.sqrt(np.trace(C.T @ G @ C @ inv(G))-3))\n",
    "del C\n",
    "\n",
    "## (1 1 0) TB Correspondence\n",
    "C = applythresh(rotationmatrix([0,0,1],np.pi/2))\n",
    "#shear of compound twin\n",
    "shear.append(np.sqrt(np.trace(C.T @ G @ C @ inv(G))-3))\n",
    "del C\n",
    "\n",
    "#print\n",
    "print('shear magnitdue: (110) and (1 q3 0) TB = ', np.asarray(shear))"
   ]
  },
  {
   "cell_type": "markdown",
   "metadata": {
    "id": "yf2s2EECUj3y"
   },
   "source": [
    "#### $\\boldsymbol{s}\\ \\colon\\ V_1 \\to V_3$"
   ]
  },
  {
   "cell_type": "code",
   "execution_count": 8,
   "metadata": {
    "colab": {
     "base_uri": "https://localhost:8080/"
    },
    "executionInfo": {
     "elapsed": 693,
     "status": "ok",
     "timestamp": 1609984597712,
     "user": {
      "displayName": "Bibek Karki",
      "photoUrl": "https://lh3.googleusercontent.com/a-/AOh14GgZAW3JQIe6sDhjmuEGMXU8oCCydsNZgmVt4j_VNQ=s64",
      "userId": "03740239371761830413"
     },
     "user_tz": 420
    },
    "id": "VZ_flGc9VdG7",
    "outputId": "23b5d641-9f57-4933-b281-da8cad8016c0"
   },
   "outputs": [
    {
     "name": "stdout",
     "output_type": "stream",
     "text": [
      "shear1 =  [-0.0067 -0.0066  0.    ]\n"
     ]
    }
   ],
   "source": [
    "##define output variable\n",
    "sheardirection = []\n",
    "\n",
    "## V₁ → V₃\n",
    "eta1 = np.array([-1,1,0])\n",
    "sd = rPv1 @ eta1\n",
    "del eta1\n",
    "\n",
    "## unit shear direction * magnitude\n",
    "sd = shear[0] * (sd / np.sqrt(sd.T @ sd))\n",
    "\n",
    "#print & remove\n",
    "print('shear1 = ', sd)\n",
    "sheardirection.append(sd);\n",
    "del sd"
   ]
  },
  {
   "cell_type": "markdown",
   "metadata": {
    "id": "rfQ02s3aY9gz"
   },
   "source": [
    "#### $\\boldsymbol{s}\\ \\colon\\ V_3 \\to V_2$"
   ]
  },
  {
   "cell_type": "code",
   "execution_count": 9,
   "metadata": {
    "colab": {
     "base_uri": "https://localhost:8080/"
    },
    "executionInfo": {
     "elapsed": 688,
     "status": "ok",
     "timestamp": 1609984597713,
     "user": {
      "displayName": "Bibek Karki",
      "photoUrl": "https://lh3.googleusercontent.com/a-/AOh14GgZAW3JQIe6sDhjmuEGMXU8oCCydsNZgmVt4j_VNQ=s64",
      "userId": "03740239371761830413"
     },
     "user_tz": 420
    },
    "id": "eAHix2vMYmIS",
    "outputId": "4345f04b-33ce-4424-cb5a-6115e32c145f"
   },
   "outputs": [
    {
     "name": "stdout",
     "output_type": "stream",
     "text": [
      "shear3 =  [0.0152 0.0049 0.    ]\n"
     ]
    }
   ],
   "source": [
    "## V₃ → V₂\n",
    "eta1 = np.array([-q4,1,0])\n",
    "sd = rPv3 @ eta1\n",
    "del eta1\n",
    "\n",
    "## unit shear direction * magnitude\n",
    "sd = shear[1] * (sd / np.sqrt(sd.T @ sd))\n",
    "\n",
    "#print & remove\n",
    "print('shear3 = ', sd)\n",
    "sheardirection.append(sd);\n",
    "del sd"
   ]
  },
  {
   "cell_type": "markdown",
   "metadata": {
    "id": "bawbaVCnZ5KT"
   },
   "source": [
    "#### $\\boldsymbol{s}\\ \\colon\\ V_2 \\to V_4$"
   ]
  },
  {
   "cell_type": "code",
   "execution_count": 10,
   "metadata": {
    "colab": {
     "base_uri": "https://localhost:8080/"
    },
    "executionInfo": {
     "elapsed": 682,
     "status": "ok",
     "timestamp": 1609984597714,
     "user": {
      "displayName": "Bibek Karki",
      "photoUrl": "https://lh3.googleusercontent.com/a-/AOh14GgZAW3JQIe6sDhjmuEGMXU8oCCydsNZgmVt4j_VNQ=s64",
      "userId": "03740239371761830413"
     },
     "user_tz": 420
    },
    "id": "W9g56QtKZhWm",
    "outputId": "e8425f1b-4fef-4643-a0d5-02aa1489435d"
   },
   "outputs": [
    {
     "name": "stdout",
     "output_type": "stream",
     "text": [
      "shear2 =  [ 0.0066 -0.0067  0.    ]\n"
     ]
    }
   ],
   "source": [
    "## V₂ → V₄\n",
    "eta1 = np.array([1,-1,0])\n",
    "sd = rPv2 @ eta1\n",
    "del eta1\n",
    "## unit shear direction * magnitude\n",
    "sd = shear[0] * (sd / np.sqrt(sd.T @ sd))\n",
    "\n",
    "#print & remove\n",
    "print('shear2 = ', sd)\n",
    "sheardirection.append(sd);\n",
    "del sd"
   ]
  },
  {
   "cell_type": "markdown",
   "metadata": {
    "id": "YSHrTcp2a5H-"
   },
   "source": [
    "#### $\\boldsymbol{s}\\ \\colon\\ V_4 \\to V_1$"
   ]
  },
  {
   "cell_type": "code",
   "execution_count": 11,
   "metadata": {
    "colab": {
     "base_uri": "https://localhost:8080/"
    },
    "executionInfo": {
     "elapsed": 676,
     "status": "ok",
     "timestamp": 1609984597715,
     "user": {
      "displayName": "Bibek Karki",
      "photoUrl": "https://lh3.googleusercontent.com/a-/AOh14GgZAW3JQIe6sDhjmuEGMXU8oCCydsNZgmVt4j_VNQ=s64",
      "userId": "03740239371761830413"
     },
     "user_tz": 420
    },
    "id": "qz3wP0pLakX1",
    "outputId": "0ff7a744-ba05-477f-a956-eb2de4654c03"
   },
   "outputs": [
    {
     "name": "stdout",
     "output_type": "stream",
     "text": [
      "shear4 =  [ 0.0151 -0.0052  0.    ]\n"
     ]
    }
   ],
   "source": [
    "## V₃ → V₂\n",
    "eta1 = np.array([-q4,1,0])\n",
    "sd = rPv4 @ eta1\n",
    "del eta1\n",
    "\n",
    "## unit shear direction * magnitude\n",
    "sd = shear[1] * (sd / np.sqrt(sd.T @ sd))\n",
    "\n",
    "#print & remove\n",
    "print('shear4 = ', sd)\n",
    "sheardirection.append(sd);\n",
    "del sd"
   ]
  },
  {
   "cell_type": "markdown",
   "metadata": {
    "id": "HVOj4kcDblUL"
   },
   "source": [
    "### Sum of shears"
   ]
  },
  {
   "cell_type": "code",
   "execution_count": 12,
   "metadata": {
    "colab": {
     "base_uri": "https://localhost:8080/"
    },
    "executionInfo": {
     "elapsed": 670,
     "status": "ok",
     "timestamp": 1609984597716,
     "user": {
      "displayName": "Bibek Karki",
      "photoUrl": "https://lh3.googleusercontent.com/a-/AOh14GgZAW3JQIe6sDhjmuEGMXU8oCCydsNZgmVt4j_VNQ=s64",
      "userId": "03740239371761830413"
     },
     "user_tz": 420
    },
    "id": "zH1coTg-bOlz",
    "outputId": "971efbf5-0de0-48a9-96c5-3fa191aec6ae"
   },
   "outputs": [
    {
     "name": "stdout",
     "output_type": "stream",
     "text": [
      "shear magnitude = 0.0331\n",
      "shear direction =  [ 0.9114 -0.4115  0.    ]\n"
     ]
    }
   ],
   "source": [
    "sumofshear = sum(sheardirection)\n",
    "magn = np.sqrt(sumofshear.T @ sumofshear)\n",
    "dire = sumofshear / magn\n",
    "del sumofshear\n",
    "print('shear magnitude = %.4f' % magn)\n",
    "print('shear direction = ', dire)"
   ]
  }
 ],
 "metadata": {
  "colab": {
   "collapsed_sections": [],
   "name": "Seiner-QL-SumOfShears.ipynb",
   "provenance": [],
   "toc_visible": true
  },
  "kernelspec": {
   "display_name": "Python 3",
   "language": "python",
   "name": "python3"
  },
  "language_info": {
   "codemirror_mode": {
    "name": "ipython",
    "version": 3
   },
   "file_extension": ".py",
   "mimetype": "text/x-python",
   "name": "python",
   "nbconvert_exporter": "python",
   "pygments_lexer": "ipython3",
   "version": "3.8.5"
  }
 },
 "nbformat": 4,
 "nbformat_minor": 4
}
