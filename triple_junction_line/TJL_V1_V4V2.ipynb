{
 "cells": [
  {
   "cell_type": "markdown",
   "id": "30f1cf66-2b9f-44df-9863-fe5f9804f8db",
   "metadata": {},
   "source": [
    "### Import packages"
   ]
  },
  {
   "cell_type": "code",
   "execution_count": 1,
   "id": "6e40313a-9557-44f2-97ef-50dab5ae85ec",
   "metadata": {},
   "outputs": [],
   "source": [
    "## numpy: package for cumputing numerical arrays\n",
    "from numpy.linalg import inv #inverse of a matrix\n",
    "import numpy as np\n",
    "np.set_printoptions(precision=4) #precision of arrays\n",
    "#i have set a custom threshold of 9 sigfigs after decimal\n",
    "\n",
    "## matplotlib: package for plotting\n",
    "from matplotlib import pyplot as plt\n",
    "%matplotlib inline\n",
    "\n",
    "## import functions from twinning\n",
    "import sys; sys.path.insert(0, '..')\n",
    "from nmgjunctions.twinning import *"
   ]
  },
  {
   "cell_type": "code",
   "execution_count": 2,
   "id": "ff832f64-15e9-4d7e-85c2-5268e51aa5b8",
   "metadata": {},
   "outputs": [],
   "source": [
    "## lattice parameters\n",
    "a,b,c,gamma = [0.5972, 0.5944, 0.5584, np.deg2rad(90.37)] #NMG lattice parameter: Seiner et al. (2019)\n",
    "#a,b,c,gamma = [1., 0.97, 0.94, np.deg2rad(94)] #Exaggerated lattice\n",
    "\n",
    "## irrational element of NC twins\n",
    "q3 = (2*a*b*np.cos(gamma) - np.sqrt(a**4 + b**4 + 2*a**2*b**2*np.cos(2*gamma)))/(a**2 - b**2)\n",
    "q4 = (2*a*b*np.cos(gamma) + np.sqrt(a**4 + b**4 + 2*a**2*b**2*np.cos(2*gamma)))/(a**2 - b**2)\n",
    "## q4 * q3 ≃ -1"
   ]
  },
  {
   "cell_type": "markdown",
   "id": "92ac5be0-7a26-44cb-9f97-47f3026e7842",
   "metadata": {},
   "source": [
    "$V_1$"
   ]
  },
  {
   "cell_type": "code",
   "execution_count": 3,
   "id": "6361c075-16be-45ca-ae0c-aeeb24b4f5a8",
   "metadata": {},
   "outputs": [
    {
     "name": "stdout",
     "output_type": "stream",
     "text": [
      "[[ 1.     -0.0064  0.    ]\n",
      " [ 0.     -0.9953  0.    ]\n",
      " [ 0.      0.     -0.935 ]]\n"
     ]
    },
    {
     "data": {
      "image/png": "[encoded data removed]",
      "text/plain": [
       "<Figure size 432x288 with 1 Axes>"
      ]
     },
     "metadata": {},
     "output_type": "display_data"
    }
   ],
   "source": [
    "## Transformation: R ↔ V₁\n",
    "rPv1 = np.array([[1,b/a*np.cos(gamma),0],[0,-b/a*np.sin(gamma),0],[0,0,-c/a]])\n",
    "print(applythresh(rPv1))\n",
    "\n",
    "## plot lattice vectors a and b\n",
    "fig, ax = latticevectors_ab(rPv1)\n",
    "\n",
    "ax.text(+0.015,+0.005,r'$\\mathbf{a}_{V_1}$',fontsize=16) #label vector a\n",
    "ax.text(-0.015,-0.02,r'$\\mathbf{b}_{V_1}$',fontsize=16) #label vector b\n",
    "\n",
    "ax.set_xticks([]); ax.set_yticks([]) # remove ticks\n",
    "\n",
    "plt.show() # show plot\n",
    "del fig,ax"
   ]
  },
  {
   "cell_type": "markdown",
   "id": "e70a84cd-d90c-4ad5-8897-48a95d2b76c2",
   "metadata": {},
   "source": [
    "$V_4$"
   ]
  },
  {
   "cell_type": "code",
   "execution_count": 4,
   "id": "78b7fa30-8263-4393-b958-b21784f50bde",
   "metadata": {},
   "outputs": [
    {
     "name": "stdout",
     "output_type": "stream",
     "text": [
      "[[-0.008  -0.9952  0.    ]\n",
      " [-1.      0.0144  0.    ]\n",
      " [ 0.      0.     -0.935 ]]\n"
     ]
    },
    {
     "data": {
      "image/png": "[encoded data removed]",
      "text/plain": [
       "<Figure size 432x288 with 1 Axes>"
      ]
     },
     "metadata": {},
     "output_type": "display_data"
    }
   ],
   "source": [
    "## Orientation Relationship   rL: V₁ → V₄ \n",
    "\n",
    "#(1 q3 0) NC twins\n",
    "C = applythresh(rotationmatrix([0,0,1],np.pi/2)) \n",
    "rL_v1tov4 = OR_RefFrame([-1,-q3,0],[-q3,1,0],C,rPv1,a)\n",
    "\n",
    "#Transformation relation: R ↔ V₄\n",
    "rPv4 = rL_v1tov4 @ rPv1\n",
    "del C\n",
    "\n",
    "print(rPv4)\n",
    "\n",
    "## plot lattice vectors a and b\n",
    "fig, ax = latticevectors_ab(rPv4)\n",
    "\n",
    "ax.text(+0.001,-0.023,r'$\\mathbf{a}_{V_4}$',fontsize=16) #label vector a\n",
    "ax.text(-0.025,0.005,r'$\\mathbf{b}_{V_4}$',fontsize=16) #label vector b\n",
    "\n",
    "ax.set_xticks([]); ax.set_yticks([]) # remove ticks\n",
    "\n",
    "plt.show() # show plot\n",
    "del fig,ax"
   ]
  },
  {
   "cell_type": "markdown",
   "id": "170b2d10-54af-44a7-b4e8-3f49f9863802",
   "metadata": {},
   "source": [
    "$V_2$"
   ]
  },
  {
   "cell_type": "code",
   "execution_count": 5,
   "id": "12909e72-3d05-438b-beb4-c4d2ceca3319",
   "metadata": {},
   "outputs": [
    {
     "name": "stdout",
     "output_type": "stream",
     "text": [
      "[[-0.9998 -0.0126  0.    ]\n",
      " [ 0.0191 -0.9952  0.    ]\n",
      " [ 0.      0.      0.935 ]]\n"
     ]
    },
    {
     "data": {
      "image/png": "[encoded data removed]",
      "text/plain": [
       "<Figure size 432x288 with 1 Axes>"
      ]
     },
     "metadata": {},
     "output_type": "display_data"
    }
   ],
   "source": [
    "rL_v4tov2 = rotationmatrix([-1,-1,0] @ inv(rPv4), np.pi)\n",
    "\n",
    "#Transformation relation: R ↔ V₄\n",
    "rPv2 = rL_v4tov2 @ rPv4\n",
    "\n",
    "print(rPv2)\n",
    "\n",
    "## plot lattice vectors a and b\n",
    "fig, ax = latticevectors_ab(rPv2)\n",
    "\n",
    "ax.text(-0.025,0.005,r'$\\mathbf{a}_{V_2}$',fontsize=16) #label vector a\n",
    "ax.text(+0.001,-0.023,r'$\\mathbf{b}_{V_2}$',fontsize=16) #label vector b\n",
    "\n",
    "ax.set_xticks([]); ax.set_yticks([]) # remove ticks\n",
    "\n",
    "plt.show() # show plot\n",
    "del fig,ax"
   ]
  },
  {
   "cell_type": "markdown",
   "id": "9e174b75-df04-45f2-9b72-0c8c6b17dfda",
   "metadata": {},
   "source": [
    "$V_1^*$"
   ]
  },
  {
   "cell_type": "code",
   "execution_count": 6,
   "id": "64e55ec9-9232-43bc-9e03-51a9c048d82b",
   "metadata": {},
   "outputs": [
    {
     "name": "stdout",
     "output_type": "stream",
     "text": [
      "[[ 0.9998 -0.0254  0.    ]\n",
      " [-0.0191 -0.995   0.    ]\n",
      " [ 0.      0.     -0.935 ]]\n"
     ]
    },
    {
     "data": {
      "image/png": "[encoded data removed]",
      "text/plain": [
       "<Figure size 432x288 with 1 Axes>"
      ]
     },
     "metadata": {},
     "output_type": "display_data"
    }
   ],
   "source": [
    "rL_v2tov1 = rotationmatrix([0,-1,0] @ inv(rPv2), np.pi)\n",
    "\n",
    "#Transformation relation: R ↔ V₄\n",
    "rPv1s = rL_v2tov1 @ rPv2\n",
    "\n",
    "print(rPv1s)\n",
    "\n",
    "## plot lattice vectors a and b\n",
    "fig, ax = latticevectors_ab(rPv1s)\n",
    "\n",
    "ax.text(+0.015,+0.005,r'$\\mathbf{a}_{V_1}$',fontsize=16) #label vector a\n",
    "ax.text(-0.015,-0.02,r'$\\mathbf{b}_{V_1}$',fontsize=16) #label vector b\n",
    "\n",
    "ax.set_xticks([]); ax.set_yticks([]) # remove ticks\n",
    "\n",
    "plt.show() # show plot\n",
    "del fig,ax"
   ]
  },
  {
   "cell_type": "code",
   "execution_count": 7,
   "id": "a0710f38-c6c7-44f8-86cc-fbc392e6feb2",
   "metadata": {},
   "outputs": [
    {
     "data": {
      "text/plain": [
       "array([[ 0.9998,  0.0191,  0.    ],\n",
       "       [-0.0191,  0.9998,  0.    ],\n",
       "       [ 0.    ,  0.    ,  1.    ]])"
      ]
     },
     "execution_count": 7,
     "metadata": {},
     "output_type": "execute_result"
    }
   ],
   "source": [
    "M = rL_v2tov1 @ rL_v4tov2 @ rL_v1tov4\n",
    "M"
   ]
  },
  {
   "cell_type": "code",
   "execution_count": 8,
   "id": "4e56b24e-56a5-4094-bff8-7f8086b80351",
   "metadata": {},
   "outputs": [
    {
     "data": {
      "text/plain": [
       "0.18252275882469138"
      ]
     },
     "execution_count": 8,
     "metadata": {},
     "output_type": "execute_result"
    }
   ],
   "source": [
    "np.rad2deg(np.arcsin(M[0,1]))/6"
   ]
  },
  {
   "cell_type": "code",
   "execution_count": null,
   "id": "6118d7b7-9c84-4a62-b70b-f6a7db00a57a",
   "metadata": {},
   "outputs": [],
   "source": []
  }
 ],
 "metadata": {
  "kernelspec": {
   "display_name": "Python 3",
   "language": "python",
   "name": "python3"
  },
  "language_info": {
   "codemirror_mode": {
    "name": "ipython",
    "version": 3
   },
   "file_extension": ".py",
   "mimetype": "text/x-python",
   "name": "python",
   "nbconvert_exporter": "python",
   "pygments_lexer": "ipython3",
   "version": "3.8.11"
  }
 },
 "nbformat": 4,
 "nbformat_minor": 5
}
