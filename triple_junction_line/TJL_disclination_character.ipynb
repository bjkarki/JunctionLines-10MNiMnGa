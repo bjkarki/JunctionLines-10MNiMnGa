{
 "cells": [
  {
   "cell_type": "markdown",
   "id": "committed-width",
   "metadata": {},
   "source": [
    "# Triple Line Junctions\n",
    "\n",
    "**Objective**: Calculate the misorientation angle at the *triple line junction* of deformation twinning in 10M Ni-Mn-Ga"
   ]
  },
  {
   "cell_type": "markdown",
   "id": "equivalent-anniversary",
   "metadata": {},
   "source": [
    "### Import packages"
   ]
  },
  {
   "cell_type": "code",
   "execution_count": 1,
   "id": "interesting-breed",
   "metadata": {},
   "outputs": [],
   "source": [
    "## numpy: package for cumputing numerical arrays\n",
    "from numpy.linalg import inv #inverse of a matrix\n",
    "import numpy as np\n",
    "np.set_printoptions(precision=4) #precision of arrays\n",
    "\n",
    "## matplotlib: package for plotting\n",
    "from matplotlib import pyplot as plt\n",
    "%matplotlib inline\n",
    "\n",
    "## import functions from twinning\n",
    "import sys; sys.path.insert(0, '..')\n",
    "from nmgjunctions.twinning import *"
   ]
  },
  {
   "cell_type": "markdown",
   "id": "selected-scanner",
   "metadata": {},
   "source": [
    "### 10M Ni-Mn-Ga\n",
    "\n",
    "1. Lattice parameters\n",
    "2. Irrational element of NC twins"
   ]
  },
  {
   "cell_type": "code",
   "execution_count": 2,
   "id": "prospective-banner",
   "metadata": {},
   "outputs": [],
   "source": [
    "## lattice parameters\n",
    "a,b,c,gamma = [0.5972, 0.5944, 0.5584, np.deg2rad(90.37)] #NMG lattice parameter: Seiner et al. (2019)\n",
    "#a,b,c,gamma = [1., 0.97, 0.94, np.deg2rad(94)] #Exaggerated lattice\n",
    "\n",
    "## irrational element of NC twins\n",
    "q3 = (2*a*b*np.cos(gamma) - np.sqrt(a**4 + b**4 + 2*a**2*b**2*np.cos(2*gamma)))/(a**2 - b**2)\n",
    "q4 = (2*a*b*np.cos(gamma) + np.sqrt(a**4 + b**4 + 2*a**2*b**2*np.cos(2*gamma)))/(a**2 - b**2)"
   ]
  },
  {
   "cell_type": "markdown",
   "id": "nearby-england",
   "metadata": {},
   "source": [
    "### Transformation Relation\n",
    "\n",
    "#### $V_1$\n",
    "\n",
    "Crystal Coordiante Frame ($V_1$) $\\leftrightarrow$ Reference Frame ($R$): $^R\\mathbf{P}^{V_1}$"
   ]
  },
  {
   "cell_type": "code",
   "execution_count": 3,
   "id": "separated-triple",
   "metadata": {},
   "outputs": [],
   "source": [
    "## Transformation: R → V1\n",
    "rPv1 = np.array([[1,b/a*np.cos(gamma),0],[0,-b/a*np.sin(gamma),0],[0,0,-c/a]])"
   ]
  },
  {
   "cell_type": "markdown",
   "id": "stainless-priority",
   "metadata": {},
   "source": [
    "$V_1$ lattice vectors: $\\boldsymbol{a}$ & $\\boldsymbol{b}$"
   ]
  },
  {
   "cell_type": "code",
   "execution_count": 4,
   "id": "surrounded-coverage",
   "metadata": {},
   "outputs": [
    {
     "name": "stdout",
     "output_type": "stream",
     "text": [
      "[[ 1.     -0.0064  0.    ]\n",
      " [ 0.     -0.9953  0.    ]\n",
      " [ 0.      0.     -0.935 ]]\n"
     ]
    },
    {
     "data": {
      "image/png": "[encoded data removed]",
      "text/plain": [
       "<Figure size 432x288 with 1 Axes>"
      ]
     },
     "metadata": {},
     "output_type": "display_data"
    }
   ],
   "source": [
    "print(rPv1)\n",
    "\n",
    "## plot lattice vectors a and b\n",
    "fig, ax = latticevectors_ab(rPv1)\n",
    "\n",
    "ax.text(+0.015,+0.005,r'$\\mathbf{a}_{V_1}$',fontsize=16) #label vector a\n",
    "ax.text(-0.015,-0.02,r'$\\mathbf{b}_{V_1}$',fontsize=16) #label vector b\n",
    "\n",
    "ax.set_xticks([]); ax.set_yticks([]) # remove ticks\n",
    "\n",
    "plt.show() # show plot\n",
    "del fig,ax"
   ]
  },
  {
   "cell_type": "markdown",
   "id": "still-monkey",
   "metadata": {},
   "source": [
    "### Orientation Relationship\n",
    "\n",
    "| Variant Transformation | Twin Type        | Twin Boundary |\n",
    "| :--------------------: | :--------------: | :-----------: |\n",
    "| $V_1 \\to V_4$          | Non-conventional | $(1 q_3 0)_m$ |\n",
    "| $V_4 \\to V_2$          | Compound         | $(1 1 0)_m$   |\n",
    "| $V_2 \\to V_3$          | Non-conventional | $(1 q_3 0)_m$ |\n",
    "| $V_3 \\to V_4$          | Compound         | $(1 0 0)_m$   |\n"
   ]
  },
  {
   "cell_type": "markdown",
   "id": "abstract-municipality",
   "metadata": {},
   "source": [
    "#### $V_4$\n",
    "\n",
    "Orientation relationship"
   ]
  },
  {
   "cell_type": "code",
   "execution_count": 5,
   "id": "detailed-charter",
   "metadata": {},
   "outputs": [],
   "source": [
    "## Orientation Relationship   rL: V₁ → V₄ \n",
    "\n",
    "#(1 q3 0) NC twins\n",
    "C = applythresh(rotationmatrix([0,0,-1],np.pi/2)) \n",
    "rL_v1tov4 = OR_RefFrame([1,q3,0],[q3,-1,0],C,rPv1,a)\n",
    "#rL_v1tov4 = rotationmatrix(rPv1 @ [0,0,1],np.pi/2)\n",
    "\n",
    "#Transformation relation: R ↔ V₄\n",
    "rPv4 = rL_v1tov4 @ rPv1\n",
    "del rL_v1tov4,C"
   ]
  },
  {
   "cell_type": "markdown",
   "id": "weekly-morris",
   "metadata": {},
   "source": [
    "Angle between TB pair: $(100)_{V_4}$ & $(110)_{V_4}$"
   ]
  },
  {
   "cell_type": "code",
   "execution_count": 6,
   "id": "boxed-pittsburgh",
   "metadata": {},
   "outputs": [
    {
     "name": "stdout",
     "output_type": "stream",
     "text": [
      "angle between (100) and (110) pair: 44.9488 degrees\n"
     ]
    }
   ],
   "source": [
    "## Angle between (100) and (110) pair\n",
    "alpha1 = angleTBpair(rPv4,[1,0,0],[1,1,0])\n",
    "print('angle between (100) and (110) pair: %.4f degrees' % alpha1)"
   ]
  },
  {
   "cell_type": "markdown",
   "id": "practical-strand",
   "metadata": {},
   "source": [
    "$V_4$ lattice vectors: $\\boldsymbol{a}$ & $\\boldsymbol{b}$"
   ]
  },
  {
   "cell_type": "code",
   "execution_count": 7,
   "id": "integrated-broadcasting",
   "metadata": {},
   "outputs": [
    {
     "name": "stdout",
     "output_type": "stream",
     "text": [
      "[[ 0.008   0.9952  0.    ]\n",
      " [ 1.     -0.0144  0.    ]\n",
      " [ 0.      0.     -0.935 ]]\n"
     ]
    },
    {
     "data": {
      "image/png": "[encoded data removed]",
      "text/plain": [
       "<Figure size 432x288 with 1 Axes>"
      ]
     },
     "metadata": {},
     "output_type": "display_data"
    }
   ],
   "source": [
    "print(rPv4)\n",
    "\n",
    "## plot lattice vectors a and b\n",
    "fig, ax = latticevectors_ab(rPv4)\n",
    "\n",
    "ax.text(-0.015,0.022,r'$\\mathbf{a}_{V_4}$',fontsize=16) #label vector a\n",
    "ax.text(+0.016,-0.009,r'$\\mathbf{b}_{V_4}$',fontsize=16) #label vector b\n",
    "\n",
    "ax.set_xticks([]); ax.set_yticks([]) # remove ticks\n",
    "\n",
    "plt.show() # show plot\n",
    "del fig,ax"
   ]
  },
  {
   "cell_type": "markdown",
   "id": "sufficient-material",
   "metadata": {},
   "source": [
    "#### $V_2$\n",
    "\n",
    "Orientation relationship"
   ]
  },
  {
   "cell_type": "code",
   "execution_count": 8,
   "id": "whole-chamber",
   "metadata": {},
   "outputs": [],
   "source": [
    "## Orientation Relationship   rL: V₄ → V₂\n",
    "\n",
    "#(1 1 0) compound twin\n",
    "rL_v4tov2 = rotationmatrix([1,1,0]@inv(rPv4),np.pi)\n",
    "\n",
    "#Transformation relation: R ↔ V₂\n",
    "rPv2 = rL_v4tov2 @ rPv4\n",
    "del rL_v4tov2"
   ]
  },
  {
   "cell_type": "markdown",
   "id": "increased-absolute",
   "metadata": {},
   "source": [
    "Angle between TB pair: $(1 q_3 0)_{V_2}$ & $(110)_{V_2}$"
   ]
  },
  {
   "cell_type": "code",
   "execution_count": 9,
   "id": "stock-oxygen",
   "metadata": {},
   "outputs": [
    {
     "name": "stdout",
     "output_type": "stream",
     "text": [
      "angle between (1 q3 0) and (110) pair: 117.3403 degrees\n"
     ]
    }
   ],
   "source": [
    "## Angle between (1 q3 0) and (110) pair\n",
    "alpha2 = 180 - angleTBpair(rPv2,[1,q3,0],[1,1,0])\n",
    "print('angle between (1 q3 0) and (110) pair: %.4f degrees' % alpha2)"
   ]
  },
  {
   "cell_type": "markdown",
   "id": "basic-mounting",
   "metadata": {},
   "source": [
    "$V_2$ lattice vectors: $\\boldsymbol{a}$ & $\\boldsymbol{b}$"
   ]
  },
  {
   "cell_type": "code",
   "execution_count": 10,
   "id": "latin-diana",
   "metadata": {},
   "outputs": [
    {
     "name": "stdout",
     "output_type": "stream",
     "text": [
      "[[ 0.9998  0.0126  0.    ]\n",
      " [-0.0191  0.9952  0.    ]\n",
      " [ 0.      0.      0.935 ]]\n"
     ]
    },
    {
     "data": {
      "image/png": "[encoded data removed]",
      "text/plain": [
       "<Figure size 432x288 with 1 Axes>"
      ]
     },
     "metadata": {},
     "output_type": "display_data"
    }
   ],
   "source": [
    "print(rPv2)\n",
    "\n",
    "## plot lattice vectors a and b\n",
    "fig, ax = latticevectors_ab(rPv2)\n",
    "\n",
    "ax.text(+0.016,-0.008,r'$\\mathbf{a}_{V_2}$',fontsize=16) #label vector a\n",
    "ax.text(-0.015,0.022,r'$\\mathbf{b}_{V_2}$',fontsize=16) #label vector b\n",
    "\n",
    "ax.set_xticks([]); ax.set_yticks([]) # remove ticks\n",
    "\n",
    "plt.show() # show plot\n",
    "del fig,ax"
   ]
  },
  {
   "cell_type": "markdown",
   "id": "wrong-tenant",
   "metadata": {},
   "source": [
    "#### $V_3$\n",
    "\n",
    "Orientation relationship"
   ]
  },
  {
   "cell_type": "code",
   "execution_count": 11,
   "id": "historical-syria",
   "metadata": {},
   "outputs": [],
   "source": [
    "## Orientation Relationship   rL: V₂ → V₃\n",
    "\n",
    "#(1 q3 0) NC twin\n",
    "C = applythresh(rotationmatrix([0,0,-1],np.pi/2))\n",
    "rL_v2tov3 = OR_RefFrame([1,q3,0],[q3,-1,0],C,rPv2,a)\n",
    "#rL_v2tov3 = rotationmatrix(rPv2 @ [0,0,1],np.pi/2)\n",
    "\n",
    "#Transformation relation: R ↔ V₃\n",
    "rPv3 = rL_v2tov3 @ rPv2\n",
    "del rL_v2tov3,C"
   ]
  },
  {
   "cell_type": "markdown",
   "id": "random-sending",
   "metadata": {},
   "source": [
    "TB pair: $(q_3 \\bar{1} 0)_{V_3}$ & $(100)_{V_3}$"
   ]
  },
  {
   "cell_type": "code",
   "execution_count": 12,
   "id": "demanding-drive",
   "metadata": {},
   "outputs": [
    {
     "name": "stdout",
     "output_type": "stream",
     "text": [
      "angle between (q3 -1 0) and (100) pair: 198.0660 degrees\n"
     ]
    }
   ],
   "source": [
    "## Angle between (q3 -1 0) and (1 0 0) pair\n",
    "alpha3 = 180 + angleTBpair(rPv3,[q3,-1,0],[1,0,0])\n",
    "print('angle between (q3 -1 0) and (100) pair: %.4f degrees' % alpha3)"
   ]
  },
  {
   "cell_type": "markdown",
   "id": "hawaiian-kentucky",
   "metadata": {},
   "source": [
    "$V_3$ lattice vectors: $\\boldsymbol{a}$ & $\\boldsymbol{b}$"
   ]
  },
  {
   "cell_type": "code",
   "execution_count": 13,
   "id": "warming-convert",
   "metadata": {},
   "outputs": [
    {
     "name": "stdout",
     "output_type": "stream",
     "text": [
      "[[-0.0111  0.9953  0.    ]\n",
      " [-0.9999 -0.0046  0.    ]\n",
      " [ 0.      0.      0.935 ]]\n"
     ]
    },
    {
     "data": {
      "image/png": "[encoded data removed]",
      "text/plain": [
       "<Figure size 432x288 with 1 Axes>"
      ]
     },
     "metadata": {},
     "output_type": "display_data"
    }
   ],
   "source": [
    "print(rPv3)\n",
    "\n",
    "## plot lattice vectors a and b\n",
    "fig, ax = latticevectors_ab(rPv3)\n",
    "\n",
    "ax.text(-0.015,-0.02,r'$\\mathbf{a}_{V_3}$',fontsize=16) #label vector a\n",
    "ax.text(+0.015,+0.005,r'$\\mathbf{b}_{V_3}$',fontsize=16) #label vector b\n",
    "\n",
    "ax.set_xticks([]); ax.set_yticks([]) # remove ticks\n",
    "\n",
    "plt.show() # show plot\n",
    "del fig,ax"
   ]
  },
  {
   "cell_type": "markdown",
   "id": "pending-kuwait",
   "metadata": {},
   "source": [
    "### Sum of Angles"
   ]
  },
  {
   "cell_type": "code",
   "execution_count": 14,
   "id": "premier-tooth",
   "metadata": {},
   "outputs": [
    {
     "name": "stdout",
     "output_type": "stream",
     "text": [
      "sum of angles: 360.3551 degrees\n",
      "\n",
      "disclination angle: 0.3551 degrees\n"
     ]
    }
   ],
   "source": [
    "sum_of_angles = alpha1+alpha2+alpha3\n",
    "print('sum of angles: %.4f degrees' % sum_of_angles)\n",
    "print()\n",
    "\n",
    "disclination_angle = sum_of_angles - 360\n",
    "print('disclination angle: %.4f degrees' % disclination_angle)"
   ]
  }
 ],
 "metadata": {
  "kernelspec": {
   "display_name": "Python 3",
   "language": "python",
   "name": "python3"
  },
  "language_info": {
   "codemirror_mode": {
    "name": "ipython",
    "version": 3
   },
   "file_extension": ".py",
   "mimetype": "text/x-python",
   "name": "python",
   "nbconvert_exporter": "python",
   "pygments_lexer": "ipython3",
   "version": "3.8.11"
  }
 },
 "nbformat": 4,
 "nbformat_minor": 5
}
