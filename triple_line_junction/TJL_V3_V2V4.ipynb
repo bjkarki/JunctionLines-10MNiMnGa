{
 "cells": [
  {
   "cell_type": "markdown",
   "id": "bfae6868-9701-4715-997c-5ab50dca4ea4",
   "metadata": {},
   "source": [
    "### Import packages"
   ]
  },
  {
   "cell_type": "code",
   "execution_count": 1,
   "id": "94eeaef2-ceb6-4585-b0bc-e2e3530b81ca",
   "metadata": {},
   "outputs": [],
   "source": [
    "## numpy: package for cumputing numerical arrays\n",
    "from numpy.linalg import inv #inverse of a matrix\n",
    "import numpy as np\n",
    "np.set_printoptions(precision=4) #precision of arrays\n",
    "#i have set a custom threshold of 9 sigfigs after decimal\n",
    "\n",
    "## matplotlib: package for plotting\n",
    "from matplotlib import pyplot as plt\n",
    "%matplotlib inline\n",
    "\n",
    "## import functions from twinning\n",
    "import sys; sys.path.insert(0, '..')\n",
    "from nmgjunctions.twinning import *"
   ]
  },
  {
   "cell_type": "markdown",
   "id": "60105a98-e4e6-4f49-bc6c-3a923fdebb0c",
   "metadata": {},
   "source": [
    "### 10M Ni-Mn-Ga\n",
    "\n",
    "1. Lattice parameters\n",
    "2. Irrational element of NC twins"
   ]
  },
  {
   "cell_type": "code",
   "execution_count": 2,
   "id": "8e08a7cd-3574-4e77-b98a-6e2d02445a0b",
   "metadata": {},
   "outputs": [
    {
     "name": "stdout",
     "output_type": "stream",
     "text": [
      "q₃ = -3.074, q₄ = 0.325\n"
     ]
    }
   ],
   "source": [
    "## lattice parameters\n",
    "a,b,c,gamma = [0.5972, 0.5944, 0.5584, np.deg2rad(90.37)] #NMG lattice parameter: Seiner et al. (2019)\n",
    "#a,b,c,gamma = [1., 0.97, 0.94, np.deg2rad(94)] #Exaggerated lattice\n",
    "\n",
    "## irrational element of NC twins\n",
    "q3 = (2*a*b*np.cos(gamma) - np.sqrt(a**4 + b**4 + 2*a**2*b**2*np.cos(2*gamma)))/(a**2 - b**2)\n",
    "q4 = (2*a*b*np.cos(gamma) + np.sqrt(a**4 + b**4 + 2*a**2*b**2*np.cos(2*gamma)))/(a**2 - b**2)\n",
    "print ('q₃ = %.3f, q₄ = %.3f' % (q3, q4))\n",
    "## q4 * q3 ≃ -1"
   ]
  },
  {
   "cell_type": "markdown",
   "id": "94827a96-daf8-4e2f-9944-8ddd9a4ddfdf",
   "metadata": {},
   "source": [
    "### $V_2$"
   ]
  },
  {
   "cell_type": "code",
   "execution_count": 3,
   "id": "d54f3d76-4b42-433f-bc04-233677bb5332",
   "metadata": {},
   "outputs": [
    {
     "name": "stdout",
     "output_type": "stream",
     "text": [
      "[[ 1.     -0.0064  0.    ]\n",
      " [ 0.      0.9953  0.    ]\n",
      " [ 0.      0.      0.935 ]]\n"
     ]
    },
    {
     "data": {
      "image/png": "[encoded data removed]",
      "text/plain": [
       "<Figure size 432x288 with 1 Axes>"
      ]
     },
     "metadata": {},
     "output_type": "display_data"
    }
   ],
   "source": [
    "## Transformation: R ↔ V₂\n",
    "rPv2 = np.array([[1,b/a*np.cos(gamma),0],[0,b/a*np.sin(gamma),0],[0,0,c/a]])\n",
    "print(applythresh(rPv2))\n",
    "\n",
    "## plot lattice vectors a and b\n",
    "fig, ax = latticevectors_ab(rPv2)\n",
    "\n",
    "ax.text(+0.015,-0.008,r'$\\mathbf{a}_{V_2}$',fontsize=16) #label vector a\n",
    "ax.text(-0.015,+0.02,r'$\\mathbf{b}_{V_2}$',fontsize=16) #label vector b\n",
    "\n",
    "ax.set_xticks([]); ax.set_yticks([]) # remove ticks\n",
    "\n",
    "plt.show() # show plot\n",
    "del fig,ax"
   ]
  },
  {
   "cell_type": "markdown",
   "id": "dbd2769c-f011-4107-a1ca-fe981843f03e",
   "metadata": {},
   "source": [
    "### $V_4$"
   ]
  },
  {
   "cell_type": "code",
   "execution_count": 4,
   "id": "2c396479-3977-4609-b0f1-6fc259517084",
   "metadata": {},
   "outputs": [
    {
     "name": "stdout",
     "output_type": "stream",
     "text": [
      "[[-0.0111  0.9953  0.    ]\n",
      " [ 0.9999  0.0046  0.    ]\n",
      " [ 0.      0.     -0.935 ]]\n"
     ]
    },
    {
     "data": {
      "image/png": "[encoded data removed]",
      "text/plain": [
       "<Figure size 432x288 with 1 Axes>"
      ]
     },
     "metadata": {},
     "output_type": "display_data"
    }
   ],
   "source": [
    "## Transformation relation: R ↔ V₄\n",
    "\n",
    "#(1 1 0) compound twin\n",
    "rL_v2tov4 = rotationmatrix([1,1,0] @ inv(rPv2), np.pi)\n",
    "\n",
    "#Orientation Relationship   ᴿL : V₂ → V₄\n",
    "rPv4 = rL_v2tov4 @ rPv2\n",
    "\n",
    "print(rPv4)\n",
    "\n",
    "## plot lattice vectors a and b\n",
    "fig, ax = latticevectors_ab(rPv4)\n",
    "\n",
    "ax.text(-0.015,0.018,r'$\\mathbf{a}_{V_4}$',fontsize=16) #label vector a\n",
    "ax.text(+0.015,-0.010,r'$\\mathbf{b}_{V_4}$',fontsize=16) #label vector b\n",
    "\n",
    "ax.set_xticks([]); ax.set_yticks([]) # remove ticks\n",
    "\n",
    "plt.show() # show plot\n",
    "del fig,ax"
   ]
  },
  {
   "cell_type": "markdown",
   "id": "8cdca82c-b41b-431e-a809-cf6f787e3ec4",
   "metadata": {},
   "source": [
    "### $V_3$"
   ]
  },
  {
   "cell_type": "code",
   "execution_count": 5,
   "id": "5a8147b8-ae58-48e8-ad1f-0ce197a2c8fc",
   "metadata": {},
   "outputs": [
    {
     "name": "stdout",
     "output_type": "stream",
     "text": [
      "[[ 0.0018 -0.9953  0.    ]\n",
      " [ 1.     -0.0046  0.    ]\n",
      " [ 0.      0.      0.935 ]]\n"
     ]
    },
    {
     "data": {
      "image/png": "[encoded data removed]",
      "text/plain": [
       "<Figure size 432x288 with 1 Axes>"
      ]
     },
     "metadata": {},
     "output_type": "display_data"
    }
   ],
   "source": [
    "## Transformation relation: R ↔ V₃\n",
    "\n",
    "#(1̅ 0 0) compound twin\n",
    "rL_v4tov3 = rotationmatrix([-1,0,0] @ inv(rPv4), np.pi)\n",
    "\n",
    "#Orientation Relationship   ᴿL : V₄ → V₃\n",
    "rPv3 = rL_v4tov3 @ rPv4\n",
    "\n",
    "print(rPv3)\n",
    "\n",
    "## plot lattice vectors a and b\n",
    "fig, ax = latticevectors_ab(rPv3)\n",
    "\n",
    "ax.text(+0.003,0.018,r'$\\mathbf{a}_{V_3}$',fontsize=16) #label vector a\n",
    "ax.text(-0.025,-0.010,r'$\\mathbf{b}_{V_3}$',fontsize=16) #label vector b\n",
    "\n",
    "ax.set_xticks([]); ax.set_yticks([]) # remove ticks\n",
    "\n",
    "plt.show() # show plot\n",
    "del fig,ax"
   ]
  },
  {
   "cell_type": "markdown",
   "id": "b96f9706-54cd-4449-8f8a-1caf7c7b0de8",
   "metadata": {},
   "source": [
    "### $V^*_2$"
   ]
  },
  {
   "cell_type": "code",
   "execution_count": 6,
   "id": "e222b48d-dbc9-4e66-aa08-aac03386709a",
   "metadata": {},
   "outputs": [
    {
     "name": "stdout",
     "output_type": "stream",
     "text": [
      "[[ 1.      0.0033  0.    ]\n",
      " [-0.0098  0.9953  0.    ]\n",
      " [ 0.      0.      0.935 ]]\n"
     ]
    },
    {
     "data": {
      "image/png": "[encoded data removed]",
      "text/plain": [
       "<Figure size 432x288 with 1 Axes>"
      ]
     },
     "metadata": {},
     "output_type": "display_data"
    }
   ],
   "source": [
    "## Transformation relation: R ↔ V₂\n",
    "\n",
    "#(1 q4 0) NC twins\n",
    "C = applythresh(rotationmatrix([0,0,-1],np.pi/2)) \n",
    "rL_v3tov2 = OR_RefFrame([1,q4,0],[-q4,1,0],C,rPv3,a)\n",
    "\n",
    "#Orientation Relationship   ᴿL : V₃ → V₂*\n",
    "rPv2s = rL_v3tov2 @ rPv3\n",
    "\n",
    "print(rPv2s)\n",
    "\n",
    "## plot lattice vectors a and b\n",
    "fig, ax = latticevectors_ab(rPv2s)\n",
    "\n",
    "ax.text(+0.015,-0.008,r'$\\mathbf{a}_{V_2}$',fontsize=16) #label vector a\n",
    "ax.text(-0.015,+0.02,r'$\\mathbf{b}_{V_2}$',fontsize=16) #label vector b\n",
    "\n",
    "ax.set_xticks([]); ax.set_yticks([]) # remove ticks\n",
    "\n",
    "plt.show() # show plot\n",
    "del fig,ax"
   ]
  },
  {
   "cell_type": "markdown",
   "id": "b7a7986e-90bb-4a3d-ad74-23ff915eb1ea",
   "metadata": {},
   "source": [
    "### $V_2 \\to V_4 \\to V_3 \\to V_2$"
   ]
  },
  {
   "cell_type": "code",
   "execution_count": 7,
   "id": "bcc8d786-942b-4b0e-91b6-a85afabdd467",
   "metadata": {},
   "outputs": [
    {
     "name": "stdout",
     "output_type": "stream",
     "text": [
      "angle between (1 q̅₃ 0) and (1 1 0) pair: 26.7730 degrees\n",
      "angle between (1 1 0) and (1̅ 0 0) pair: 135.0512 degrees\n",
      "angle between (1̅ 0 0) and (1 q̅₄ 0) pair: 198.1375 degrees\n",
      "ω = 0.0383 degrees\n"
     ]
    }
   ],
   "source": [
    "### V₂ → V₄ → V₃ → V₂\n",
    "\n",
    "## V₂\n",
    "#Angle between (1 q̅₃ 0) and (1 1 0) pair\n",
    "alpha1 = angleTBpair(rPv2,[1,-q3,0],[1,1,0])\n",
    "print('angle between (1 q̅₃ 0) and (1 1 0) pair: %.4f degrees' % alpha1)\n",
    "\n",
    "## V₄\n",
    "#Angle between (1 1 0) and (1̅ 0 0) pair\n",
    "alpha2 = 180 - angleTBpair(rPv4,[1,1,0],[-1,0,0])\n",
    "print('angle between (1 1 0) and (1̅ 0 0) pair: %.4f degrees' % alpha2)\n",
    "\n",
    "## V₃\n",
    "#Angle between (1̅ 0 0) and (1 q̅₄ 0) pair\n",
    "alpha3 = 180 + angleTBpair(rPv2,[-1,0,0],[1,-q4,0])\n",
    "print('angle between (1̅ 0 0) and (1 q̅₄ 0) pair: %.4f degrees' % alpha3)\n",
    "\n",
    "### disclination strength\n",
    "angle = alpha1 + alpha2 + alpha3\n",
    "print ('ω = %.4f degrees' % (360 - angle))\n",
    "del angle,alpha1,alpha2,alpha3"
   ]
  },
  {
   "cell_type": "markdown",
   "id": "f7c11acb-813b-4cc6-aec0-e69df899b1e1",
   "metadata": {},
   "source": [
    "### $V_4 \\to V_2 \\to V_3 \\to V_4$"
   ]
  },
  {
   "cell_type": "code",
   "execution_count": 8,
   "id": "7fa6f301-a09c-46a9-8c86-ffc03f143468",
   "metadata": {},
   "outputs": [
    {
     "name": "stdout",
     "output_type": "stream",
     "text": [
      "angle between (1 0 0) and (1 1 0) pair: 44.9488 degrees\n",
      "angle between (1 1 0) and (1̅ q₃ 0) pair: 153.2270 degrees\n",
      "angle between (1̅ q₄ 0) and (1 1 0) pair: 161.8625 degrees\n",
      "ω = -0.0383 degrees\n"
     ]
    }
   ],
   "source": [
    "### V₄ → V₂ → V₃ → V₄\n",
    "\n",
    "## V₄\n",
    "#Angle between (1 0 0) and (1 1 0) pair\n",
    "alpha1 = angleTBpair(rPv4,[1,0,0],[1,1,0])\n",
    "print('angle between (1 0 0) and (1 1 0) pair: %.4f degrees' % alpha1)\n",
    "\n",
    "## V₂\n",
    "#Angle between (1 1 0) and (1̅ q₃ 0) pair\n",
    "alpha2 = 180 - angleTBpair(rPv2,[1,1,0],[-1,q3,0])\n",
    "print('angle between (1 1 0) and (1̅ q₃ 0) pair: %.4f degrees' % alpha2)\n",
    "\n",
    "## V₃\n",
    "#Angle between (1̅ q₄ 0) and (1 1 0) pair\n",
    "alpha3 = 180 - angleTBpair(rPv3,[-1,q4,0],[1,0,0])\n",
    "print('angle between (1̅ q₄ 0) and (1 1 0) pair: %.4f degrees' % alpha3)\n",
    "\n",
    "### disclination strength\n",
    "angle = alpha1 + alpha2 + alpha3\n",
    "print ('ω = %.4f degrees' % (360 - angle))\n",
    "del angle,alpha1,alpha2,alpha3"
   ]
  },
  {
   "cell_type": "markdown",
   "id": "e6838f9d-67e8-43e5-81d5-c5ac26d398d0",
   "metadata": {},
   "source": [
    "#### $M\\ =\\ ^RL(V_3 \\to V_2)\\ ^RL(V_4 \\to V_3)\\ ^RL(V_2 \\to V_4)$"
   ]
  },
  {
   "cell_type": "code",
   "execution_count": 9,
   "id": "87ce7892-86e1-4d2a-8805-7de523fc2608",
   "metadata": {},
   "outputs": [
    {
     "name": "stdout",
     "output_type": "stream",
     "text": [
      "[[ 1.      0.0098  0.    ]\n",
      " [-0.0098  1.      0.    ]\n",
      " [ 0.      0.      1.    ]]\n"
     ]
    },
    {
     "data": {
      "text/plain": [
       "0.5600737003415089"
      ]
     },
     "execution_count": 9,
     "metadata": {},
     "output_type": "execute_result"
    }
   ],
   "source": [
    "M = rL_v3tov2 @ rL_v4tov3 @ rL_v2tov4\n",
    "print(M)\n",
    "np.rad2deg(np.arcsin(M[0,1]))"
   ]
  }
 ],
 "metadata": {
  "kernelspec": {
   "display_name": "Python 3",
   "language": "python",
   "name": "python3"
  },
  "language_info": {
   "codemirror_mode": {
    "name": "ipython",
    "version": 3
   },
   "file_extension": ".py",
   "mimetype": "text/x-python",
   "name": "python",
   "nbconvert_exporter": "python",
   "pygments_lexer": "ipython3",
   "version": "3.8.11"
  }
 },
 "nbformat": 4,
 "nbformat_minor": 5
}
